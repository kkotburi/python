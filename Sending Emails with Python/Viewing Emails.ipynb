{
 "cells": [
  {
   "cell_type": "code",
   "execution_count": 1,
   "id": "26168ade-49fc-4a94-9e9b-7ad95698ed71",
   "metadata": {},
   "outputs": [],
   "source": [
    "import imaplib"
   ]
  },
  {
   "cell_type": "code",
   "execution_count": 1,
   "id": "49cb9748-ae68-4082-a63b-b4feac7517a4",
   "metadata": {},
   "outputs": [],
   "source": [
    "# M = imaplib.IMAP4_SSL('imp.gmail.com')"
   ]
  },
  {
   "cell_type": "code",
   "execution_count": 3,
   "id": "1e1f55d9-0637-43ab-ac11-0b59344ed895",
   "metadata": {},
   "outputs": [],
   "source": [
    "import getpass"
   ]
  },
  {
   "cell_type": "code",
   "execution_count": 5,
   "id": "839b2b39-151c-4ba4-b30d-2a57af7f4341",
   "metadata": {},
   "outputs": [
    {
     "name": "stdin",
     "output_type": "stream",
     "text": [
      "Email:  ········\n",
      "Password:  ········\n"
     ]
    }
   ],
   "source": [
    "email = getpass.getpass(\"Email: \")\n",
    "password = getpass.getpass('Password: ')"
   ]
  },
  {
   "cell_type": "code",
   "execution_count": 11,
   "id": "65288f0d-1a48-4170-a26e-e3f1b5a6e05a",
   "metadata": {},
   "outputs": [],
   "source": [
    "# M.login(email.password)"
   ]
  },
  {
   "cell_type": "code",
   "execution_count": 15,
   "id": "1d2524f4-6d33-41ee-8a86-21813217b7d5",
   "metadata": {},
   "outputs": [],
   "source": [
    "# M.list()"
   ]
  },
  {
   "cell_type": "code",
   "execution_count": 17,
   "id": "de83e58d-6894-4dd3-8e57-ca412174380e",
   "metadata": {},
   "outputs": [],
   "source": [
    "# M.select('inbox')"
   ]
  },
  {
   "cell_type": "code",
   "execution_count": 19,
   "id": "ae9ee0aa-f93b-44a3-a7bf-55013ea994f7",
   "metadata": {},
   "outputs": [],
   "source": [
    "# typ, data = M.search(None,'BEFORE 01-Nov-2000')"
   ]
  },
  {
   "cell_type": "code",
   "execution_count": 21,
   "id": "a635e93a-b5cb-4383-8cda-a5fd739d2a33",
   "metadata": {},
   "outputs": [],
   "source": [
    "# typ, data = M.search(None,'FROM user@example.com')"
   ]
  },
  {
   "cell_type": "code",
   "execution_count": 23,
   "id": "292806cc-7597-4b76-bb7e-cb7f53116899",
   "metadata": {},
   "outputs": [],
   "source": [
    "# typ, data = M.search(None,'SUBJECT \"NEW TEST PYTHON\"')"
   ]
  },
  {
   "cell_type": "code",
   "execution_count": 27,
   "id": "f4fd2d6b-11ca-4432-bce9-9fd024299f39",
   "metadata": {},
   "outputs": [],
   "source": [
    "# typ"
   ]
  },
  {
   "cell_type": "code",
   "execution_count": 31,
   "id": "046a9a81-8439-48ba-8b43-0648d0d1e584",
   "metadata": {},
   "outputs": [],
   "source": [
    "# data"
   ]
  },
  {
   "cell_type": "code",
   "execution_count": 33,
   "id": "aab2fcfa-78bc-407a-9151-ef948f25d6e1",
   "metadata": {},
   "outputs": [],
   "source": [
    "# id = data[0]"
   ]
  },
  {
   "cell_type": "code",
   "execution_count": 35,
   "id": "b569b53a-4c2d-4626-a3f6-cf58a9fcf874",
   "metadata": {},
   "outputs": [],
   "source": [
    "# result , email_data = M.fetch(email_id,'(RFC822)')"
   ]
  },
  {
   "cell_type": "code",
   "execution_count": 41,
   "id": "1999ae1d-b478-44c6-b207-fd736ecc88f1",
   "metadata": {},
   "outputs": [],
   "source": [
    "# # email_data"
   ]
  },
  {
   "cell_type": "code",
   "execution_count": 47,
   "id": "6003a1aa-c681-49f9-818d-aa49d86edb6a",
   "metadata": {},
   "outputs": [],
   "source": [
    "# raw_email = email_data[0][1]"
   ]
  },
  {
   "cell_type": "code",
   "execution_count": 49,
   "id": "20fd565d-27db-4298-8d0d-48c0229dcc06",
   "metadata": {},
   "outputs": [],
   "source": [
    "# raw_email_string = raw_email.decode('utf-8')"
   ]
  },
  {
   "cell_type": "code",
   "execution_count": 51,
   "id": "36a38c2b-a6fe-4ead-adc3-50856995b669",
   "metadata": {},
   "outputs": [],
   "source": [
    "import email"
   ]
  },
  {
   "cell_type": "code",
   "execution_count": 53,
   "id": "38b506d9-c578-48be-bb3a-182289650b5e",
   "metadata": {},
   "outputs": [],
   "source": [
    "# email_message = email.message_from_string(raw_email_string)"
   ]
  },
  {
   "cell_type": "code",
   "execution_count": null,
   "id": "4e7fe0ba-0ec4-488e-b036-d15e9ba596fb",
   "metadata": {},
   "outputs": [],
   "source": [
    "# for part in email_message.walk():\n",
    "\n",
    "#     if part.get_content_type() == 'text/html':\n",
    "#         body = part.get_payload(decode=True)\n",
    "#         print(body)"
   ]
  }
 ],
 "metadata": {
  "kernelspec": {
   "display_name": "Python [conda env:base] *",
   "language": "python",
   "name": "conda-base-py"
  },
  "language_info": {
   "codemirror_mode": {
    "name": "ipython",
    "version": 3
   },
   "file_extension": ".py",
   "mimetype": "text/x-python",
   "name": "python",
   "nbconvert_exporter": "python",
   "pygments_lexer": "ipython3",
   "version": "3.12.7"
  }
 },
 "nbformat": 4,
 "nbformat_minor": 5
}
