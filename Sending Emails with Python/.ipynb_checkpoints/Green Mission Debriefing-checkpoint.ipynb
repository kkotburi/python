{
 "cells": [
  {
   "cell_type": "code",
   "execution_count": 2,
   "id": "447c1c08-d86b-451f-8151-a6fbb4fd9f03",
   "metadata": {},
   "outputs": [
    {
     "data": {
      "text/plain": [
       "(220, b'2.0.0 Ready to start TLS')"
      ]
     },
     "execution_count": 2,
     "metadata": {},
     "output_type": "execute_result"
    }
   ],
   "source": [
    "import smtplib\n",
    "smtp_object = smtplib.SMTP('smtp.gmail.com',587)\n",
    "smtp_object.ehlo()\n",
    "smtp_object.starttls()"
   ]
  },
  {
   "cell_type": "code",
   "execution_count": 7,
   "id": "c75f86d2-10a3-4c64-96a5-971c031c4b18",
   "metadata": {},
   "outputs": [],
   "source": [
    "import getpass\n",
    "email = getpass.getpass('Email: ')\n",
    "password = getpass.getpass('Password: ')\n",
    "smtp_object.login(email.password)"
   ]
  },
  {
   "cell_type": "code",
   "execution_count": 11,
   "id": "7e4b2934-2578-4a3c-9f68-5bc8121f31f5",
   "metadata": {},
   "outputs": [],
   "source": [
    "from_address = email\n",
    "to_address = 'info@thegoldbugs.com'\n",
    "subject = 'test'\n",
    "message = 'please reply'\n",
    "msg = 'Subject: '+subject+'\\n'+message\n",
    "smtp_object.sendmail(from_address,to_address,msg)"
   ]
  },
  {
   "cell_type": "code",
   "execution_count": 13,
   "id": "6ee39c29-2edc-49ae-810b-d5bf91543e22",
   "metadata": {},
   "outputs": [],
   "source": [
    "import imaplib"
   ]
  },
  {
   "cell_type": "code",
   "execution_count": 15,
   "id": "43fad18e-36ad-4660-9f6d-35bc67d94542",
   "metadata": {},
   "outputs": [],
   "source": [
    "M = imaplib.IMAP4_SSL('imap.gmail.com')"
   ]
  },
  {
   "cell_type": "code",
   "execution_count": 19,
   "id": "ceba1a8f-6810-4ae4-9256-af992a663062",
   "metadata": {},
   "outputs": [],
   "source": [
    "M.login(email.password)"
   ]
  },
  {
   "cell_type": "code",
   "execution_count": null,
   "id": "f27ee784-683a-4668-99a3-0978b547a35e",
   "metadata": {},
   "outputs": [],
   "source": [
    "M.select('inbox')"
   ]
  },
  {
   "cell_type": "code",
   "execution_count": null,
   "id": "6461efc1-c9ff-4261-9011-457253b90616",
   "metadata": {},
   "outputs": [],
   "source": [
    "typ, data = M.search(None,'FROM info@thegoldbugs.com')"
   ]
  },
  {
   "cell_type": "code",
   "execution_count": null,
   "id": "a6d7ae5e-4b2b-4dcb-845b-0f679a62fade",
   "metadata": {},
   "outputs": [],
   "source": [
    "typ"
   ]
  },
  {
   "cell_type": "code",
   "execution_count": null,
   "id": "d0d982cb-9e9b-428f-89ea-63548743de48",
   "metadata": {},
   "outputs": [],
   "source": [
    "data"
   ]
  },
  {
   "cell_type": "code",
   "execution_count": null,
   "id": "1e5f1e0e-22c0-474f-8b3e-4c33b59e1726",
   "metadata": {},
   "outputs": [],
   "source": [
    "result , email_data = M.fetch('289494','(RFC822)')"
   ]
  },
  {
   "cell_type": "code",
   "execution_count": null,
   "id": "a0362033-4eb1-4842-b9a8-aeb91f352ea9",
   "metadata": {},
   "outputs": [],
   "source": [
    "raw_email = email_data[0][1]"
   ]
  },
  {
   "cell_type": "code",
   "execution_count": null,
   "id": "e688cc21-55d2-4f23-ad88-1717f4dbcfe3",
   "metadata": {},
   "outputs": [],
   "source": [
    "raw_email_string = raw_email.decode('utf-8')"
   ]
  },
  {
   "cell_type": "code",
   "execution_count": null,
   "id": "fc235dfc-16fb-4000-9371-1808fd33b90a",
   "metadata": {},
   "outputs": [],
   "source": [
    "import email"
   ]
  },
  {
   "cell_type": "code",
   "execution_count": null,
   "id": "ecb509be-069b-49be-b442-2b514ded29b6",
   "metadata": {},
   "outputs": [],
   "source": [
    "email_message = email.message_from_string(raw_email_string)"
   ]
  },
  {
   "cell_type": "code",
   "execution_count": null,
   "id": "739dafd1-b732-4379-b74a-a5148657ca02",
   "metadata": {},
   "outputs": [],
   "source": [
    "for part in email_message.walk():\n",
    "\n",
    "    if part.get_content_type() == 'text/html':\n",
    "        body = part.get_payload(decode=True)\n",
    "        print(body)"
   ]
  },
  {
   "cell_type": "code",
   "execution_count": null,
   "id": "9c27dd04-f3a1-48ac-bdd2-366700c0902c",
   "metadata": {},
   "outputs": [],
   "source": []
  }
 ],
 "metadata": {
  "kernelspec": {
   "display_name": "Python [conda env:base] *",
   "language": "python",
   "name": "conda-base-py"
  },
  "language_info": {
   "codemirror_mode": {
    "name": "ipython",
    "version": 3
   },
   "file_extension": ".py",
   "mimetype": "text/x-python",
   "name": "python",
   "nbconvert_exporter": "python",
   "pygments_lexer": "ipython3",
   "version": "3.12.7"
  }
 },
 "nbformat": 4,
 "nbformat_minor": 5
}
