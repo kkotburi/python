{
 "cells": [
  {
   "cell_type": "code",
   "execution_count": 1,
   "id": "e6300876-db19-47e7-a2b1-937e9c18bc01",
   "metadata": {},
   "outputs": [],
   "source": [
    "def decrypt(text,shift):\n",
    "    '''\n",
    "    INPUT: A shifted message and the integer shift value\n",
    "    OUTPUT: The plain text original message.\n",
    "    '''\n",
    "\n",
    "    # Create a normal plain alphabet\n",
    "\n",
    "    # Create a shifted version of this alphanet with the shift value.\n",
    "\n",
    "    # Use a for loop to go through each character in the encrypted message.\n",
    "    # Then figure out its index match in the plain alphabet and replace.\n",
    "    # It might be helpful to create an output variable to hold the new message.\n",
    "\n",
    "    # Keep in mind you may want to skip punctuation with an if statement."
   ]
  },
  {
   "cell_type": "code",
   "execution_count": null,
   "id": "eb6c7703-184c-4c6e-acb5-d965b547cb05",
   "metadata": {},
   "outputs": [],
   "source": [
    "# decrypt('trg guvf zrffntr gb gur znva freire',13)"
   ]
  }
 ],
 "metadata": {
  "kernelspec": {
   "display_name": "Python [conda env:base] *",
   "language": "python",
   "name": "conda-base-py"
  },
  "language_info": {
   "codemirror_mode": {
    "name": "ipython",
    "version": 3
   },
   "file_extension": ".py",
   "mimetype": "text/x-python",
   "name": "python",
   "nbconvert_exporter": "python",
   "pygments_lexer": "ipython3",
   "version": "3.12.7"
  }
 },
 "nbformat": 4,
 "nbformat_minor": 5
}
