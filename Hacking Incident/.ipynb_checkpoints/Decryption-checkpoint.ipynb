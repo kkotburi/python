{
 "cells": [
  {
   "cell_type": "code",
   "execution_count": 21,
   "id": "07a2cecc-9429-4780-8511-95cc4d164ad7",
   "metadata": {},
   "outputs": [],
   "source": [
    "import string\n",
    "\n",
    "def decrypt(text,shift):\n",
    "    '''\n",
    "    INPUT: A shifted message and the integer shift value\n",
    "    OUTPUT: The plain text original message.\n",
    "    '''\n",
    "\n",
    "    # Create a normal plain alphabet\n",
    "    decrypted_text = list(range(len(text)))\n",
    "\n",
    "    alphabet = string.ascii_lowercase\n",
    "\n",
    "    # Create a shifted version of this alphanet with the shift value.\n",
    "    first_half = alphabet[:shift]\n",
    "    second_half = alphabet[shift:]\n",
    "\n",
    "    shifted_alphabet = second_half + first_half\n",
    "\n",
    "\n",
    "    for i,letter in enumerate(text.lower()):\n",
    "\n",
    "        if letter in alphabet:\n",
    "\n",
    "            index = shifted_alphabet.index(letter)\n",
    "            original_letter = alphabet[index]\n",
    "            decrypted_text[i] = original_letter\n",
    "            \n",
    "        else:\n",
    "            decrypted_text[i] = letter\n",
    "    \n",
    "    # Use a for loop to go through each character in the encrypted message.\n",
    "    # Then figure out its index match in the plain alphabet and replace.\n",
    "    # It might be helpful to create an output variable to hold the new message.\n",
    "\n",
    "    # Keep in mind you may want to skip punctuation with an if statement.\n",
    "    \n",
    "    # Return the shifted message. Use ''.join() method\n",
    "    # if you still have it as a list.\n",
    "    \n",
    "    return ''.join(decrypted_text)"
   ]
  },
  {
   "cell_type": "code",
   "execution_count": 23,
   "id": "eb6c7703-184c-4c6e-acb5-d965b547cb05",
   "metadata": {},
   "outputs": [
    {
     "data": {
      "text/plain": [
       "'get this message to the main server'"
      ]
     },
     "execution_count": 23,
     "metadata": {},
     "output_type": "execute_result"
    }
   ],
   "source": [
    "decrypt('trg guvf zrffntr gb gur znva freire',13)"
   ]
  },
  {
   "cell_type": "code",
   "execution_count": null,
   "id": "10366fc9-94d8-455d-9557-a70e68404fe8",
   "metadata": {},
   "outputs": [],
   "source": []
  }
 ],
 "metadata": {
  "kernelspec": {
   "display_name": "Python [conda env:base] *",
   "language": "python",
   "name": "conda-base-py"
  },
  "language_info": {
   "codemirror_mode": {
    "name": "ipython",
    "version": 3
   },
   "file_extension": ".py",
   "mimetype": "text/x-python",
   "name": "python",
   "nbconvert_exporter": "python",
   "pygments_lexer": "ipython3",
   "version": "3.12.7"
  }
 },
 "nbformat": 4,
 "nbformat_minor": 5
}
