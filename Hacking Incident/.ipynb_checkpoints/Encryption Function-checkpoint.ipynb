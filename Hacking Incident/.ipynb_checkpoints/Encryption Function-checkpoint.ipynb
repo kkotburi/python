{
 "cells": [
  {
   "cell_type": "code",
   "execution_count": 21,
   "id": "4b36da1b-2c17-4f64-923e-ff2015986d00",
   "metadata": {},
   "outputs": [],
   "source": [
    "import string\n",
    "\n",
    "def encrypt(text,shift):\n",
    "    '''\n",
    "    INPUT: text as a string and an integer for the shift value.\n",
    "    OUTPUT: The shifted text after being run through the Caeser cipher.\n",
    "    '''\n",
    "\n",
    "    # Create a normal plain alphabet\n",
    "    encrypted_text = list(range(len(text)))\n",
    "\n",
    "    alphabet = string.ascii_lowercase\n",
    "\n",
    "    # Create a shifted version of this alphabet\n",
    "    first_half = alphabet[:shift]\n",
    "    second_half = alphabet[shift:]\n",
    "\n",
    "    shifted_alphabet = second_half + first_half\n",
    "\n",
    "\n",
    "    for i,letter in enumerate(text.lower()):\n",
    "\n",
    "        if letter in alphabet:\n",
    "            \n",
    "            original_index = alphabet.index(letter)\n",
    "            new_letter = shifted_alphabet[original_index]\n",
    "            encrypted_text[i] = new_letter\n",
    "            \n",
    "        else:\n",
    "            encrypted_text[i] = letter\n",
    "            \n",
    "    # (Try slicing using the shift and then reconcatenating the two parts)\n",
    "\n",
    "    # Use a for loop to go through each character in the original message.\n",
    "    # Then figure out its index match in the shifted alphabet and replace.\n",
    "    # It might be helpful to create an output variable to hold the new message.\n",
    "\n",
    "    # Keep in mind you may want to skip punctuation with an if statement.\n",
    "\n",
    "    # Return the shifted message. Use ''.join() method\n",
    "    # if you still have it as a list.\n",
    "\n",
    "    return ''.join(encrypted_text)"
   ]
  },
  {
   "cell_type": "code",
   "execution_count": 17,
   "id": "1b4abdb7-01c7-448e-a49a-54e9bc2ed68f",
   "metadata": {},
   "outputs": [
    {
     "data": {
      "text/plain": [
       "[0, 1, 2, 3, 4]"
      ]
     },
     "execution_count": 17,
     "metadata": {},
     "output_type": "execute_result"
    }
   ],
   "source": [
    "text = 'hello'\n",
    "encrypted_text = list(range(len(text)))\n",
    "encrypted_text"
   ]
  },
  {
   "cell_type": "code",
   "execution_count": 23,
   "id": "6f699003-97cd-4467-8b1b-227412726963",
   "metadata": {},
   "outputs": [
    {
     "data": {
      "text/plain": [
       "'trg guvf zrffntr gb gur znva freire'"
      ]
     },
     "execution_count": 23,
     "metadata": {},
     "output_type": "execute_result"
    }
   ],
   "source": [
    "encrypt('Get this message to the main server',13)"
   ]
  },
  {
   "cell_type": "code",
   "execution_count": null,
   "id": "58ec6943-915d-4e81-a299-0993789e17ab",
   "metadata": {},
   "outputs": [],
   "source": []
  }
 ],
 "metadata": {
  "kernelspec": {
   "display_name": "Python [conda env:base] *",
   "language": "python",
   "name": "conda-base-py"
  },
  "language_info": {
   "codemirror_mode": {
    "name": "ipython",
    "version": 3
   },
   "file_extension": ".py",
   "mimetype": "text/x-python",
   "name": "python",
   "nbconvert_exporter": "python",
   "pygments_lexer": "ipython3",
   "version": "3.12.7"
  }
 },
 "nbformat": 4,
 "nbformat_minor": 5
}
