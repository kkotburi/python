{
 "cells": [
  {
   "cell_type": "code",
   "execution_count": 1,
   "id": "4b36da1b-2c17-4f64-923e-ff2015986d00",
   "metadata": {},
   "outputs": [],
   "source": [
    "import string\n",
    "\n",
    "def encrypt(text,shift):\n",
    "    '''\n",
    "    INPUT: text as a string and an integer for the shift value.\n",
    "    OUTPUT: The shifted text after being run through the Caeser cipher.\n",
    "    '''\n",
    "\n",
    "    # Create a normal plain alphabet\n",
    "    encrypted_text = list(range(len(text)))\n",
    "\n",
    "    alphabet = string.ascii_lowercase\n",
    "\n",
    "    # Create a shifted version of this alphabet\n",
    "    first_half = alphabet[:shift]\n",
    "    second_half = alphabet[shift:]\n",
    "\n",
    "    \n",
    "    # (Try slicing using the shift and then reconcatenating the two parts)\n",
    "\n",
    "    # Use a for loop to go through each character in the original message.\n",
    "    # Then figure out its index match in the shifted alphabet and replace.\n",
    "    # It might be helpful to create an output variable to hold the new message.\n",
    "\n",
    "    # Keep in mind you may want to skip punctuation with an if statement.\n",
    "\n",
    "    # Return the shifted message. Use ''.join() method\n",
    "    # if you still have it as a list.\n",
    "\n",
    "    pass"
   ]
  },
  {
   "cell_type": "code",
   "execution_count": 5,
   "id": "1b4abdb7-01c7-448e-a49a-54e9bc2ed68f",
   "metadata": {},
   "outputs": [
    {
     "data": {
      "text/plain": [
       "[0, 1, 2, 3, 4]"
      ]
     },
     "execution_count": 5,
     "metadata": {},
     "output_type": "execute_result"
    }
   ],
   "source": [
    "text = 'hello'\n",
    "encrypted_text = list(range(len(text)))\n",
    "encrypted_text"
   ]
  },
  {
   "cell_type": "code",
   "execution_count": null,
   "id": "6f699003-97cd-4467-8b1b-227412726963",
   "metadata": {},
   "outputs": [],
   "source": [
    "# encrypt('Get this message to the main server',13)"
   ]
  }
 ],
 "metadata": {
  "kernelspec": {
   "display_name": "Python [conda env:base] *",
   "language": "python",
   "name": "conda-base-py"
  },
  "language_info": {
   "codemirror_mode": {
    "name": "ipython",
    "version": 3
   },
   "file_extension": ".py",
   "mimetype": "text/x-python",
   "name": "python",
   "nbconvert_exporter": "python",
   "pygments_lexer": "ipython3",
   "version": "3.12.7"
  }
 },
 "nbformat": 4,
 "nbformat_minor": 5
}
