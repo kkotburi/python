{
 "cells": [
  {
   "cell_type": "code",
   "execution_count": null,
   "id": "4b36da1b-2c17-4f64-923e-ff2015986d00",
   "metadata": {},
   "outputs": [],
   "source": []
  }
 ],
 "metadata": {
  "kernelspec": {
   "display_name": "",
   "name": ""
  },
  "language_info": {
   "name": ""
  }
 },
 "nbformat": 4,
 "nbformat_minor": 5
}
