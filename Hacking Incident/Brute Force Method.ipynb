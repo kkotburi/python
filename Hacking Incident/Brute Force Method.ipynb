{
 "cells": [
  {
   "cell_type": "code",
   "execution_count": 1,
   "id": "abbe827c-3db6-4407-bdd5-82972da3dd56",
   "metadata": {},
   "outputs": [],
   "source": [
    "def brute_force(message):\n",
    "    \"\"\"\n",
    "    INPUT: A shifted message\n",
    "    OUTPUT: Prints out every possible shifted message.\n",
    "            One of the printed outputs should be readable.\n",
    "    \"\"\"\n",
    "\n",
    "    # Use your previous decrypt() method and call it for every possible shift\n",
    "    # using a For Loop.\n",
    "\n",
    "    # Print out the result of each shift.\n",
    "    pass"
   ]
  },
  {
   "cell_type": "code",
   "execution_count": null,
   "id": "934bafaf-bd15-4f46-97e3-5e16d70d23a5",
   "metadata": {},
   "outputs": [],
   "source": [
    "# brute_force('trg guvf zrffntr gb gur znva freire')"
   ]
  }
 ],
 "metadata": {
  "kernelspec": {
   "display_name": "Python [conda env:base] *",
   "language": "python",
   "name": "conda-base-py"
  },
  "language_info": {
   "codemirror_mode": {
    "name": "ipython",
    "version": 3
   },
   "file_extension": ".py",
   "mimetype": "text/x-python",
   "name": "python",
   "nbconvert_exporter": "python",
   "pygments_lexer": "ipython3",
   "version": "3.12.7"
  }
 },
 "nbformat": 4,
 "nbformat_minor": 5
}
