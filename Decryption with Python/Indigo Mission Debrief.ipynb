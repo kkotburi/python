{
 "cells": [
  {
   "cell_type": "code",
   "execution_count": 2,
   "id": "1000a416-2219-424f-bd0f-32d5b4dc23bd",
   "metadata": {},
   "outputs": [],
   "source": [
    "fermat_prime = b'65537'"
   ]
  },
  {
   "cell_type": "code",
   "execution_count": 4,
   "id": "321801d8-f646-4c28-828e-35a36d858d58",
   "metadata": {},
   "outputs": [],
   "source": [
    "import hashlib"
   ]
  },
  {
   "cell_type": "code",
   "execution_count": 6,
   "id": "e77132f2-f4fe-4a8b-bbb7-be57e54abdcf",
   "metadata": {},
   "outputs": [],
   "source": [
    "key = hashlib.sha3_256(fermat_prime)"
   ]
  },
  {
   "cell_type": "code",
   "execution_count": 8,
   "id": "2530ba0c-f1b8-4143-bb87-a63c168af7b3",
   "metadata": {},
   "outputs": [
    {
     "data": {
      "text/plain": [
       "<sha3_256 _hashlib.HASH object @ 0x0000027655FAEEB0>"
      ]
     },
     "execution_count": 8,
     "metadata": {},
     "output_type": "execute_result"
    }
   ],
   "source": [
    "key"
   ]
  },
  {
   "cell_type": "code",
   "execution_count": 10,
   "id": "469c1497-2e5c-4d92-8d6f-684c5d1591c8",
   "metadata": {},
   "outputs": [],
   "source": [
    "import base64"
   ]
  },
  {
   "cell_type": "code",
   "execution_count": 12,
   "id": "ad2ea74a-1b2d-4b5f-8860-948be780d7bd",
   "metadata": {},
   "outputs": [],
   "source": [
    "key_bytes = key.digest()"
   ]
  },
  {
   "cell_type": "code",
   "execution_count": 14,
   "id": "d52db224-36bc-4f13-975e-783b04a74ca7",
   "metadata": {},
   "outputs": [],
   "source": [
    "fernet_key = base64.urlsafe_b64encode(key_bytes)"
   ]
  },
  {
   "cell_type": "code",
   "execution_count": 16,
   "id": "645d0b2f-9b99-4d1a-bbcd-420d137180da",
   "metadata": {},
   "outputs": [],
   "source": [
    "from cryptography.fernet import Fernet"
   ]
  },
  {
   "cell_type": "code",
   "execution_count": 18,
   "id": "86b4b4ec-b123-4f96-9cd4-186fea3104c4",
   "metadata": {},
   "outputs": [],
   "source": [
    "custom_cipher = Fernet(fernet_key)"
   ]
  },
  {
   "cell_type": "code",
   "execution_count": 22,
   "id": "cbb3571a-a1cc-4db1-b48c-e5ef5b4210c6",
   "metadata": {},
   "outputs": [],
   "source": [
    "mess = b''"
   ]
  },
  {
   "cell_type": "code",
   "execution_count": 24,
   "id": "41cea57b-aa8e-488e-8bd1-ef851d638d46",
   "metadata": {},
   "outputs": [],
   "source": [
    "# custom_cipher.decrypt(mess)"
   ]
  },
  {
   "cell_type": "code",
   "execution_count": null,
   "id": "373f4909-5ebf-40d5-bb86-b03a749b6739",
   "metadata": {},
   "outputs": [],
   "source": []
  }
 ],
 "metadata": {
  "kernelspec": {
   "display_name": "Python [conda env:base] *",
   "language": "python",
   "name": "conda-base-py"
  },
  "language_info": {
   "codemirror_mode": {
    "name": "ipython",
    "version": 3
   },
   "file_extension": ".py",
   "mimetype": "text/x-python",
   "name": "python",
   "nbconvert_exporter": "python",
   "pygments_lexer": "ipython3",
   "version": "3.12.7"
  }
 },
 "nbformat": 4,
 "nbformat_minor": 5
}
