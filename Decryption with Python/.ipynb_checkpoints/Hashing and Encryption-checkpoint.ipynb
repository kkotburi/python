{
 "cells": [
  {
   "cell_type": "code",
   "execution_count": 1,
   "id": "44fff7f5-4bda-4548-b572-bb17e048049b",
   "metadata": {},
   "outputs": [],
   "source": [
    "import hashlib"
   ]
  },
  {
   "cell_type": "code",
   "execution_count": 3,
   "id": "10e35f62-5733-489d-ad32-236b1eab0a18",
   "metadata": {},
   "outputs": [
    {
     "data": {
      "text/plain": [
       "{'blake2b',\n",
       " 'blake2s',\n",
       " 'md5',\n",
       " 'md5-sha1',\n",
       " 'ripemd160',\n",
       " 'sha1',\n",
       " 'sha224',\n",
       " 'sha256',\n",
       " 'sha384',\n",
       " 'sha3_224',\n",
       " 'sha3_256',\n",
       " 'sha3_384',\n",
       " 'sha3_512',\n",
       " 'sha512',\n",
       " 'sha512_224',\n",
       " 'sha512_256',\n",
       " 'shake_128',\n",
       " 'shake_256',\n",
       " 'sm3'}"
      ]
     },
     "execution_count": 3,
     "metadata": {},
     "output_type": "execute_result"
    }
   ],
   "source": [
    "hashlib.algorithms_available"
   ]
  },
  {
   "cell_type": "code",
   "execution_count": 5,
   "id": "f66aa1fc-b3ba-428f-927b-eef78de1d46e",
   "metadata": {},
   "outputs": [],
   "source": [
    "hash_obj = hashlib.sha3_256()"
   ]
  },
  {
   "cell_type": "code",
   "execution_count": 23,
   "id": "f32379a4-30fe-43fc-bfe7-17bbe47e746c",
   "metadata": {},
   "outputs": [],
   "source": [
    "hash_obj.update(b'hello')"
   ]
  },
  {
   "cell_type": "code",
   "execution_count": 19,
   "id": "e157084c-ab49-4493-b75f-7cdce70ed31b",
   "metadata": {},
   "outputs": [
    {
     "data": {
      "text/plain": [
       "'dcbe17b91088b4c5a57312a19c82742d967e59bc5325d34a5a4542041ee1d71e'"
      ]
     },
     "execution_count": 19,
     "metadata": {},
     "output_type": "execute_result"
    }
   ],
   "source": [
    "# Hello\n",
    "hash_obj.hexdigest()"
   ]
  },
  {
   "cell_type": "code",
   "execution_count": 25,
   "id": "a8f4d956-d53b-404c-8ca7-72aa14533492",
   "metadata": {},
   "outputs": [
    {
     "data": {
      "text/plain": [
       "'4ef3b443a489d6b277e26b7fca9a3de1f6659475b29a390c593e890626bf7f5f'"
      ]
     },
     "execution_count": 25,
     "metadata": {},
     "output_type": "execute_result"
    }
   ],
   "source": [
    "# hello\n",
    "hash_obj.hexdigest()"
   ]
  },
  {
   "cell_type": "code",
   "execution_count": 31,
   "id": "06809918-6854-4d74-9b3a-e5a4dceb3ee8",
   "metadata": {},
   "outputs": [],
   "source": [
    "hash_obj.update(b'password123dfhdjdj')"
   ]
  },
  {
   "cell_type": "code",
   "execution_count": 33,
   "id": "7b38b8f4-f065-4fc4-99e3-e1d98bf01fcf",
   "metadata": {},
   "outputs": [
    {
     "data": {
      "text/plain": [
       "'c6e06c4852f9755dbedb4fbba2dfb2db505f3c1fa544bd60f20bc1bb8f8683f6'"
      ]
     },
     "execution_count": 33,
     "metadata": {},
     "output_type": "execute_result"
    }
   ],
   "source": [
    "hash_obj.hexdigest()"
   ]
  },
  {
   "cell_type": "code",
   "execution_count": 35,
   "id": "e5e9d556-4ddb-4c4a-89f6-cbbfc70b053a",
   "metadata": {},
   "outputs": [],
   "source": [
    "from cryptography.fernet import Fernet"
   ]
  },
  {
   "cell_type": "code",
   "execution_count": 37,
   "id": "2e31638c-4018-42f2-ae64-7d99b4310796",
   "metadata": {},
   "outputs": [],
   "source": [
    "key = Fernet.generate_key()"
   ]
  },
  {
   "cell_type": "code",
   "execution_count": 39,
   "id": "8c05ed58-5659-4240-9f95-61b5a60fc56a",
   "metadata": {},
   "outputs": [
    {
     "data": {
      "text/plain": [
       "b'HLQAX6F9ctiLusmTiXD9EWRBKaA-OATxahLbTm-Xhno='"
      ]
     },
     "execution_count": 39,
     "metadata": {},
     "output_type": "execute_result"
    }
   ],
   "source": [
    "key"
   ]
  },
  {
   "cell_type": "code",
   "execution_count": 41,
   "id": "9a567652-0708-4a49-9c57-befa6c0e0c2b",
   "metadata": {},
   "outputs": [],
   "source": [
    "cipher = Fernet(key)"
   ]
  },
  {
   "cell_type": "code",
   "execution_count": 43,
   "id": "11025ab9-58b0-4f9c-a28e-859749a27521",
   "metadata": {},
   "outputs": [
    {
     "data": {
      "text/plain": [
       "b'gAAAAABoEOGQznvQVeFDC_5B9JKFqJuC4lHDAqwjyOAp16iaABImXdKL7KaXZpu-Mr2g7Nm6R7XcK0C1R3xN5Ds_I9lOjYOZXRWzOefRTboTnBv7WSz39zw='"
      ]
     },
     "execution_count": 43,
     "metadata": {},
     "output_type": "execute_result"
    }
   ],
   "source": [
    "cipher.encrypt(b'Hello are you there?')"
   ]
  },
  {
   "cell_type": "code",
   "execution_count": 45,
   "id": "dd835969-bf13-43ac-b5ff-45acdee4856c",
   "metadata": {},
   "outputs": [],
   "source": [
    "other_cipher = Fernet(b'HLQAX6F9ctiLusmTiXD9EWRBKaA-OATxahLbTm-Xhno=')"
   ]
  },
  {
   "cell_type": "code",
   "execution_count": 47,
   "id": "f3a3f31b-fae2-4e8d-9a06-16d64242ed33",
   "metadata": {},
   "outputs": [
    {
     "data": {
      "text/plain": [
       "b'Hello are you there?'"
      ]
     },
     "execution_count": 47,
     "metadata": {},
     "output_type": "execute_result"
    }
   ],
   "source": [
    "other_cipher.decrypt(b'gAAAAABoEOGQznvQVeFDC_5B9JKFqJuC4lHDAqwjyOAp16iaABImXdKL7KaXZpu-Mr2g7Nm6R7XcK0C1R3xN5Ds_I9lOjYOZXRWzOefRTboTnBv7WSz39zw=')"
   ]
  },
  {
   "cell_type": "code",
   "execution_count": 49,
   "id": "463e4ad0-f073-44d7-8391-6fb00a380280",
   "metadata": {},
   "outputs": [],
   "source": [
    "keyword = b'123'"
   ]
  },
  {
   "cell_type": "code",
   "execution_count": 51,
   "id": "be1bfbae-5ff2-4e53-b561-125af0b1328c",
   "metadata": {},
   "outputs": [],
   "source": [
    "key = hashlib.sha3_256(keyword)"
   ]
  },
  {
   "cell_type": "code",
   "execution_count": 53,
   "id": "cf98ecc4-40e0-48ed-b595-2cb912f1b32c",
   "metadata": {},
   "outputs": [
    {
     "data": {
      "text/plain": [
       "<sha3_256 _hashlib.HASH object @ 0x0000024A6B4F0F50>"
      ]
     },
     "execution_count": 53,
     "metadata": {},
     "output_type": "execute_result"
    }
   ],
   "source": [
    "key"
   ]
  },
  {
   "cell_type": "code",
   "execution_count": 55,
   "id": "d4474200-0f40-4ba2-9ccf-b7c50a8f810a",
   "metadata": {},
   "outputs": [
    {
     "data": {
      "text/plain": [
       "b'\\xa0:\\xb1\\x9b\\x86o\\xc5\\x85\\xb5\\xcb\\x18\\x12\\xa2\\xf6<\\xa8a\\xe7\\xe7d>\\xe5\\xd4?\\xd7\\x10kb7%\\xfdg'"
      ]
     },
     "execution_count": 55,
     "metadata": {},
     "output_type": "execute_result"
    }
   ],
   "source": [
    "key.digest()"
   ]
  },
  {
   "cell_type": "code",
   "execution_count": 57,
   "id": "eec1f080-e75a-41dd-881f-1bbdfacf057b",
   "metadata": {},
   "outputs": [],
   "source": [
    "import base64"
   ]
  },
  {
   "cell_type": "code",
   "execution_count": 59,
   "id": "8fc40f6d-95f8-4aa2-b2d2-9f52f9912b82",
   "metadata": {},
   "outputs": [],
   "source": [
    "key_bytes = key.digest()"
   ]
  },
  {
   "cell_type": "code",
   "execution_count": 61,
   "id": "d0e2f3b0-ef9b-42e1-9898-1b9050bd94f3",
   "metadata": {},
   "outputs": [],
   "source": [
    "fernet_key = base64.urlsafe_b64encode(key_bytes)"
   ]
  },
  {
   "cell_type": "code",
   "execution_count": 63,
   "id": "6ff248d4-916c-4e33-9e60-606ecd5fe077",
   "metadata": {},
   "outputs": [
    {
     "data": {
      "text/plain": [
       "b'oDqxm4ZvxYW1yxgSovY8qGHn52Q-5dQ_1xBrYjcl_Wc='"
      ]
     },
     "execution_count": 63,
     "metadata": {},
     "output_type": "execute_result"
    }
   ],
   "source": [
    "fernet_key"
   ]
  },
  {
   "cell_type": "code",
   "execution_count": 65,
   "id": "3d412d08-c326-48a1-8a96-8d8d715d7a76",
   "metadata": {},
   "outputs": [],
   "source": [
    "custom_cipher = Fernet(fernet_key)"
   ]
  },
  {
   "cell_type": "code",
   "execution_count": 67,
   "id": "940c8df3-7ddd-4a6f-8443-8605380b4654",
   "metadata": {},
   "outputs": [
    {
     "data": {
      "text/plain": [
       "b'gAAAAABoEOJD7Kiu5mfcx-ciJkSgfXYOcNE5DVwMYcjwE74vrscEZBW_R1Q5_GpZlRBxbJNEZKSPYYImJGzhkfJ3EvnqFDgnuA=='"
      ]
     },
     "execution_count": 67,
     "metadata": {},
     "output_type": "execute_result"
    }
   ],
   "source": [
    "custom_cipher.encrypt(b'Hello')"
   ]
  },
  {
   "cell_type": "code",
   "execution_count": 69,
   "id": "c3b33e79-cd69-4ef0-b51e-8866b413bc77",
   "metadata": {},
   "outputs": [
    {
     "data": {
      "text/plain": [
       "b'Hello'"
      ]
     },
     "execution_count": 69,
     "metadata": {},
     "output_type": "execute_result"
    }
   ],
   "source": [
    "custom_cipher.decrypt(b'gAAAAABoEOJD7Kiu5mfcx-ciJkSgfXYOcNE5DVwMYcjwE74vrscEZBW_R1Q5_GpZlRBxbJNEZKSPYYImJGzhkfJ3EvnqFDgnuA==')"
   ]
  },
  {
   "cell_type": "code",
   "execution_count": null,
   "id": "88b6df32-3f58-4c36-9537-c1d4a91fc798",
   "metadata": {},
   "outputs": [],
   "source": []
  }
 ],
 "metadata": {
  "kernelspec": {
   "display_name": "Python [conda env:base] *",
   "language": "python",
   "name": "conda-base-py"
  },
  "language_info": {
   "codemirror_mode": {
    "name": "ipython",
    "version": 3
   },
   "file_extension": ".py",
   "mimetype": "text/x-python",
   "name": "python",
   "nbconvert_exporter": "python",
   "pygments_lexer": "ipython3",
   "version": "3.12.7"
  }
 },
 "nbformat": 4,
 "nbformat_minor": 5
}
