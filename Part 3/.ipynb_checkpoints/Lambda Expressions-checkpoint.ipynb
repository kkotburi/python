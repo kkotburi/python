{
 "cells": [
  {
   "cell_type": "code",
   "execution_count": 1,
   "id": "6854dafd-cf5d-482b-9375-bf68791d1cc6",
   "metadata": {},
   "outputs": [],
   "source": [
    "def square(num):\n",
    "    return num**2"
   ]
  },
  {
   "cell_type": "code",
   "execution_count": 3,
   "id": "e722fd10-2387-448b-af67-cd9b806846ae",
   "metadata": {},
   "outputs": [],
   "source": [
    "my_nums = [1,2,3,4,5]"
   ]
  },
  {
   "cell_type": "code",
   "execution_count": 13,
   "id": "301b0ed2-7cf4-4ebc-9815-5947026c2d61",
   "metadata": {},
   "outputs": [
    {
     "name": "stdout",
     "output_type": "stream",
     "text": [
      "1\n",
      "4\n",
      "9\n",
      "16\n",
      "25\n"
     ]
    }
   ],
   "source": [
    "for item in map(square,my_nums):\n",
    "    print(item)"
   ]
  },
  {
   "cell_type": "code",
   "execution_count": 17,
   "id": "0b493d06-106b-42a3-bf06-d4ef3666e95a",
   "metadata": {},
   "outputs": [
    {
     "data": {
      "text/plain": [
       "[1, 4, 9, 16, 25]"
      ]
     },
     "execution_count": 17,
     "metadata": {},
     "output_type": "execute_result"
    }
   ],
   "source": [
    "list(map(square,my_nums))"
   ]
  },
  {
   "cell_type": "code",
   "execution_count": 19,
   "id": "32550e80-3fc5-469e-a859-6530d6b03127",
   "metadata": {},
   "outputs": [],
   "source": [
    "def splicer(mystring):\n",
    "    if len(mystring) % 2 == 0:\n",
    "        return 'even'\n",
    "    else:\n",
    "        return mystring[0]"
   ]
  },
  {
   "cell_type": "code",
   "execution_count": 21,
   "id": "1b833920-1bcc-471c-ad19-2916394c9f99",
   "metadata": {},
   "outputs": [],
   "source": [
    "mynames = ['A','BB','CCC','DDD']"
   ]
  },
  {
   "cell_type": "code",
   "execution_count": 23,
   "id": "1945ce89-3ad9-4c79-a30c-5669a8134b05",
   "metadata": {},
   "outputs": [
    {
     "data": {
      "text/plain": [
       "['A', 'even', 'C', 'D']"
      ]
     },
     "execution_count": 23,
     "metadata": {},
     "output_type": "execute_result"
    }
   ],
   "source": [
    "list(map(splicer,mynames))"
   ]
  },
  {
   "cell_type": "code",
   "execution_count": null,
   "id": "f1190113-1d5e-4f0d-8b6e-7596339b5b5a",
   "metadata": {},
   "outputs": [],
   "source": []
  },
  {
   "cell_type": "code",
   "execution_count": null,
   "id": "d8f6dacb-b79f-4977-8d05-62c8dffd7c01",
   "metadata": {},
   "outputs": [],
   "source": []
  },
  {
   "cell_type": "code",
   "execution_count": 27,
   "id": "0decf801-ae51-41bd-954e-ee5e1d541b15",
   "metadata": {},
   "outputs": [],
   "source": [
    "def check_even(num):\n",
    "    return num % 2 == 0"
   ]
  },
  {
   "cell_type": "code",
   "execution_count": 29,
   "id": "336ace2f-0865-48a6-97cb-91bfd717bd7c",
   "metadata": {},
   "outputs": [
    {
     "data": {
      "text/plain": [
       "True"
      ]
     },
     "execution_count": 29,
     "metadata": {},
     "output_type": "execute_result"
    }
   ],
   "source": [
    "check_even(10)"
   ]
  },
  {
   "cell_type": "code",
   "execution_count": 31,
   "id": "2b1002ab-22af-4ed0-8121-b5fb16a7c428",
   "metadata": {},
   "outputs": [
    {
     "data": {
      "text/plain": [
       "False"
      ]
     },
     "execution_count": 31,
     "metadata": {},
     "output_type": "execute_result"
    }
   ],
   "source": [
    "check_even(3)"
   ]
  },
  {
   "cell_type": "code",
   "execution_count": 37,
   "id": "d87d35fc-1c14-41e7-8f46-2df4effa18fb",
   "metadata": {},
   "outputs": [],
   "source": [
    "nums = [1,2,3,4,5,6]"
   ]
  },
  {
   "cell_type": "code",
   "execution_count": 39,
   "id": "5e4fc130-1b30-4291-8994-1adba9bb931c",
   "metadata": {},
   "outputs": [
    {
     "data": {
      "text/plain": [
       "[2, 4, 6]"
      ]
     },
     "execution_count": 39,
     "metadata": {},
     "output_type": "execute_result"
    }
   ],
   "source": [
    "list(filter(check_even,nums))"
   ]
  },
  {
   "cell_type": "code",
   "execution_count": null,
   "id": "19873211-3dfc-474a-a087-24fc23da14ac",
   "metadata": {},
   "outputs": [],
   "source": []
  },
  {
   "cell_type": "code",
   "execution_count": null,
   "id": "9aa7a8b0-486c-426a-b804-98e118d03033",
   "metadata": {},
   "outputs": [],
   "source": []
  },
  {
   "cell_type": "code",
   "execution_count": 57,
   "id": "bd0c5807-41ae-47bb-b7bb-f41acb017dac",
   "metadata": {},
   "outputs": [],
   "source": [
    "def square(num): return num**2"
   ]
  },
  {
   "cell_type": "code",
   "execution_count": 59,
   "id": "bcaa4a28-02e8-40ba-9067-6dd781dfe828",
   "metadata": {},
   "outputs": [
    {
     "data": {
      "text/plain": [
       "4"
      ]
     },
     "execution_count": 59,
     "metadata": {},
     "output_type": "execute_result"
    }
   ],
   "source": [
    "square(2)"
   ]
  },
  {
   "cell_type": "code",
   "execution_count": 61,
   "id": "e0e35b6e-9f27-4727-95c0-f7035c7637c1",
   "metadata": {},
   "outputs": [
    {
     "data": {
      "text/plain": [
       "<function __main__.<lambda>(num)>"
      ]
     },
     "execution_count": 61,
     "metadata": {},
     "output_type": "execute_result"
    }
   ],
   "source": [
    "lambda num: num**2"
   ]
  },
  {
   "cell_type": "code",
   "execution_count": 63,
   "id": "7021fe00-384d-4b56-a68f-08cbd7bfb3ad",
   "metadata": {},
   "outputs": [
    {
     "data": {
      "text/plain": [
       "[1, 4, 9]"
      ]
     },
     "execution_count": 63,
     "metadata": {},
     "output_type": "execute_result"
    }
   ],
   "source": [
    "list(map(lambda x:x**2,[1,2,3]))"
   ]
  },
  {
   "cell_type": "code",
   "execution_count": 65,
   "id": "5b57ad0d-8d10-430d-a3b1-1482bb91b98b",
   "metadata": {},
   "outputs": [
    {
     "data": {
      "text/plain": [
       "[2, 4]"
      ]
     },
     "execution_count": 65,
     "metadata": {},
     "output_type": "execute_result"
    }
   ],
   "source": [
    "list(filter(lambda n:n%2==0,[1,2,3,4,5]))"
   ]
  },
  {
   "cell_type": "code",
   "execution_count": 67,
   "id": "fc3383f2-965e-4a02-bd6b-d636c17c88af",
   "metadata": {},
   "outputs": [
    {
     "data": {
      "text/plain": [
       "<function __main__.<lambda>(s)>"
      ]
     },
     "execution_count": 67,
     "metadata": {},
     "output_type": "execute_result"
    }
   ],
   "source": [
    "lambda s:s[0]"
   ]
  },
  {
   "cell_type": "code",
   "execution_count": 69,
   "id": "bab1534c-0948-4d9b-86c4-21cbc3be4190",
   "metadata": {},
   "outputs": [
    {
     "data": {
      "text/plain": [
       "<function __main__.<lambda>(s)>"
      ]
     },
     "execution_count": 69,
     "metadata": {},
     "output_type": "execute_result"
    }
   ],
   "source": [
    "lambda s:s[::-1]"
   ]
  },
  {
   "cell_type": "code",
   "execution_count": 71,
   "id": "51992722-1442-487c-9721-89fa17168f30",
   "metadata": {},
   "outputs": [
    {
     "data": {
      "text/plain": [
       "<function __main__.<lambda>(x, y)>"
      ]
     },
     "execution_count": 71,
     "metadata": {},
     "output_type": "execute_result"
    }
   ],
   "source": [
    "lambda x,y:x+y"
   ]
  },
  {
   "cell_type": "code",
   "execution_count": null,
   "id": "b3781eea-d4b2-49e5-9b06-910f7dc543df",
   "metadata": {},
   "outputs": [],
   "source": []
  }
 ],
 "metadata": {
  "kernelspec": {
   "display_name": "Python [conda env:base] *",
   "language": "python",
   "name": "conda-base-py"
  },
  "language_info": {
   "codemirror_mode": {
    "name": "ipython",
    "version": 3
   },
   "file_extension": ".py",
   "mimetype": "text/x-python",
   "name": "python",
   "nbconvert_exporter": "python",
   "pygments_lexer": "ipython3",
   "version": "3.12.7"
  }
 },
 "nbformat": 4,
 "nbformat_minor": 5
}
