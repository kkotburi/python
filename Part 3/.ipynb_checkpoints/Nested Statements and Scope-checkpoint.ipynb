{
 "cells": [
  {
   "cell_type": "code",
   "execution_count": 2,
   "id": "8530b5c8-2b0a-4267-a788-dccfd572aee7",
   "metadata": {},
   "outputs": [],
   "source": [
    "x = 'outside'\n",
    "\n",
    "def report():\n",
    "    x = 'inside'\n",
    "    return x"
   ]
  },
  {
   "cell_type": "code",
   "execution_count": 4,
   "id": "3d9ec8ce-6231-4f09-964c-60594582de65",
   "metadata": {},
   "outputs": [
    {
     "data": {
      "text/plain": [
       "'inside'"
      ]
     },
     "execution_count": 4,
     "metadata": {},
     "output_type": "execute_result"
    }
   ],
   "source": [
    "report()"
   ]
  },
  {
   "cell_type": "code",
   "execution_count": 6,
   "id": "083ec38e-9501-4763-8efb-802bce60c6b9",
   "metadata": {},
   "outputs": [
    {
     "name": "stdout",
     "output_type": "stream",
     "text": [
      "outside\n"
     ]
    }
   ],
   "source": [
    "print(x)"
   ]
  },
  {
   "cell_type": "code",
   "execution_count": 10,
   "id": "8f09b12b-a8d5-4a70-8247-39f5a98b379a",
   "metadata": {},
   "outputs": [],
   "source": [
    "# LOCAL\n",
    "# ENCLOSING\n",
    "# GLOBAL\n",
    "# BUILT IN"
   ]
  },
  {
   "cell_type": "code",
   "execution_count": 16,
   "id": "23e32ed6-c757-42a8-886e-4cd1c8c12f87",
   "metadata": {},
   "outputs": [],
   "source": [
    "# LOCAL\n",
    "def report():\n",
    "\n",
    "    x = 'local'\n",
    "    print(x)"
   ]
  },
  {
   "cell_type": "code",
   "execution_count": 18,
   "id": "39090979-bf7c-43b8-8945-db718b3a8e31",
   "metadata": {},
   "outputs": [
    {
     "name": "stdout",
     "output_type": "stream",
     "text": [
      "local\n"
     ]
    }
   ],
   "source": [
    "report()"
   ]
  },
  {
   "cell_type": "code",
   "execution_count": 46,
   "id": "d38b80bb-b0c5-438d-bf39-b8d823289905",
   "metadata": {},
   "outputs": [],
   "source": [
    "x = 'THIS IS GLOBAL LEVEL'\n",
    "\n",
    "def enclosing():\n",
    "    # x = 'enclosing level'\n",
    "\n",
    "    def inside():\n",
    "        print(y)\n",
    "\n",
    "    inside()"
   ]
  },
  {
   "cell_type": "code",
   "execution_count": 48,
   "id": "92c7bde4-d34f-4280-894b-a0822153d673",
   "metadata": {},
   "outputs": [
    {
     "ename": "NameError",
     "evalue": "name 'y' is not defined",
     "output_type": "error",
     "traceback": [
      "\u001b[1;31m---------------------------------------------------------------------------\u001b[0m",
      "\u001b[1;31mNameError\u001b[0m                                 Traceback (most recent call last)",
      "Cell \u001b[1;32mIn[48], line 1\u001b[0m\n\u001b[1;32m----> 1\u001b[0m enclosing()\n",
      "Cell \u001b[1;32mIn[46], line 9\u001b[0m, in \u001b[0;36menclosing\u001b[1;34m()\u001b[0m\n\u001b[0;32m      6\u001b[0m \u001b[38;5;28;01mdef\u001b[39;00m \u001b[38;5;21minside\u001b[39m():\n\u001b[0;32m      7\u001b[0m     \u001b[38;5;28mprint\u001b[39m(y)\n\u001b[1;32m----> 9\u001b[0m inside()\n",
      "Cell \u001b[1;32mIn[46], line 7\u001b[0m, in \u001b[0;36menclosing.<locals>.inside\u001b[1;34m()\u001b[0m\n\u001b[0;32m      6\u001b[0m \u001b[38;5;28;01mdef\u001b[39;00m \u001b[38;5;21minside\u001b[39m():\n\u001b[1;32m----> 7\u001b[0m     \u001b[38;5;28mprint\u001b[39m(y)\n",
      "\u001b[1;31mNameError\u001b[0m: name 'y' is not defined"
     ]
    }
   ],
   "source": [
    "enclosing()"
   ]
  },
  {
   "cell_type": "code",
   "execution_count": 38,
   "id": "65e1843c-3bba-4624-8168-94eee45e7912",
   "metadata": {},
   "outputs": [
    {
     "data": {
      "text/plain": [
       "<function len(obj, /)>"
      ]
     },
     "execution_count": 38,
     "metadata": {},
     "output_type": "execute_result"
    }
   ],
   "source": [
    "len"
   ]
  },
  {
   "cell_type": "code",
   "execution_count": 40,
   "id": "c8a6656c-605f-43db-b9c7-97ef81bf3664",
   "metadata": {},
   "outputs": [
    {
     "data": {
      "text/plain": [
       "<function sum(iterable, /, start=0)>"
      ]
     },
     "execution_count": 40,
     "metadata": {},
     "output_type": "execute_result"
    }
   ],
   "source": [
    "sum"
   ]
  },
  {
   "cell_type": "code",
   "execution_count": 42,
   "id": "4cc5a3b5-030f-4dd9-a93e-5fbb9e57be3c",
   "metadata": {},
   "outputs": [
    {
     "data": {
      "text/plain": [
       "list"
      ]
     },
     "execution_count": 42,
     "metadata": {},
     "output_type": "execute_result"
    }
   ],
   "source": [
    "list"
   ]
  },
  {
   "cell_type": "code",
   "execution_count": null,
   "id": "0770daed-2726-4e09-ba10-f17f2b825c7e",
   "metadata": {},
   "outputs": [],
   "source": []
  },
  {
   "cell_type": "code",
   "execution_count": null,
   "id": "6c474f34-f9d7-4801-8e19-105490e5874f",
   "metadata": {},
   "outputs": [],
   "source": []
  },
  {
   "cell_type": "code",
   "execution_count": 86,
   "id": "6ee1c6b1-1c44-4015-8934-ee48b4e9d985",
   "metadata": {},
   "outputs": [],
   "source": [
    "x = 'global outside'\n",
    "\n",
    "# def myfunc():\n",
    "\n",
    "#     global x\n",
    "    \n",
    "#     print('X in {}'.format(x))\n",
    "\n",
    "#     x = 'redefinde inside myfunc()'\n",
    "\n",
    "#     print(x)\n",
    "\n",
    "def myfunc(x):\n",
    "    \n",
    "    print('X in {}'.format(x))\n",
    "\n",
    "    x = 'redefinde inside myfunc()'\n",
    "\n",
    "    return x"
   ]
  },
  {
   "cell_type": "code",
   "execution_count": 88,
   "id": "89c6aca9-8c7a-4157-98e6-82b833f6f89f",
   "metadata": {},
   "outputs": [
    {
     "name": "stdout",
     "output_type": "stream",
     "text": [
      "X in global outside\n"
     ]
    }
   ],
   "source": [
    "result = myfunc(x)"
   ]
  },
  {
   "cell_type": "code",
   "execution_count": 90,
   "id": "b2df26ec-c938-42e3-af21-3af3ffe1cc42",
   "metadata": {},
   "outputs": [
    {
     "data": {
      "text/plain": [
       "'redefinde inside myfunc()'"
      ]
     },
     "execution_count": 90,
     "metadata": {},
     "output_type": "execute_result"
    }
   ],
   "source": [
    "result"
   ]
  },
  {
   "cell_type": "code",
   "execution_count": 92,
   "id": "57951c33-02ff-40af-94a6-3cb6b56e93a6",
   "metadata": {},
   "outputs": [
    {
     "data": {
      "text/plain": [
       "'global outside'"
      ]
     },
     "execution_count": 92,
     "metadata": {},
     "output_type": "execute_result"
    }
   ],
   "source": [
    "x"
   ]
  },
  {
   "cell_type": "code",
   "execution_count": 82,
   "id": "17df8035-29b1-476e-97fd-ba0a52e65672",
   "metadata": {},
   "outputs": [
    {
     "name": "stdout",
     "output_type": "stream",
     "text": [
      "redefinde inside myfunc()\n"
     ]
    }
   ],
   "source": [
    "print(x)"
   ]
  },
  {
   "cell_type": "code",
   "execution_count": 58,
   "id": "6636e73d-e2b5-4ff2-88d1-eb8ab6996f05",
   "metadata": {},
   "outputs": [
    {
     "name": "stdout",
     "output_type": "stream",
     "text": [
      "X in global outside\n",
      "redefinde inside myfunc()\n"
     ]
    }
   ],
   "source": [
    "myfunc(x)"
   ]
  },
  {
   "cell_type": "code",
   "execution_count": 60,
   "id": "7354c21a-a61b-43e2-a806-1473e127e4fa",
   "metadata": {},
   "outputs": [
    {
     "data": {
      "text/plain": [
       "'global outside'"
      ]
     },
     "execution_count": 60,
     "metadata": {},
     "output_type": "execute_result"
    }
   ],
   "source": [
    "x"
   ]
  },
  {
   "cell_type": "code",
   "execution_count": null,
   "id": "335a5887-128c-4089-800e-5ca7badd1723",
   "metadata": {},
   "outputs": [],
   "source": []
  }
 ],
 "metadata": {
  "kernelspec": {
   "display_name": "Python [conda env:base] *",
   "language": "python",
   "name": "conda-base-py"
  },
  "language_info": {
   "codemirror_mode": {
    "name": "ipython",
    "version": 3
   },
   "file_extension": ".py",
   "mimetype": "text/x-python",
   "name": "python",
   "nbconvert_exporter": "python",
   "pygments_lexer": "ipython3",
   "version": "3.12.7"
  }
 },
 "nbformat": 4,
 "nbformat_minor": 5
}
