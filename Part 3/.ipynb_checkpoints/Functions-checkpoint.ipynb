{
 "cells": [
  {
   "cell_type": "code",
   "execution_count": 1,
   "id": "2d080341-7d2d-4e25-a3dd-5f23fd1343ad",
   "metadata": {},
   "outputs": [],
   "source": [
    "def lowrcase_function_name(argument1,argument2,argument3='default value'):\n",
    "    '''\n",
    "    This is the DocString of the function. It is where you can write a helpful\n",
    "    description for anyone who will use your function.\n",
    "    '''\n",
    "    # After the docstring you write code that does stuff."
   ]
  },
  {
   "cell_type": "code",
   "execution_count": 3,
   "id": "164fbd7b-da8d-4eb6-b443-07ca0cbb7a3a",
   "metadata": {},
   "outputs": [],
   "source": [
    "def report_agent():\n",
    "    print('Report Agent')"
   ]
  },
  {
   "cell_type": "code",
   "execution_count": 7,
   "id": "dd5b54a3-e3a5-4861-9165-217e34cb27b1",
   "metadata": {},
   "outputs": [
    {
     "name": "stdout",
     "output_type": "stream",
     "text": [
      "Report Agent\n"
     ]
    }
   ],
   "source": [
    "report_agent()"
   ]
  },
  {
   "cell_type": "code",
   "execution_count": 21,
   "id": "3abad5c1-5915-40e1-87dd-72f8da0a4da6",
   "metadata": {},
   "outputs": [],
   "source": [
    "def report(name='Jason'):\n",
    "    print('Reporting {}'.format(name))"
   ]
  },
  {
   "cell_type": "code",
   "execution_count": 25,
   "id": "7dd947b7-893e-489d-a25b-cf2b8c1fc6d2",
   "metadata": {},
   "outputs": [
    {
     "name": "stdout",
     "output_type": "stream",
     "text": [
      "Reporting Sally\n"
     ]
    }
   ],
   "source": [
    "report('Sally')"
   ]
  },
  {
   "cell_type": "code",
   "execution_count": null,
   "id": "5850033a-1140-4185-b158-79ec1ebb3ab7",
   "metadata": {},
   "outputs": [],
   "source": []
  },
  {
   "cell_type": "code",
   "execution_count": 28,
   "id": "fe2699a7-91d4-4dc9-ae36-b5fe770a8f14",
   "metadata": {},
   "outputs": [],
   "source": [
    "def add(n1,n2):\n",
    "    print(n1+n2)"
   ]
  },
  {
   "cell_type": "code",
   "execution_count": 30,
   "id": "a80be9a4-336e-46df-8465-285c49759a56",
   "metadata": {},
   "outputs": [
    {
     "name": "stdout",
     "output_type": "stream",
     "text": [
      "5\n"
     ]
    }
   ],
   "source": [
    "add(2,3)"
   ]
  },
  {
   "cell_type": "code",
   "execution_count": 32,
   "id": "0dd14e8f-46d9-470b-b33d-469655bfd16f",
   "metadata": {},
   "outputs": [
    {
     "name": "stdout",
     "output_type": "stream",
     "text": [
      "5\n"
     ]
    }
   ],
   "source": [
    "result = add(2,3)"
   ]
  },
  {
   "cell_type": "code",
   "execution_count": 34,
   "id": "e2da97f0-89bb-4830-a7a7-12ac3f016681",
   "metadata": {},
   "outputs": [],
   "source": [
    "result"
   ]
  },
  {
   "cell_type": "code",
   "execution_count": 36,
   "id": "85e63ce4-f121-4edb-b582-130a94a968dc",
   "metadata": {},
   "outputs": [
    {
     "data": {
      "text/plain": [
       "NoneType"
      ]
     },
     "execution_count": 36,
     "metadata": {},
     "output_type": "execute_result"
    }
   ],
   "source": [
    "type(result)"
   ]
  },
  {
   "cell_type": "code",
   "execution_count": 44,
   "id": "3afad393-2c00-407b-88d9-cf338cc146a8",
   "metadata": {},
   "outputs": [],
   "source": [
    "def add(n1,n2):\n",
    "    print('Function ran well')\n",
    "    return n1+n2"
   ]
  },
  {
   "cell_type": "code",
   "execution_count": 46,
   "id": "6a320458-0e18-49f7-a514-adfe400fc52d",
   "metadata": {},
   "outputs": [
    {
     "name": "stdout",
     "output_type": "stream",
     "text": [
      "Function ran well\n"
     ]
    }
   ],
   "source": [
    "result = add(2,4)"
   ]
  },
  {
   "cell_type": "code",
   "execution_count": 48,
   "id": "25ef08d5-1d97-4762-b178-50e2483cf661",
   "metadata": {},
   "outputs": [
    {
     "data": {
      "text/plain": [
       "6"
      ]
     },
     "execution_count": 48,
     "metadata": {},
     "output_type": "execute_result"
    }
   ],
   "source": [
    "result"
   ]
  },
  {
   "cell_type": "code",
   "execution_count": 56,
   "id": "4a8df0ee-f2b1-44cf-bdcb-2293643294ae",
   "metadata": {},
   "outputs": [],
   "source": [
    "def secret_check(mystring):\n",
    "    return 'secret' in mystring.lower()"
   ]
  },
  {
   "cell_type": "code",
   "execution_count": 58,
   "id": "298f522b-ee0b-40f9-a0f5-76e7638d9db9",
   "metadata": {},
   "outputs": [
    {
     "data": {
      "text/plain": [
       "False"
      ]
     },
     "execution_count": 58,
     "metadata": {},
     "output_type": "execute_result"
    }
   ],
   "source": [
    "secret_check('this is a lie')"
   ]
  },
  {
   "cell_type": "code",
   "execution_count": 60,
   "id": "60bd1798-683b-466d-89da-b665a5e743b6",
   "metadata": {},
   "outputs": [
    {
     "data": {
      "text/plain": [
       "True"
      ]
     },
     "execution_count": 60,
     "metadata": {},
     "output_type": "execute_result"
    }
   ],
   "source": [
    "secret_check(\"this is a Secret\")"
   ]
  },
  {
   "cell_type": "code",
   "execution_count": 122,
   "id": "c519dbfb-b161-454a-b16e-5d7452658899",
   "metadata": {},
   "outputs": [],
   "source": [
    "def code_maker(mystring):\n",
    "    '''\n",
    "    INPUT: is a string\n",
    "    OUTPUT: same string, but all vowels are converted to an x\n",
    "    '''\n",
    "    output = list(mystring)\n",
    "\n",
    "    for i,letter in enumerate(mystring):\n",
    "        for vowel in ['a','e','i','o','u']:\n",
    "            if letter.lower() == vowel:\n",
    "                output[i] = 'x'\n",
    "            # else:\n",
    "            #     pass\n",
    "\n",
    "    output = ''.join(output)\n",
    "    return output"
   ]
  },
  {
   "cell_type": "code",
   "execution_count": 124,
   "id": "f6b5c5ac-8af9-4d25-a2f1-d7d76800619c",
   "metadata": {},
   "outputs": [],
   "source": [
    "result = code_maker('hello') # hxllx"
   ]
  },
  {
   "cell_type": "code",
   "execution_count": 126,
   "id": "085b53fe-4b36-4bc1-a14b-db308a56b6a4",
   "metadata": {},
   "outputs": [
    {
     "data": {
      "text/plain": [
       "'hxllx'"
      ]
     },
     "execution_count": 126,
     "metadata": {},
     "output_type": "execute_result"
    }
   ],
   "source": [
    "result"
   ]
  },
  {
   "cell_type": "code",
   "execution_count": 66,
   "id": "ce7f0fa4-8882-4dfb-8cad-4f1dae9111fb",
   "metadata": {},
   "outputs": [
    {
     "data": {
      "text/plain": [
       "['e', 'x', 'a', 'm', 'p', 'l', 'e']"
      ]
     },
     "execution_count": 66,
     "metadata": {},
     "output_type": "execute_result"
    }
   ],
   "source": [
    "list('example')"
   ]
  },
  {
   "cell_type": "code",
   "execution_count": 68,
   "id": "d4105ccb-a965-4fc2-a18d-c7e660bac2bf",
   "metadata": {},
   "outputs": [
    {
     "data": {
      "text/plain": [
       "[(0, 'e'), (1, 'x'), (2, 'm'), (3, 'p'), (4, 'l'), (5, 'e')]"
      ]
     },
     "execution_count": 68,
     "metadata": {},
     "output_type": "execute_result"
    }
   ],
   "source": [
    "list(enumerate('exmple'))"
   ]
  },
  {
   "cell_type": "code",
   "execution_count": 100,
   "id": "eb29491f-5cd6-4db7-bbc0-77a05f651815",
   "metadata": {},
   "outputs": [
    {
     "data": {
      "text/plain": [
       "'hxllx'"
      ]
     },
     "execution_count": 100,
     "metadata": {},
     "output_type": "execute_result"
    }
   ],
   "source": [
    "''.join(result)"
   ]
  },
  {
   "cell_type": "code",
   "execution_count": null,
   "id": "c2d097e0-e769-4c3c-88c5-cc3f272bd0cc",
   "metadata": {},
   "outputs": [],
   "source": []
  }
 ],
 "metadata": {
  "kernelspec": {
   "display_name": "Python [conda env:base] *",
   "language": "python",
   "name": "conda-base-py"
  },
  "language_info": {
   "codemirror_mode": {
    "name": "ipython",
    "version": 3
   },
   "file_extension": ".py",
   "mimetype": "text/x-python",
   "name": "python",
   "nbconvert_exporter": "python",
   "pygments_lexer": "ipython3",
   "version": "3.12.7"
  }
 },
 "nbformat": 4,
 "nbformat_minor": 5
}
