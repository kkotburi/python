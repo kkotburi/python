{
 "cells": [
  {
   "cell_type": "code",
   "execution_count": 1,
   "id": "f3f9b51c-09e4-4c5a-a554-734ed022eff7",
   "metadata": {},
   "outputs": [
    {
     "ename": "FileNotFoundError",
     "evalue": "[Errno 2] No such file or directory: 'makeup_some.txt'",
     "output_type": "error",
     "traceback": [
      "\u001b[1;31m---------------------------------------------------------------------------\u001b[0m",
      "\u001b[1;31mFileNotFoundError\u001b[0m                         Traceback (most recent call last)",
      "Cell \u001b[1;32mIn[1], line 1\u001b[0m\n\u001b[1;32m----> 1\u001b[0m errorfile \u001b[38;5;241m=\u001b[39m \u001b[38;5;28mopen\u001b[39m(\u001b[38;5;124m'\u001b[39m\u001b[38;5;124mmakeup_some.txt\u001b[39m\u001b[38;5;124m'\u001b[39m)\n",
      "File \u001b[1;32m~\\anaconda3\\Lib\\site-packages\\IPython\\core\\interactiveshell.py:324\u001b[0m, in \u001b[0;36m_modified_open\u001b[1;34m(file, *args, **kwargs)\u001b[0m\n\u001b[0;32m    317\u001b[0m \u001b[38;5;28;01mif\u001b[39;00m file \u001b[38;5;129;01min\u001b[39;00m {\u001b[38;5;241m0\u001b[39m, \u001b[38;5;241m1\u001b[39m, \u001b[38;5;241m2\u001b[39m}:\n\u001b[0;32m    318\u001b[0m     \u001b[38;5;28;01mraise\u001b[39;00m \u001b[38;5;167;01mValueError\u001b[39;00m(\n\u001b[0;32m    319\u001b[0m         \u001b[38;5;124mf\u001b[39m\u001b[38;5;124m\"\u001b[39m\u001b[38;5;124mIPython won\u001b[39m\u001b[38;5;124m'\u001b[39m\u001b[38;5;124mt let you open fd=\u001b[39m\u001b[38;5;132;01m{\u001b[39;00mfile\u001b[38;5;132;01m}\u001b[39;00m\u001b[38;5;124m by default \u001b[39m\u001b[38;5;124m\"\u001b[39m\n\u001b[0;32m    320\u001b[0m         \u001b[38;5;124m\"\u001b[39m\u001b[38;5;124mas it is likely to crash IPython. If you know what you are doing, \u001b[39m\u001b[38;5;124m\"\u001b[39m\n\u001b[0;32m    321\u001b[0m         \u001b[38;5;124m\"\u001b[39m\u001b[38;5;124myou can use builtins\u001b[39m\u001b[38;5;124m'\u001b[39m\u001b[38;5;124m open.\u001b[39m\u001b[38;5;124m\"\u001b[39m\n\u001b[0;32m    322\u001b[0m     )\n\u001b[1;32m--> 324\u001b[0m \u001b[38;5;28;01mreturn\u001b[39;00m io_open(file, \u001b[38;5;241m*\u001b[39margs, \u001b[38;5;241m*\u001b[39m\u001b[38;5;241m*\u001b[39mkwargs)\n",
      "\u001b[1;31mFileNotFoundError\u001b[0m: [Errno 2] No such file or directory: 'makeup_some.txt'"
     ]
    }
   ],
   "source": [
    "errorfile = open('makeup_some.txt')"
   ]
  },
  {
   "cell_type": "code",
   "execution_count": 9,
   "id": "593cf46e-76e5-4c47-a71b-d766744cbd95",
   "metadata": {},
   "outputs": [],
   "source": [
    "# pwd"
   ]
  },
  {
   "cell_type": "code",
   "execution_count": 11,
   "id": "9bd313fa-6b3c-4dda-b6f4-6c25026d0b22",
   "metadata": {},
   "outputs": [],
   "source": [
    "myfile = open('test_file.txt')"
   ]
  },
  {
   "cell_type": "code",
   "execution_count": 13,
   "id": "f90041b9-c656-4bc4-841e-f91e7cde0157",
   "metadata": {},
   "outputs": [
    {
     "data": {
      "text/plain": [
       "'First Line of File\\nSecond Line of File\\nThird Line of File\\nLast Line of File'"
      ]
     },
     "execution_count": 13,
     "metadata": {},
     "output_type": "execute_result"
    }
   ],
   "source": [
    "myfile.read()"
   ]
  },
  {
   "cell_type": "code",
   "execution_count": 15,
   "id": "946d2035-6267-4815-a85d-70f558c19a55",
   "metadata": {},
   "outputs": [
    {
     "data": {
      "text/plain": [
       "''"
      ]
     },
     "execution_count": 15,
     "metadata": {},
     "output_type": "execute_result"
    }
   ],
   "source": [
    "myfile.read()"
   ]
  },
  {
   "cell_type": "code",
   "execution_count": 17,
   "id": "c9e1b20e-020a-48d2-98b7-e3f13bd74b64",
   "metadata": {},
   "outputs": [
    {
     "data": {
      "text/plain": [
       "0"
      ]
     },
     "execution_count": 17,
     "metadata": {},
     "output_type": "execute_result"
    }
   ],
   "source": [
    "myfile.seek(0)"
   ]
  },
  {
   "cell_type": "code",
   "execution_count": 19,
   "id": "dabbb71c-3269-46fa-8abe-afd75751aaf6",
   "metadata": {},
   "outputs": [
    {
     "data": {
      "text/plain": [
       "'First Line of File\\nSecond Line of File\\nThird Line of File\\nLast Line of File'"
      ]
     },
     "execution_count": 19,
     "metadata": {},
     "output_type": "execute_result"
    }
   ],
   "source": [
    "myfile.read()"
   ]
  },
  {
   "cell_type": "code",
   "execution_count": 21,
   "id": "5143b299-ac26-47a0-ac1a-06793c5df6d2",
   "metadata": {},
   "outputs": [
    {
     "data": {
      "text/plain": [
       "0"
      ]
     },
     "execution_count": 21,
     "metadata": {},
     "output_type": "execute_result"
    }
   ],
   "source": [
    "myfile.seek(0)"
   ]
  },
  {
   "cell_type": "code",
   "execution_count": 23,
   "id": "e51c7fa9-977b-4240-9dc6-4f19aa81b9c9",
   "metadata": {},
   "outputs": [
    {
     "data": {
      "text/plain": [
       "['First Line of File\\n',\n",
       " 'Second Line of File\\n',\n",
       " 'Third Line of File\\n',\n",
       " 'Last Line of File']"
      ]
     },
     "execution_count": 23,
     "metadata": {},
     "output_type": "execute_result"
    }
   ],
   "source": [
    "myfile.readlines()"
   ]
  },
  {
   "cell_type": "code",
   "execution_count": 25,
   "id": "fd3162ed-adb8-470b-b676-1159aee2cb15",
   "metadata": {},
   "outputs": [
    {
     "data": {
      "text/plain": [
       "'C:\\\\Users\\\\user\\\\Desktop\\\\20250123 python'"
      ]
     },
     "execution_count": 25,
     "metadata": {},
     "output_type": "execute_result"
    }
   ],
   "source": [
    "pwd"
   ]
  },
  {
   "cell_type": "code",
   "execution_count": 27,
   "id": "73cacefe-1158-458d-a195-8519c113172d",
   "metadata": {},
   "outputs": [
    {
     "name": "stdout",
     "output_type": "stream",
     "text": [
      "First Line of File\n",
      "Second Line of File\n",
      "Third Line of File\n",
      "Last Line of File\n"
     ]
    }
   ],
   "source": [
    "myfile = open('test_file.txt')\n",
    "lines = myfile.read()\n",
    "print(lines)\n",
    "myfile.close()"
   ]
  },
  {
   "cell_type": "code",
   "execution_count": 29,
   "id": "71818cb4-f2aa-4b60-8eb7-ba05cab68cde",
   "metadata": {},
   "outputs": [],
   "source": [
    "with open('test_file.txt ') as myfile:\n",
    "    lines = myfile.read()"
   ]
  },
  {
   "cell_type": "code",
   "execution_count": 31,
   "id": "32c04c12-a834-4f31-bbe8-63adb6ca0751",
   "metadata": {},
   "outputs": [
    {
     "name": "stdout",
     "output_type": "stream",
     "text": [
      "First Line of File\n",
      "Second Line of File\n",
      "Third Line of File\n",
      "Last Line of File\n"
     ]
    }
   ],
   "source": [
    "print(lines)"
   ]
  },
  {
   "cell_type": "code",
   "execution_count": 33,
   "id": "f601d2da-41a6-4752-94e1-b5f46cb53fed",
   "metadata": {},
   "outputs": [
    {
     "data": {
      "text/plain": [
       "'First Line of File\\nSecond Line of File\\nThird Line of File\\nLast Line of File'"
      ]
     },
     "execution_count": 33,
     "metadata": {},
     "output_type": "execute_result"
    }
   ],
   "source": [
    "lines"
   ]
  },
  {
   "cell_type": "code",
   "execution_count": 5,
   "id": "6a8fbac8-940f-4fd0-ac07-60ccd3633958",
   "metadata": {},
   "outputs": [
    {
     "data": {
      "text/plain": [
       "'Only One Line'"
      ]
     },
     "execution_count": 5,
     "metadata": {},
     "output_type": "execute_result"
    }
   ],
   "source": [
    "f = open('second_file.txt',mode='r')\n",
    "f.read()"
   ]
  },
  {
   "cell_type": "code",
   "execution_count": 7,
   "id": "f13efec1-90ca-491a-a39e-72970aa70506",
   "metadata": {},
   "outputs": [],
   "source": [
    "f.close()"
   ]
  },
  {
   "cell_type": "code",
   "execution_count": 11,
   "id": "a15c27e8-8160-485c-ac05-eb06f54ac9a2",
   "metadata": {},
   "outputs": [
    {
     "data": {
      "text/plain": [
       "8"
      ]
     },
     "execution_count": 11,
     "metadata": {},
     "output_type": "execute_result"
    }
   ],
   "source": [
    "f = open('second_file.txt', 'w')\n",
    "f.write('new line')"
   ]
  },
  {
   "cell_type": "code",
   "execution_count": 13,
   "id": "7c1f32b9-6623-4985-abd6-1400ba1a61c5",
   "metadata": {},
   "outputs": [],
   "source": [
    "f.close()"
   ]
  },
  {
   "cell_type": "code",
   "execution_count": 15,
   "id": "7d673dea-0d25-4ddb-99c3-c76a3159d7ec",
   "metadata": {},
   "outputs": [
    {
     "name": "stdout",
     "output_type": "stream",
     "text": [
      "new line\n"
     ]
    }
   ],
   "source": [
    "with open('second_file.txt') as f:\n",
    "    print(f.read())"
   ]
  },
  {
   "cell_type": "code",
   "execution_count": 17,
   "id": "a18c00ef-1b81-4ab8-85e1-f14ff9a6636b",
   "metadata": {},
   "outputs": [],
   "source": [
    "with open('asdf.txt','w') as f:\n",
    "    f.write('NEW FILE MADE')"
   ]
  },
  {
   "cell_type": "code",
   "execution_count": 19,
   "id": "2b030f1b-148c-4403-8992-ee5d9501a119",
   "metadata": {},
   "outputs": [
    {
     "name": "stdout",
     "output_type": "stream",
     "text": [
      "NEW FILE MADE\n"
     ]
    }
   ],
   "source": [
    "with open('asdf.txt') as f:\n",
    "    print(f.read())"
   ]
  },
  {
   "cell_type": "code",
   "execution_count": 25,
   "id": "deb7bf42-487d-48cf-8714-09c428b19276",
   "metadata": {},
   "outputs": [],
   "source": [
    "with open('asdf.txt', 'a') as f:\n",
    "    f.write('\\nsome other line')"
   ]
  },
  {
   "cell_type": "code",
   "execution_count": 27,
   "id": "73cc182c-68f8-4c62-931f-e311ca132008",
   "metadata": {},
   "outputs": [
    {
     "name": "stdout",
     "output_type": "stream",
     "text": [
      "NEW FILE MADEsome other line\n",
      "some other line\n"
     ]
    }
   ],
   "source": [
    "with open('asdf.txt','r') as f:\n",
    "    print(f.read())"
   ]
  },
  {
   "cell_type": "code",
   "execution_count": null,
   "id": "14f6b1a9-34f6-4fbb-a0a6-d63606d25026",
   "metadata": {},
   "outputs": [],
   "source": []
  }
 ],
 "metadata": {
  "kernelspec": {
   "display_name": "Python [conda env:base] *",
   "language": "python",
   "name": "conda-base-py"
  },
  "language_info": {
   "codemirror_mode": {
    "name": "ipython",
    "version": 3
   },
   "file_extension": ".py",
   "mimetype": "text/x-python",
   "name": "python",
   "nbconvert_exporter": "python",
   "pygments_lexer": "ipython3",
   "version": "3.12.7"
  }
 },
 "nbformat": 4,
 "nbformat_minor": 5
}
