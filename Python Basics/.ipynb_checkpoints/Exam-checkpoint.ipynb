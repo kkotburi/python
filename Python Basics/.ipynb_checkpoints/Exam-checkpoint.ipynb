{
 "cells": [
  {
   "cell_type": "code",
   "execution_count": 1,
   "id": "1f2c9ef9-0433-4d85-908f-1bb8d5bd47b4",
   "metadata": {},
   "outputs": [
    {
     "name": "stdout",
     "output_type": "stream",
     "text": [
      "['Welcome to your First Exam Recruit.\\n', 'Only the best recruits can become agents.\\n', 'Dou youy have what it takes?\\n', 'We eill test your knowledge with this field readiness exam.\\n', 'It should be pretty simple, since you only know the basics so far.\\n', \"Let's get started.\\n\", 'Best of luck recruit.']\n"
     ]
    }
   ],
   "source": [
    "myfile = open('exam.txt')\n",
    "lines = myfile.readlines()\n",
    "print(lines)"
   ]
  },
  {
   "cell_type": "code",
   "execution_count": 11,
   "id": "200a98ec-d5b7-4252-967f-6874360ac119",
   "metadata": {},
   "outputs": [
    {
     "data": {
      "text/plain": [
       "7"
      ]
     },
     "execution_count": 11,
     "metadata": {},
     "output_type": "execute_result"
    }
   ],
   "source": [
    "len(lines)"
   ]
  },
  {
   "cell_type": "code",
   "execution_count": 13,
   "id": "dd103154-3222-47f6-bbf5-9a72f19cef55",
   "metadata": {},
   "outputs": [
    {
     "name": "stdout",
     "output_type": "stream",
     "text": [
      "It should be pretty simple, since you only know the basics so far.\n",
      "\n"
     ]
    }
   ],
   "source": [
    "print(lines[4])"
   ]
  },
  {
   "cell_type": "code",
   "execution_count": 15,
   "id": "092ede76-d0a7-4282-a205-081a66aa625f",
   "metadata": {},
   "outputs": [],
   "source": [
    "last = lines.pop()"
   ]
  },
  {
   "cell_type": "code",
   "execution_count": 17,
   "id": "b47ebe2d-1507-4d0f-92ae-7b51db836f14",
   "metadata": {},
   "outputs": [
    {
     "data": {
      "text/plain": [
       "'Best of luck recruit.'"
      ]
     },
     "execution_count": 17,
     "metadata": {},
     "output_type": "execute_result"
    }
   ],
   "source": [
    "last"
   ]
  },
  {
   "cell_type": "code",
   "execution_count": 19,
   "id": "34275f8e-944a-46cb-b793-000efbc7664a",
   "metadata": {},
   "outputs": [
    {
     "data": {
      "text/plain": [
       "'o'"
      ]
     },
     "execution_count": 19,
     "metadata": {},
     "output_type": "execute_result"
    }
   ],
   "source": [
    "last[5]"
   ]
  },
  {
   "cell_type": "code",
   "execution_count": 21,
   "id": "5a889c8f-b193-4926-80b7-8b612ebaac9d",
   "metadata": {},
   "outputs": [
    {
     "data": {
      "text/plain": [
       "4"
      ]
     },
     "execution_count": 21,
     "metadata": {},
     "output_type": "execute_result"
    }
   ],
   "source": [
    "len(last.split(' '))"
   ]
  },
  {
   "cell_type": "code",
   "execution_count": 25,
   "id": "60a95a28-02c8-4f4f-b634-910014b97fe4",
   "metadata": {},
   "outputs": [
    {
     "data": {
      "text/plain": [
       "0.6666666666666666"
      ]
     },
     "execution_count": 25,
     "metadata": {},
     "output_type": "execute_result"
    }
   ],
   "source": [
    "2/3"
   ]
  },
  {
   "cell_type": "code",
   "execution_count": 27,
   "id": "daca83cd-adbe-4e1c-a7db-26099fca43c5",
   "metadata": {},
   "outputs": [
    {
     "data": {
      "text/plain": [
       "4.0"
      ]
     },
     "execution_count": 27,
     "metadata": {},
     "output_type": "execute_result"
    }
   ],
   "source": [
    "2 + 2.0"
   ]
  },
  {
   "cell_type": "code",
   "execution_count": 29,
   "id": "8e638c57-581e-4ef4-923c-b47b654f9b2e",
   "metadata": {},
   "outputs": [
    {
     "data": {
      "text/plain": [
       "2"
      ]
     },
     "execution_count": 29,
     "metadata": {},
     "output_type": "execute_result"
    }
   ],
   "source": [
    "1 + 1"
   ]
  },
  {
   "cell_type": "code",
   "execution_count": 31,
   "id": "e3d4d5b7-1d97-4e23-a463-f1e760d9d0c2",
   "metadata": {},
   "outputs": [
    {
     "data": {
      "text/plain": [
       "'22'"
      ]
     },
     "execution_count": 31,
     "metadata": {},
     "output_type": "execute_result"
    }
   ],
   "source": [
    "\"2\" + \"2\""
   ]
  },
  {
   "cell_type": "code",
   "execution_count": 33,
   "id": "5871d57c-09b7-4f43-a1b7-a15311ef7b6a",
   "metadata": {},
   "outputs": [
    {
     "data": {
      "text/plain": [
       "False"
      ]
     },
     "execution_count": 33,
     "metadata": {},
     "output_type": "execute_result"
    }
   ],
   "source": [
    "1 > 2"
   ]
  },
  {
   "cell_type": "code",
   "execution_count": 37,
   "id": "5d2db2ac-9c96-46ba-876e-33db4cdabbbf",
   "metadata": {},
   "outputs": [],
   "source": [
    "d = {\"levelone\":[1,2,{'leveltwo':[5,6,[1,['get me please']]]}]}"
   ]
  },
  {
   "cell_type": "code",
   "execution_count": 47,
   "id": "39f0af18-32be-45a6-ae51-46a8e1269506",
   "metadata": {},
   "outputs": [
    {
     "data": {
      "text/plain": [
       "'get me please'"
      ]
     },
     "execution_count": 47,
     "metadata": {},
     "output_type": "execute_result"
    }
   ],
   "source": [
    "d[\"levelone\"][2]['leveltwo'][2][1][0]"
   ]
  },
  {
   "cell_type": "code",
   "execution_count": 49,
   "id": "6238d1e0-d7ff-4c85-ad69-19c8db85a394",
   "metadata": {},
   "outputs": [],
   "source": [
    "mylist = [1,2,3,4,5,6,4,3,2,1,2,3,4,5,6,6,7,8,5,6,7,8,9,8,9,8,9,7,10,123,1,2,2,3,1,3,2,4,1,4,4,1,2,2,22,3,4,1,4,1]"
   ]
  },
  {
   "cell_type": "code",
   "execution_count": null,
   "id": "c7282c33-2d98-4959-a774-cdd36c9e397a",
   "metadata": {},
   "outputs": [],
   "source": []
  },
  {
   "cell_type": "code",
   "execution_count": null,
   "id": "2d44d0d1-d20c-46fa-8daa-b4aeb80f180d",
   "metadata": {},
   "outputs": [],
   "source": [
    "# answer"
   ]
  },
  {
   "cell_type": "code",
   "execution_count": 2,
   "id": "33c7d585-a7a1-4185-a0c9-66099bee5600",
   "metadata": {},
   "outputs": [],
   "source": [
    "with open('exam.txt','r') as f :\n",
    "    exam_lines = f.readlines()"
   ]
  },
  {
   "cell_type": "code",
   "execution_count": 4,
   "id": "4789cf8a-383b-4da8-8203-53dffd01d1c0",
   "metadata": {},
   "outputs": [
    {
     "data": {
      "text/plain": [
       "['Welcome to your First Exam Recruit.\\n',\n",
       " 'Only the best recruits can become agents.\\n',\n",
       " 'Dou youy have what it takes?\\n',\n",
       " 'We eill test your knowledge with this field readiness exam.\\n',\n",
       " 'It should be pretty simple, since you only know the basics so far.\\n',\n",
       " \"Let's get started.\\n\",\n",
       " 'Best of luck recruit.']"
      ]
     },
     "execution_count": 4,
     "metadata": {},
     "output_type": "execute_result"
    }
   ],
   "source": [
    "exam_lines"
   ]
  },
  {
   "cell_type": "code",
   "execution_count": 6,
   "id": "0acb1c8a-cc56-4aeb-8c21-e7b7d7157261",
   "metadata": {},
   "outputs": [
    {
     "data": {
      "text/plain": [
       "7"
      ]
     },
     "execution_count": 6,
     "metadata": {},
     "output_type": "execute_result"
    }
   ],
   "source": [
    "len(exam_lines)"
   ]
  },
  {
   "cell_type": "code",
   "execution_count": 11,
   "id": "c341cf6b-5b8f-477f-a37e-bbb4917d3f28",
   "metadata": {},
   "outputs": [
    {
     "data": {
      "text/plain": [
       "'It should be pretty simple, since you only know the basics so far.\\n'"
      ]
     },
     "execution_count": 11,
     "metadata": {},
     "output_type": "execute_result"
    }
   ],
   "source": [
    "exam_lines[4]"
   ]
  },
  {
   "cell_type": "code",
   "execution_count": 13,
   "id": "b44fb0ca-d394-4ba6-a8ee-67b8510977c3",
   "metadata": {},
   "outputs": [],
   "source": [
    "last = exam_lines[-1]"
   ]
  },
  {
   "cell_type": "code",
   "execution_count": 15,
   "id": "473a08fd-cdec-417d-aaa9-f5800ce36691",
   "metadata": {},
   "outputs": [
    {
     "data": {
      "text/plain": [
       "'Best of luck recruit.'"
      ]
     },
     "execution_count": 15,
     "metadata": {},
     "output_type": "execute_result"
    }
   ],
   "source": [
    "last"
   ]
  },
  {
   "cell_type": "code",
   "execution_count": 17,
   "id": "f54b1b09-da22-4ef7-9667-54d8b11d4fa8",
   "metadata": {},
   "outputs": [
    {
     "data": {
      "text/plain": [
       "'Best of luck recruit.'"
      ]
     },
     "execution_count": 17,
     "metadata": {},
     "output_type": "execute_result"
    }
   ],
   "source": [
    "last"
   ]
  },
  {
   "cell_type": "code",
   "execution_count": 19,
   "id": "e21a8f64-54b1-42c6-a4c3-920e7b15f41b",
   "metadata": {},
   "outputs": [
    {
     "data": {
      "text/plain": [
       "'o'"
      ]
     },
     "execution_count": 19,
     "metadata": {},
     "output_type": "execute_result"
    }
   ],
   "source": [
    "last[5]"
   ]
  },
  {
   "cell_type": "code",
   "execution_count": 21,
   "id": "6f6e860e-1dd5-47ca-a59b-abd77c109d1c",
   "metadata": {},
   "outputs": [
    {
     "data": {
      "text/plain": [
       "21"
      ]
     },
     "execution_count": 21,
     "metadata": {},
     "output_type": "execute_result"
    }
   ],
   "source": [
    "len(last)"
   ]
  },
  {
   "cell_type": "code",
   "execution_count": 25,
   "id": "f4e17ade-ab20-4360-94a6-9e31180ea9e2",
   "metadata": {},
   "outputs": [
    {
     "data": {
      "text/plain": [
       "['Best', 'of', 'luck', 'recruit.']"
      ]
     },
     "execution_count": 25,
     "metadata": {},
     "output_type": "execute_result"
    }
   ],
   "source": [
    "last.split()"
   ]
  },
  {
   "cell_type": "code",
   "execution_count": 27,
   "id": "c7ff4d93-3874-434d-bcb7-5e9d535623cb",
   "metadata": {},
   "outputs": [
    {
     "data": {
      "text/plain": [
       "4"
      ]
     },
     "execution_count": 27,
     "metadata": {},
     "output_type": "execute_result"
    }
   ],
   "source": [
    "len(last.split())"
   ]
  },
  {
   "cell_type": "code",
   "execution_count": 31,
   "id": "79d534c7-7d6b-4fd5-8562-3905a86b2401",
   "metadata": {},
   "outputs": [],
   "source": [
    "d = {\"levelone\":[1,2,{'leveltwo':[5,6,[1,['get me please']]]}]}"
   ]
  },
  {
   "cell_type": "code",
   "execution_count": 33,
   "id": "5d97ebfa-b4c1-401a-8848-6bfe89ce77fe",
   "metadata": {},
   "outputs": [
    {
     "data": {
      "text/plain": [
       "dict_keys(['levelone'])"
      ]
     },
     "execution_count": 33,
     "metadata": {},
     "output_type": "execute_result"
    }
   ],
   "source": [
    "d.keys()"
   ]
  },
  {
   "cell_type": "code",
   "execution_count": 35,
   "id": "8b6140d2-8cd4-4d30-a725-876b12f907d9",
   "metadata": {},
   "outputs": [
    {
     "data": {
      "text/plain": [
       "[1, 2, {'leveltwo': [5, 6, [1, ['get me please']]]}]"
      ]
     },
     "execution_count": 35,
     "metadata": {},
     "output_type": "execute_result"
    }
   ],
   "source": [
    "d['levelone']"
   ]
  },
  {
   "cell_type": "code",
   "execution_count": 39,
   "id": "db478efe-59bc-4225-9d1a-674b95d4d119",
   "metadata": {},
   "outputs": [
    {
     "data": {
      "text/plain": [
       "{'leveltwo': [5, 6, [1, ['get me please']]]}"
      ]
     },
     "execution_count": 39,
     "metadata": {},
     "output_type": "execute_result"
    }
   ],
   "source": [
    "d['levelone'][2]"
   ]
  },
  {
   "cell_type": "code",
   "execution_count": 41,
   "id": "dd33cee7-e3cb-461d-9f78-063f8237db2c",
   "metadata": {},
   "outputs": [
    {
     "data": {
      "text/plain": [
       "[5, 6, [1, ['get me please']]]"
      ]
     },
     "execution_count": 41,
     "metadata": {},
     "output_type": "execute_result"
    }
   ],
   "source": [
    "d['levelone'][2]['leveltwo']"
   ]
  },
  {
   "cell_type": "code",
   "execution_count": 43,
   "id": "2bd8c98d-bb15-412f-a569-282a79ee5c84",
   "metadata": {},
   "outputs": [
    {
     "data": {
      "text/plain": [
       "[1, ['get me please']]"
      ]
     },
     "execution_count": 43,
     "metadata": {},
     "output_type": "execute_result"
    }
   ],
   "source": [
    "d['levelone'][2]['leveltwo'][2]"
   ]
  },
  {
   "cell_type": "code",
   "execution_count": 45,
   "id": "01054d92-1fbf-4a70-9539-9fa80e7a2678",
   "metadata": {},
   "outputs": [
    {
     "data": {
      "text/plain": [
       "['get me please']"
      ]
     },
     "execution_count": 45,
     "metadata": {},
     "output_type": "execute_result"
    }
   ],
   "source": [
    "d['levelone'][2]['leveltwo'][2][1]"
   ]
  },
  {
   "cell_type": "code",
   "execution_count": 47,
   "id": "d0ef7d52-3e68-4a24-9e90-aa6b794dcac1",
   "metadata": {},
   "outputs": [
    {
     "data": {
      "text/plain": [
       "'get me please'"
      ]
     },
     "execution_count": 47,
     "metadata": {},
     "output_type": "execute_result"
    }
   ],
   "source": [
    "d['levelone'][2]['leveltwo'][2][1][0]"
   ]
  },
  {
   "cell_type": "code",
   "execution_count": 49,
   "id": "bf6b3ce1-05db-4ff7-9a90-2773a598ed2e",
   "metadata": {},
   "outputs": [],
   "source": [
    "mylist = [1,2,3,4,5,6,4,3,2,1,2,3,4,5,6,6,7,8,5,6,7,8,9,8,9,8,9,7,10,123,1,2,2,3,1,3,2,4,1,4,4,1,2,2,22,3,4,1,4,1]"
   ]
  },
  {
   "cell_type": "code",
   "execution_count": 51,
   "id": "27bc6a5b-7b0a-4d42-9cb7-ca327887265c",
   "metadata": {},
   "outputs": [
    {
     "data": {
      "text/plain": [
       "{1, 2, 3, 4, 5, 6, 7, 8, 9, 10, 22, 123}"
      ]
     },
     "execution_count": 51,
     "metadata": {},
     "output_type": "execute_result"
    }
   ],
   "source": [
    "set(mylist)"
   ]
  },
  {
   "cell_type": "code",
   "execution_count": 53,
   "id": "54e0aea7-c4e7-49be-97f0-0b5304ab60ad",
   "metadata": {},
   "outputs": [
    {
     "data": {
      "text/plain": [
       "12"
      ]
     },
     "execution_count": 53,
     "metadata": {},
     "output_type": "execute_result"
    }
   ],
   "source": [
    "len(set(mylist))"
   ]
  },
  {
   "cell_type": "code",
   "execution_count": null,
   "id": "56d888c4-2cad-4c02-8448-99ed9e75a7fb",
   "metadata": {},
   "outputs": [],
   "source": []
  }
 ],
 "metadata": {
  "kernelspec": {
   "display_name": "Python [conda env:base] *",
   "language": "python",
   "name": "conda-base-py"
  },
  "language_info": {
   "codemirror_mode": {
    "name": "ipython",
    "version": 3
   },
   "file_extension": ".py",
   "mimetype": "text/x-python",
   "name": "python",
   "nbconvert_exporter": "python",
   "pygments_lexer": "ipython3",
   "version": "3.12.7"
  }
 },
 "nbformat": 4,
 "nbformat_minor": 5
}
