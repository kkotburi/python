{
 "cells": [
  {
   "cell_type": "code",
   "execution_count": 1,
   "id": "b4f531c6-f1f6-4763-9774-11d6a02481a5",
   "metadata": {},
   "outputs": [],
   "source": [
    "my_list = [1,2,3]"
   ]
  },
  {
   "cell_type": "code",
   "execution_count": 3,
   "id": "ea4eb256-2112-4cca-8504-e75f9f69021a",
   "metadata": {},
   "outputs": [
    {
     "data": {
      "text/plain": [
       "[1, 2, 3]"
      ]
     },
     "execution_count": 3,
     "metadata": {},
     "output_type": "execute_result"
    }
   ],
   "source": [
    "my_list"
   ]
  },
  {
   "cell_type": "code",
   "execution_count": 9,
   "id": "069630c3-eb36-493f-a203-bc80e832f05e",
   "metadata": {},
   "outputs": [],
   "source": [
    "my_list = ['a','bbb','werw']"
   ]
  },
  {
   "cell_type": "code",
   "execution_count": 11,
   "id": "b77e89f5-37c5-49f2-a5c4-1b84aeda3a30",
   "metadata": {},
   "outputs": [
    {
     "data": {
      "text/plain": [
       "['a', 'bbb', 'werw']"
      ]
     },
     "execution_count": 11,
     "metadata": {},
     "output_type": "execute_result"
    }
   ],
   "source": [
    "my_list"
   ]
  },
  {
   "cell_type": "code",
   "execution_count": 13,
   "id": "5bbc34f0-b21b-4abf-9e4f-6f0a33d12bb2",
   "metadata": {},
   "outputs": [],
   "source": [
    "my_list = [1,2.3,'are']"
   ]
  },
  {
   "cell_type": "code",
   "execution_count": 15,
   "id": "a2145164-9f3d-41c8-90ef-31903a0892c4",
   "metadata": {},
   "outputs": [],
   "source": [
    "mylist = ['a','b','c','d']"
   ]
  },
  {
   "cell_type": "code",
   "execution_count": 18,
   "id": "77f147fe-86ff-401e-a38f-ef4a73671fbd",
   "metadata": {},
   "outputs": [
    {
     "data": {
      "text/plain": [
       "['a', 'b', 'c', 'd']"
      ]
     },
     "execution_count": 18,
     "metadata": {},
     "output_type": "execute_result"
    }
   ],
   "source": [
    "mylist"
   ]
  },
  {
   "cell_type": "code",
   "execution_count": 20,
   "id": "e834b520-7afe-4979-9b22-fbdeb30ba1b0",
   "metadata": {},
   "outputs": [
    {
     "data": {
      "text/plain": [
       "'a'"
      ]
     },
     "execution_count": 20,
     "metadata": {},
     "output_type": "execute_result"
    }
   ],
   "source": [
    "mylist[0]"
   ]
  },
  {
   "cell_type": "code",
   "execution_count": 22,
   "id": "477a0c49-7de0-4d3a-8a72-881fa8abef2f",
   "metadata": {},
   "outputs": [
    {
     "data": {
      "text/plain": [
       "['a', 'b', 'c']"
      ]
     },
     "execution_count": 22,
     "metadata": {},
     "output_type": "execute_result"
    }
   ],
   "source": [
    "mylist[0:3]"
   ]
  },
  {
   "cell_type": "code",
   "execution_count": 24,
   "id": "d168f12d-2089-4095-8c68-28c47369243b",
   "metadata": {},
   "outputs": [
    {
     "data": {
      "text/plain": [
       "5"
      ]
     },
     "execution_count": 24,
     "metadata": {},
     "output_type": "execute_result"
    }
   ],
   "source": [
    "len('hello')"
   ]
  },
  {
   "cell_type": "code",
   "execution_count": 26,
   "id": "5d7f124e-24a6-4c57-96c3-118715a2d5fa",
   "metadata": {},
   "outputs": [
    {
     "data": {
      "text/plain": [
       "4"
      ]
     },
     "execution_count": 26,
     "metadata": {},
     "output_type": "execute_result"
    }
   ],
   "source": [
    "len(mylist)"
   ]
  },
  {
   "cell_type": "code",
   "execution_count": 28,
   "id": "f39d854d-7e5f-4b7e-899b-fd54a9ac5099",
   "metadata": {},
   "outputs": [],
   "source": [
    "mylist = [1,2,3]"
   ]
  },
  {
   "cell_type": "code",
   "execution_count": 30,
   "id": "7cd3f8e7-5390-4f6c-a642-74f6b1620cbc",
   "metadata": {},
   "outputs": [
    {
     "data": {
      "text/plain": [
       "[1, 2, 3]"
      ]
     },
     "execution_count": 30,
     "metadata": {},
     "output_type": "execute_result"
    }
   ],
   "source": [
    "mylist"
   ]
  },
  {
   "cell_type": "code",
   "execution_count": 32,
   "id": "572dbd87-3cb3-4f7f-96c8-1a11006eb945",
   "metadata": {},
   "outputs": [],
   "source": [
    "mylist.append(4)"
   ]
  },
  {
   "cell_type": "code",
   "execution_count": 34,
   "id": "a1b6f974-6564-49b8-a582-c164e5c3069b",
   "metadata": {},
   "outputs": [
    {
     "data": {
      "text/plain": [
       "[1, 2, 3, 4]"
      ]
     },
     "execution_count": 34,
     "metadata": {},
     "output_type": "execute_result"
    }
   ],
   "source": [
    "mylist"
   ]
  },
  {
   "cell_type": "code",
   "execution_count": 36,
   "id": "2c826d54-df44-4989-9107-7ffd2f12d047",
   "metadata": {},
   "outputs": [
    {
     "data": {
      "text/plain": [
       "<function list.pop(index=-1, /)>"
      ]
     },
     "execution_count": 36,
     "metadata": {},
     "output_type": "execute_result"
    }
   ],
   "source": [
    "mylist.pop"
   ]
  },
  {
   "cell_type": "code",
   "execution_count": 38,
   "id": "89c541ec-0109-45f4-a574-5972f3ec0ca8",
   "metadata": {},
   "outputs": [
    {
     "data": {
      "text/plain": [
       "4"
      ]
     },
     "execution_count": 38,
     "metadata": {},
     "output_type": "execute_result"
    }
   ],
   "source": [
    "mylist.pop()"
   ]
  },
  {
   "cell_type": "code",
   "execution_count": 40,
   "id": "474f4b34-843f-4c0f-98c4-e58db8a993f9",
   "metadata": {},
   "outputs": [
    {
     "data": {
      "text/plain": [
       "[1, 2, 3]"
      ]
     },
     "execution_count": 40,
     "metadata": {},
     "output_type": "execute_result"
    }
   ],
   "source": [
    "mylist"
   ]
  },
  {
   "cell_type": "code",
   "execution_count": 42,
   "id": "49dcf750-c8b0-4c50-9ff1-98f838dfc2eb",
   "metadata": {},
   "outputs": [],
   "source": [
    "mylist.append(4)"
   ]
  },
  {
   "cell_type": "code",
   "execution_count": 44,
   "id": "f6f39f13-80f4-4715-a84d-95d559511133",
   "metadata": {},
   "outputs": [
    {
     "data": {
      "text/plain": [
       "[1, 2, 3, 4]"
      ]
     },
     "execution_count": 44,
     "metadata": {},
     "output_type": "execute_result"
    }
   ],
   "source": [
    "mylist"
   ]
  },
  {
   "cell_type": "code",
   "execution_count": 46,
   "id": "55336d20-8482-439f-a2c4-be10197561d0",
   "metadata": {},
   "outputs": [
    {
     "data": {
      "text/plain": [
       "1"
      ]
     },
     "execution_count": 46,
     "metadata": {},
     "output_type": "execute_result"
    }
   ],
   "source": [
    "mylist.pop(0)"
   ]
  },
  {
   "cell_type": "code",
   "execution_count": 48,
   "id": "3095d913-1f97-45a6-a994-601a124e7d93",
   "metadata": {},
   "outputs": [
    {
     "data": {
      "text/plain": [
       "[2, 3, 4]"
      ]
     },
     "execution_count": 48,
     "metadata": {},
     "output_type": "execute_result"
    }
   ],
   "source": [
    "mylist"
   ]
  },
  {
   "cell_type": "code",
   "execution_count": 50,
   "id": "20c86f5e-2111-4487-946e-835883124db5",
   "metadata": {},
   "outputs": [],
   "source": [
    "mylist = [1,2,3,4]"
   ]
  },
  {
   "cell_type": "code",
   "execution_count": 52,
   "id": "f66c4b5e-d490-42f2-a884-0babf703feb8",
   "metadata": {},
   "outputs": [
    {
     "data": {
      "text/plain": [
       "4"
      ]
     },
     "execution_count": 52,
     "metadata": {},
     "output_type": "execute_result"
    }
   ],
   "source": [
    "mylist.pop()"
   ]
  },
  {
   "cell_type": "code",
   "execution_count": 54,
   "id": "d465fb1f-6511-4f4a-9515-a2c7661e7053",
   "metadata": {},
   "outputs": [
    {
     "data": {
      "text/plain": [
       "[1, 2, 3]"
      ]
     },
     "execution_count": 54,
     "metadata": {},
     "output_type": "execute_result"
    }
   ],
   "source": [
    "mylist"
   ]
  },
  {
   "cell_type": "code",
   "execution_count": 56,
   "id": "54ea20d5-9f7f-4d1e-9ed3-422367aea059",
   "metadata": {},
   "outputs": [],
   "source": [
    "mylist.append(4)"
   ]
  },
  {
   "cell_type": "code",
   "execution_count": 58,
   "id": "ef34accb-16f5-44a3-84c6-34b7fbab6db2",
   "metadata": {},
   "outputs": [
    {
     "data": {
      "text/plain": [
       "[1, 2, 3, 4]"
      ]
     },
     "execution_count": 58,
     "metadata": {},
     "output_type": "execute_result"
    }
   ],
   "source": [
    "mylist"
   ]
  },
  {
   "cell_type": "code",
   "execution_count": 60,
   "id": "17a8f6d8-f60b-42a9-b199-2484f6d31112",
   "metadata": {},
   "outputs": [],
   "source": [
    "my_first_item = mylist.pop(0)"
   ]
  },
  {
   "cell_type": "code",
   "execution_count": 62,
   "id": "8eb4e060-f706-49f0-9038-208ed8767ac4",
   "metadata": {},
   "outputs": [
    {
     "data": {
      "text/plain": [
       "[2, 3, 4]"
      ]
     },
     "execution_count": 62,
     "metadata": {},
     "output_type": "execute_result"
    }
   ],
   "source": [
    "mylist"
   ]
  },
  {
   "cell_type": "code",
   "execution_count": 64,
   "id": "2934f581-b10d-41b9-9455-78fa13aefa9f",
   "metadata": {},
   "outputs": [
    {
     "data": {
      "text/plain": [
       "1"
      ]
     },
     "execution_count": 64,
     "metadata": {},
     "output_type": "execute_result"
    }
   ],
   "source": [
    "my_first_item"
   ]
  },
  {
   "cell_type": "code",
   "execution_count": 66,
   "id": "e75917e8-ee15-4831-8141-5e8c6ccc6231",
   "metadata": {},
   "outputs": [],
   "source": [
    "mylist = [1,2,3,4,5]"
   ]
  },
  {
   "cell_type": "code",
   "execution_count": 68,
   "id": "df6a8cb4-a6f6-461a-8851-049535444523",
   "metadata": {},
   "outputs": [
    {
     "data": {
      "text/plain": [
       "[1, 2, 3, 4, 5]"
      ]
     },
     "execution_count": 68,
     "metadata": {},
     "output_type": "execute_result"
    }
   ],
   "source": [
    "mylist"
   ]
  },
  {
   "cell_type": "code",
   "execution_count": 70,
   "id": "181d84e5-913f-44d6-a3a5-118b1b7fb81e",
   "metadata": {},
   "outputs": [],
   "source": [
    "mylist.reverse()"
   ]
  },
  {
   "cell_type": "code",
   "execution_count": 72,
   "id": "9943b806-fb00-4d14-a33f-4612a03b232d",
   "metadata": {},
   "outputs": [
    {
     "data": {
      "text/plain": [
       "[5, 4, 3, 2, 1]"
      ]
     },
     "execution_count": 72,
     "metadata": {},
     "output_type": "execute_result"
    }
   ],
   "source": [
    "mylist"
   ]
  },
  {
   "cell_type": "code",
   "execution_count": 74,
   "id": "fa39a984-51de-4a51-8822-e0d2f1f53fd7",
   "metadata": {},
   "outputs": [],
   "source": [
    "result = mylist.reverse()"
   ]
  },
  {
   "cell_type": "code",
   "execution_count": 76,
   "id": "a2b697cb-b3ab-4eab-a341-0dbc4397a955",
   "metadata": {},
   "outputs": [],
   "source": [
    "result"
   ]
  },
  {
   "cell_type": "code",
   "execution_count": 78,
   "id": "f0013c8f-4c02-4ca1-a81f-aaebeccf8cb9",
   "metadata": {},
   "outputs": [
    {
     "data": {
      "text/plain": [
       "[1, 2, 3, 4, 5]"
      ]
     },
     "execution_count": 78,
     "metadata": {},
     "output_type": "execute_result"
    }
   ],
   "source": [
    "mylist"
   ]
  },
  {
   "cell_type": "code",
   "execution_count": 80,
   "id": "7fde1de5-49d3-444a-8217-b6c0a610952b",
   "metadata": {},
   "outputs": [],
   "source": [
    "mylist = [4,7,2,9]"
   ]
  },
  {
   "cell_type": "code",
   "execution_count": 82,
   "id": "4af34c3e-5a17-4503-8bf9-69dc3f7600b9",
   "metadata": {},
   "outputs": [],
   "source": [
    "mylist.sort()"
   ]
  },
  {
   "cell_type": "code",
   "execution_count": 84,
   "id": "0c9b8ee6-9a03-44a4-818e-954f56bd942b",
   "metadata": {},
   "outputs": [
    {
     "data": {
      "text/plain": [
       "[2, 4, 7, 9]"
      ]
     },
     "execution_count": 84,
     "metadata": {},
     "output_type": "execute_result"
    }
   ],
   "source": [
    "mylist"
   ]
  },
  {
   "cell_type": "code",
   "execution_count": 86,
   "id": "4e2873aa-9866-4227-ab98-bd368de64fea",
   "metadata": {},
   "outputs": [],
   "source": [
    "mylist = [1,2,3]"
   ]
  },
  {
   "cell_type": "code",
   "execution_count": 88,
   "id": "3eb49881-c67b-4811-813d-bfdb41f7ef5e",
   "metadata": {},
   "outputs": [],
   "source": [
    "mylist.insert(0,'NEW')"
   ]
  },
  {
   "cell_type": "code",
   "execution_count": 90,
   "id": "71229395-0c13-4e58-9d19-763fa8ae3a90",
   "metadata": {},
   "outputs": [
    {
     "data": {
      "text/plain": [
       "['NEW', 1, 2, 3]"
      ]
     },
     "execution_count": 90,
     "metadata": {},
     "output_type": "execute_result"
    }
   ],
   "source": [
    "mylist"
   ]
  },
  {
   "cell_type": "code",
   "execution_count": 92,
   "id": "49a63a32-6ba6-440a-ad95-5401c271b7dd",
   "metadata": {},
   "outputs": [],
   "source": [
    "new_list = [1 , 2 , ['a','b','c']]"
   ]
  },
  {
   "cell_type": "code",
   "execution_count": 94,
   "id": "1117d7ab-1a1b-4132-b6d3-c5f64d967f42",
   "metadata": {},
   "outputs": [
    {
     "data": {
      "text/plain": [
       "list"
      ]
     },
     "execution_count": 94,
     "metadata": {},
     "output_type": "execute_result"
    }
   ],
   "source": [
    "type(new_list)"
   ]
  },
  {
   "cell_type": "code",
   "execution_count": 99,
   "id": "728121ed-a5fe-4b56-bde0-b00c9f38b11c",
   "metadata": {},
   "outputs": [
    {
     "data": {
      "text/plain": [
       "'a'"
      ]
     },
     "execution_count": 99,
     "metadata": {},
     "output_type": "execute_result"
    }
   ],
   "source": [
    "new_list[2][0]"
   ]
  },
  {
   "cell_type": "code",
   "execution_count": null,
   "id": "48030c15-eb06-4465-a36d-3ecdefac8625",
   "metadata": {},
   "outputs": [],
   "source": []
  }
 ],
 "metadata": {
  "kernelspec": {
   "display_name": "Python [conda env:base] *",
   "language": "python",
   "name": "conda-base-py"
  },
  "language_info": {
   "codemirror_mode": {
    "name": "ipython",
    "version": 3
   },
   "file_extension": ".py",
   "mimetype": "text/x-python",
   "name": "python",
   "nbconvert_exporter": "python",
   "pygments_lexer": "ipython3",
   "version": "3.12.7"
  }
 },
 "nbformat": 4,
 "nbformat_minor": 5
}
