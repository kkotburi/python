{
 "cells": [
  {
   "cell_type": "code",
   "execution_count": 1,
   "id": "65e7c7d6-766d-4c2a-a4db-25d7e05c14ec",
   "metadata": {},
   "outputs": [
    {
     "name": "stdout",
     "output_type": "stream",
     "text": [
      "X is currnetly:\n",
      "0\n",
      "Still less than 3, add 1 to x\n",
      "\n",
      "\n",
      "X is currnetly:\n",
      "1\n",
      "Still less than 3, add 1 to x\n",
      "\n",
      "\n",
      "X is currnetly:\n",
      "2\n",
      "Still less than 3, add 1 to x\n",
      "\n",
      "\n",
      "X is currnetly:\n",
      "3\n",
      "Still less than 3, add 1 to x\n",
      "\n",
      "\n"
     ]
    }
   ],
   "source": [
    "x = 0\n",
    "while x <= 3:\n",
    "    print('X is currnetly:')\n",
    "    print(x)\n",
    "    print('Still less than 3, add 1 to x')\n",
    "    x = x + 1\n",
    "    print('\\n')"
   ]
  },
  {
   "cell_type": "code",
   "execution_count": null,
   "id": "613427ed-3aa0-4543-a5a8-d781ab90c7ae",
   "metadata": {},
   "outputs": [],
   "source": []
  },
  {
   "cell_type": "code",
   "execution_count": 3,
   "id": "ace9e039-5db8-4b77-9cb4-9d3eb1a09889",
   "metadata": {},
   "outputs": [
    {
     "name": "stdin",
     "output_type": "stream",
     "text": [
      "Please input a number:  2\n"
     ]
    }
   ],
   "source": [
    "saved_input = input('Please input a number: ')"
   ]
  },
  {
   "cell_type": "code",
   "execution_count": 5,
   "id": "92be42cd-4a2b-4dc8-a0bc-1000c7122681",
   "metadata": {},
   "outputs": [
    {
     "data": {
      "text/plain": [
       "'2'"
      ]
     },
     "execution_count": 5,
     "metadata": {},
     "output_type": "execute_result"
    }
   ],
   "source": [
    "saved_input"
   ]
  },
  {
   "cell_type": "code",
   "execution_count": 29,
   "id": "315d2d06-66cc-483b-ab83-c7ac337accf5",
   "metadata": {},
   "outputs": [
    {
     "name": "stdout",
     "output_type": "stream",
     "text": [
      "Welcome Agent\n"
     ]
    },
    {
     "name": "stdin",
     "output_type": "stream",
     "text": [
      "Please provide your passcode:  345\n"
     ]
    },
    {
     "name": "stdout",
     "output_type": "stream",
     "text": [
      "WRONG PASSWORD\n",
      "PLEASE GO AGAIN\n",
      "\n",
      "\n"
     ]
    },
    {
     "name": "stdin",
     "output_type": "stream",
     "text": [
      "Please provide your passcode:  456\n"
     ]
    },
    {
     "name": "stdout",
     "output_type": "stream",
     "text": [
      "WRONG PASSWORD\n",
      "PLEASE GO AGAIN\n",
      "\n",
      "\n"
     ]
    },
    {
     "name": "stdin",
     "output_type": "stream",
     "text": [
      "Please provide your passcode:  23\n"
     ]
    },
    {
     "name": "stdout",
     "output_type": "stream",
     "text": [
      "WRONG PASSWORD\n",
      "PLEASE GO AGAIN\n",
      "\n",
      "\n"
     ]
    },
    {
     "name": "stdin",
     "output_type": "stream",
     "text": [
      "Please provide your passcode:  123\n"
     ]
    },
    {
     "name": "stdout",
     "output_type": "stream",
     "text": [
      "Correct password\n"
     ]
    }
   ],
   "source": [
    "print('Welcome Agent')\n",
    "\n",
    "passcode = 0\n",
    "\n",
    "while passcode != 123:\n",
    "    passcode = int(input('Please provide your passcode: '))\n",
    "\n",
    "    if passcode != 123:\n",
    "        print('WRONG PASSWORD')\n",
    "        print('PLEASE GO AGAIN')\n",
    "        print('\\n')\n",
    "\n",
    "print(\"Correct password\")"
   ]
  },
  {
   "cell_type": "code",
   "execution_count": 13,
   "id": "e2574fdb-5baa-491c-a752-9eb6ee9c24c8",
   "metadata": {},
   "outputs": [
    {
     "name": "stdin",
     "output_type": "stream",
     "text": [
      "number:  123\n"
     ]
    },
    {
     "data": {
      "text/plain": [
       "'123'"
      ]
     },
     "execution_count": 13,
     "metadata": {},
     "output_type": "execute_result"
    }
   ],
   "source": [
    "input('number: ')"
   ]
  },
  {
   "cell_type": "code",
   "execution_count": 23,
   "id": "42528e80-eeff-420c-a2d1-95415bccbda3",
   "metadata": {},
   "outputs": [
    {
     "data": {
      "text/plain": [
       "True"
      ]
     },
     "execution_count": 23,
     "metadata": {},
     "output_type": "execute_result"
    }
   ],
   "source": [
    "int('123') == 123"
   ]
  },
  {
   "cell_type": "code",
   "execution_count": 25,
   "id": "6b9d04a8-6a3c-4eeb-8ef7-b68b450824a8",
   "metadata": {},
   "outputs": [
    {
     "data": {
      "text/plain": [
       "str"
      ]
     },
     "execution_count": 25,
     "metadata": {},
     "output_type": "execute_result"
    }
   ],
   "source": [
    "type('123')"
   ]
  },
  {
   "cell_type": "code",
   "execution_count": 27,
   "id": "b5f9bad0-f4ad-487e-9262-f2fae0739f2a",
   "metadata": {},
   "outputs": [
    {
     "data": {
      "text/plain": [
       "int"
      ]
     },
     "execution_count": 27,
     "metadata": {},
     "output_type": "execute_result"
    }
   ],
   "source": [
    "type(123)"
   ]
  },
  {
   "cell_type": "code",
   "execution_count": 33,
   "id": "c0bf3c03-d4a4-4658-ba8b-42a0389417b8",
   "metadata": {},
   "outputs": [
    {
     "name": "stdout",
     "output_type": "stream",
     "text": [
      "0\n",
      "1\n",
      "2\n"
     ]
    }
   ],
   "source": [
    "x = 0\n",
    "\n",
    "while x< 10:\n",
    "    print(x)\n",
    "    x = x+1\n",
    "\n",
    "    if x==3:\n",
    "        break"
   ]
  },
  {
   "cell_type": "code",
   "execution_count": null,
   "id": "fc113254-4a20-422a-ba9e-a466544db0ba",
   "metadata": {},
   "outputs": [],
   "source": []
  }
 ],
 "metadata": {
  "kernelspec": {
   "display_name": "Python [conda env:base] *",
   "language": "python",
   "name": "conda-base-py"
  },
  "language_info": {
   "codemirror_mode": {
    "name": "ipython",
    "version": 3
   },
   "file_extension": ".py",
   "mimetype": "text/x-python",
   "name": "python",
   "nbconvert_exporter": "python",
   "pygments_lexer": "ipython3",
   "version": "3.12.7"
  }
 },
 "nbformat": 4,
 "nbformat_minor": 5
}
