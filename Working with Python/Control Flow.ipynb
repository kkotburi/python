{
 "cells": [
  {
   "cell_type": "code",
   "execution_count": null,
   "id": "16c04731-869e-4310-8139-97fa96da984f",
   "metadata": {},
   "outputs": [],
   "source": []
  }
 ],
 "metadata": {
  "kernelspec": {
   "display_name": "",
   "name": ""
  },
  "language_info": {
   "name": ""
  }
 },
 "nbformat": 4,
 "nbformat_minor": 5
}
