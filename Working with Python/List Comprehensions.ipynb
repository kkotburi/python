{
 "cells": [
  {
   "cell_type": "code",
   "execution_count": 5,
   "id": "6b9c986a-6834-4506-ac5a-f60fb5e44da2",
   "metadata": {},
   "outputs": [],
   "source": [
    "mylist = []\n",
    "\n",
    "s = 'somestring'\n",
    "\n",
    "for letter in s:\n",
    "    mylist.append(letter)"
   ]
  },
  {
   "cell_type": "code",
   "execution_count": 7,
   "id": "4f3593ba-ea3e-4ba2-a96e-0e587d3f40dc",
   "metadata": {},
   "outputs": [
    {
     "data": {
      "text/plain": [
       "['s', 'o', 'm', 'e', 's', 't', 'r', 'i', 'n', 'g']"
      ]
     },
     "execution_count": 7,
     "metadata": {},
     "output_type": "execute_result"
    }
   ],
   "source": [
    "mylist"
   ]
  },
  {
   "cell_type": "code",
   "execution_count": 9,
   "id": "2f15a054-0aef-4e5f-beb5-a3c0c7b6d787",
   "metadata": {},
   "outputs": [],
   "source": [
    "s = 'somestring'\n",
    "\n",
    "mynewlist = [letter for letter in s]"
   ]
  },
  {
   "cell_type": "code",
   "execution_count": 11,
   "id": "5f05423d-5ad6-48cf-a987-f7a8e98fa65b",
   "metadata": {},
   "outputs": [
    {
     "data": {
      "text/plain": [
       "['s', 'o', 'm', 'e', 's', 't', 'r', 'i', 'n', 'g']"
      ]
     },
     "execution_count": 11,
     "metadata": {},
     "output_type": "execute_result"
    }
   ],
   "source": [
    "mynewlist"
   ]
  },
  {
   "cell_type": "code",
   "execution_count": 13,
   "id": "5dfbcb4d-7ea6-4cf7-b2d6-0d61083877a4",
   "metadata": {},
   "outputs": [],
   "source": [
    "squares = [x**2 for x in range(0,11)]"
   ]
  },
  {
   "cell_type": "code",
   "execution_count": 15,
   "id": "fa6310d6-c907-4705-8dbb-a710840de75c",
   "metadata": {},
   "outputs": [
    {
     "data": {
      "text/plain": [
       "[0, 1, 4, 9, 16, 25, 36, 49, 64, 81, 100]"
      ]
     },
     "execution_count": 15,
     "metadata": {},
     "output_type": "execute_result"
    }
   ],
   "source": [
    "squares"
   ]
  },
  {
   "cell_type": "code",
   "execution_count": 21,
   "id": "0d698024-7c66-4bca-a2b4-31cedf23946e",
   "metadata": {},
   "outputs": [],
   "source": [
    "evens = [x for x in range(0,10) if x%2 == 0]"
   ]
  },
  {
   "cell_type": "code",
   "execution_count": 23,
   "id": "e7db0840-a1cf-495f-8739-b50ffb19c6b2",
   "metadata": {},
   "outputs": [
    {
     "data": {
      "text/plain": [
       "[0, 2, 4, 6, 8]"
      ]
     },
     "execution_count": 23,
     "metadata": {},
     "output_type": "execute_result"
    }
   ],
   "source": [
    "evens"
   ]
  },
  {
   "cell_type": "code",
   "execution_count": 34,
   "id": "199b28d0-3ffa-43ef-ba2e-b7b9fcb17cf9",
   "metadata": {},
   "outputs": [
    {
     "data": {
      "text/plain": [
       "0"
      ]
     },
     "execution_count": 34,
     "metadata": {},
     "output_type": "execute_result"
    }
   ],
   "source": [
    "30 % 2"
   ]
  },
  {
   "cell_type": "code",
   "execution_count": 36,
   "id": "226338b4-db7a-4038-8423-eb8069245fe2",
   "metadata": {},
   "outputs": [],
   "source": [
    "mylist = [x if x%2 == 0 else 'not even' for x in range(0,10)]"
   ]
  },
  {
   "cell_type": "code",
   "execution_count": 38,
   "id": "e25b9776-8b4f-424b-b101-9be22eb1e189",
   "metadata": {},
   "outputs": [
    {
     "data": {
      "text/plain": [
       "[0, 'not even', 2, 'not even', 4, 'not even', 6, 'not even', 8, 'not even']"
      ]
     },
     "execution_count": 38,
     "metadata": {},
     "output_type": "execute_result"
    }
   ],
   "source": [
    "mylist"
   ]
  },
  {
   "cell_type": "code",
   "execution_count": null,
   "id": "0ef68253-fa41-4214-9618-aaaba7966258",
   "metadata": {},
   "outputs": [],
   "source": []
  }
 ],
 "metadata": {
  "kernelspec": {
   "display_name": "Python [conda env:base] *",
   "language": "python",
   "name": "conda-base-py"
  },
  "language_info": {
   "codemirror_mode": {
    "name": "ipython",
    "version": 3
   },
   "file_extension": ".py",
   "mimetype": "text/x-python",
   "name": "python",
   "nbconvert_exporter": "python",
   "pygments_lexer": "ipython3",
   "version": "3.12.7"
  }
 },
 "nbformat": 4,
 "nbformat_minor": 5
}
