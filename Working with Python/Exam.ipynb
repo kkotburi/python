{
 "cells": [
  {
   "cell_type": "code",
   "execution_count": 49,
   "id": "251ba24f-f88c-4d52-bd1f-2ae151b025dd",
   "metadata": {},
   "outputs": [],
   "source": [
    "mystring = \"Secret agents are super good at staying hidden.\""
   ]
  },
  {
   "cell_type": "code",
   "execution_count": 61,
   "id": "35ae1093-3ffa-4836-99ca-e7591fdd6cf1",
   "metadata": {},
   "outputs": [
    {
     "name": "stdout",
     "output_type": "stream",
     "text": [
      "Secret\n",
      "super\n",
      "staying\n"
     ]
    }
   ],
   "source": [
    "for word in mystring.split():\n",
    "    if word[0].upper() == \"S\":\n",
    "        print(word)"
   ]
  },
  {
   "cell_type": "code",
   "execution_count": 53,
   "id": "41aa1610-0dfe-4362-bb65-49427a937fd4",
   "metadata": {},
   "outputs": [
    {
     "name": "stdout",
     "output_type": "stream",
     "text": [
      "Secret\n",
      "super\n",
      "staying\n"
     ]
    }
   ],
   "source": [
    "# answer\n",
    "for word in mystring.split():\n",
    "\n",
    "    first_letter = word.lower()[0]\n",
    "\n",
    "    if first_letter == 's':\n",
    "        print(word)"
   ]
  },
  {
   "cell_type": "code",
   "execution_count": 69,
   "id": "98a4700e-ed84-4a88-b0b0-e9cab05106e2",
   "metadata": {},
   "outputs": [
    {
     "name": "stdout",
     "output_type": "stream",
     "text": [
      "Secret\n",
      "agents\n",
      "good\n",
      "at\n"
     ]
    }
   ],
   "source": [
    "for word in mystring.split():\n",
    "    if len(word) % 2 == 0:\n",
    "        print(word)"
   ]
  },
  {
   "cell_type": "code",
   "execution_count": 71,
   "id": "dd9212b8-0e79-4705-af06-8e6b7fce6f45",
   "metadata": {},
   "outputs": [
    {
     "data": {
      "text/plain": [
       "['S', 'a', 'a', 's', 'g', 'a', 's', 'h']"
      ]
     },
     "execution_count": 71,
     "metadata": {},
     "output_type": "execute_result"
    }
   ],
   "source": [
    "letter = [x[0] for x in words]\n",
    "letter"
   ]
  },
  {
   "cell_type": "code",
   "execution_count": 73,
   "id": "b682a18d-3db7-4195-b593-fc9f3e54080f",
   "metadata": {},
   "outputs": [
    {
     "data": {
      "text/plain": [
       "['S', 'a', 'a', 's', 'g', 'a', 's', 'h']"
      ]
     },
     "execution_count": 73,
     "metadata": {},
     "output_type": "execute_result"
    }
   ],
   "source": [
    "# answer\n",
    "[word[0] for word in mystring.split()]"
   ]
  },
  {
   "cell_type": "code",
   "execution_count": 81,
   "id": "0025ec34-c9d5-4338-810b-0185762103f7",
   "metadata": {},
   "outputs": [
    {
     "data": {
      "text/plain": [
       "[0, 2, 4, 6, 8, 10]"
      ]
     },
     "execution_count": 81,
     "metadata": {},
     "output_type": "execute_result"
    }
   ],
   "source": [
    "# answer\n",
    "[n for n in range(0,11) if n % 2 == 0]"
   ]
  },
  {
   "cell_type": "code",
   "execution_count": 83,
   "id": "1ede1101-d75f-480a-8e0a-392e979be6d8",
   "metadata": {},
   "outputs": [
    {
     "data": {
      "text/plain": [
       "[0, 2, 4, 6, 8, 10]"
      ]
     },
     "execution_count": 83,
     "metadata": {},
     "output_type": "execute_result"
    }
   ],
   "source": [
    "# answer\n",
    "list(range(0,11,2))"
   ]
  },
  {
   "cell_type": "code",
   "execution_count": 3,
   "id": "26b73f26-bd4e-454f-81a5-81a728ff4ec9",
   "metadata": {},
   "outputs": [],
   "source": [
    "import random"
   ]
  },
  {
   "cell_type": "code",
   "execution_count": 5,
   "id": "8edc735a-93bf-47d2-93a8-d99dc695e090",
   "metadata": {},
   "outputs": [
    {
     "name": "stdout",
     "output_type": "stream",
     "text": [
      "[76, 55, 37, 1, 68, 86, 76, 89, 48, 73]\n"
     ]
    }
   ],
   "source": [
    "# answer\n",
    "result = []\n",
    "for x in range(0,10):\n",
    "    result.append(random.randint(0,100))\n",
    "print(result)"
   ]
  },
  {
   "cell_type": "code",
   "execution_count": 7,
   "id": "b840de47-6c89-4109-afaa-e4194f5c7cbe",
   "metadata": {},
   "outputs": [
    {
     "data": {
      "text/plain": [
       "[20, 61, 69, 69, 51, 14, 37, 4, 58, 46]"
      ]
     },
     "execution_count": 7,
     "metadata": {},
     "output_type": "execute_result"
    }
   ],
   "source": [
    "[random.randint(1,100) for x in range(0,10)]"
   ]
  },
  {
   "cell_type": "code",
   "execution_count": 1,
   "id": "fa492b18-7102-44e8-9270-ecca5a213df3",
   "metadata": {},
   "outputs": [
    {
     "name": "stdin",
     "output_type": "stream",
     "text": [
      "Please provide an even number:  3\n",
      "Please provide an even number:  5\n",
      "Please provide an even number:  7\n",
      "Please provide an even number:  2\n"
     ]
    },
    {
     "name": "stdout",
     "output_type": "stream",
     "text": [
      "Thank you\n"
     ]
    }
   ],
   "source": [
    "n = 1\n",
    "\n",
    "while n % 2:\n",
    "    n = int(input('Please provide an even number: '))\n",
    "    \n",
    "print(\"Thank you\")"
   ]
  },
  {
   "cell_type": "code",
   "execution_count": 11,
   "id": "be18fc78-1fdf-4bc3-b98f-17ff7f7c21bb",
   "metadata": {},
   "outputs": [
    {
     "name": "stdin",
     "output_type": "stream",
     "text": [
      "Please input a number:  3\n",
      "Please input a number:  5\n",
      "Please input a number:  6\n"
     ]
    },
    {
     "name": "stdout",
     "output_type": "stream",
     "text": [
      "Thank you, that is an even number\n"
     ]
    }
   ],
   "source": [
    "# answer\n",
    "result = True\n",
    "\n",
    "\n",
    "while result:\n",
    "    \n",
    "    num = int(input(\"Please input a number: \"))\n",
    "    \n",
    "    if num % 2 != 0:\n",
    "        result = True\n",
    "    else:\n",
    "        print(\"Thank you, that is an even number\")\n",
    "        result = False"
   ]
  },
  {
   "cell_type": "code",
   "execution_count": null,
   "id": "0c74af36-685f-4b19-aa78-0964cfc7c364",
   "metadata": {},
   "outputs": [],
   "source": []
  }
 ],
 "metadata": {
  "kernelspec": {
   "display_name": "Python [conda env:base] *",
   "language": "python",
   "name": "conda-base-py"
  },
  "language_info": {
   "codemirror_mode": {
    "name": "ipython",
    "version": 3
   },
   "file_extension": ".py",
   "mimetype": "text/x-python",
   "name": "python",
   "nbconvert_exporter": "python",
   "pygments_lexer": "ipython3",
   "version": "3.12.7"
  }
 },
 "nbformat": 4,
 "nbformat_minor": 5
}
