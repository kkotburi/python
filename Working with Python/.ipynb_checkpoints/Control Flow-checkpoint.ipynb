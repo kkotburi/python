{
 "cells": [
  {
   "cell_type": "code",
   "execution_count": 9,
   "id": "16c04731-869e-4310-8139-97fa96da984f",
   "metadata": {},
   "outputs": [],
   "source": [
    "if False:\n",
    "    print('condition met')"
   ]
  },
  {
   "cell_type": "code",
   "execution_count": 13,
   "id": "acd4e384-b953-43cd-8744-e1e1dccf93af",
   "metadata": {},
   "outputs": [],
   "source": [
    "cond = 1 < 2"
   ]
  },
  {
   "cell_type": "code",
   "execution_count": 15,
   "id": "f8d3b364-e41f-4233-a6b6-9f1404d8f062",
   "metadata": {},
   "outputs": [
    {
     "name": "stdout",
     "output_type": "stream",
     "text": [
      "cond met\n"
     ]
    }
   ],
   "source": [
    "if cond: print('cond met')"
   ]
  },
  {
   "cell_type": "code",
   "execution_count": 3,
   "id": "880919ed-d006-475b-8538-f6f493faae9c",
   "metadata": {},
   "outputs": [
    {
     "name": "stdout",
     "output_type": "stream",
     "text": [
      "Last block happened to run\n"
     ]
    }
   ],
   "source": [
    "if 1==1000:\n",
    "    print(\"CONDITION MET 1==1\")\n",
    "else:\n",
    "    print(\"Last block happened to run\")"
   ]
  },
  {
   "cell_type": "code",
   "execution_count": 5,
   "id": "32df23c0-4395-43d8-a69f-2480bf65322b",
   "metadata": {},
   "outputs": [
    {
     "name": "stdout",
     "output_type": "stream",
     "text": [
      "third condition tre\n"
     ]
    }
   ],
   "source": [
    "if 2 == 0:\n",
    "    print('first condition true')\n",
    "elif 2 == 1:\n",
    "    print('second condition true')\n",
    "elif 2 ==2:\n",
    "    print('third condition tre')\n",
    "else:\n",
    "    print('nothing above was true')"
   ]
  },
  {
   "cell_type": "code",
   "execution_count": 27,
   "id": "7811264c-2d45-4143-b397-9be56933d7ea",
   "metadata": {},
   "outputs": [],
   "source": [
    "agent_code = 12345\n",
    "access = False"
   ]
  },
  {
   "cell_type": "code",
   "execution_count": 29,
   "id": "593ce59e-0af2-4760-8a6e-57327542a02e",
   "metadata": {},
   "outputs": [
    {
     "name": "stdout",
     "output_type": "stream",
     "text": [
      "CODE RESET\n",
      "Call a supervisor\n"
     ]
    }
   ],
   "source": [
    "if agent_code == 12345:\n",
    "    print(\"CODE RESET\")\n",
    "    print(\"Call a supervisor\")\n",
    "elif agent_code == 231912:\n",
    "    print(\"Welcome agent 231912\")\n",
    "    access = True\n",
    "else:\n",
    "    print(\"Sorry no matching code\")"
   ]
  },
  {
   "cell_type": "code",
   "execution_count": 31,
   "id": "6249cf60-37cf-4750-b3b8-3b745d94cdbc",
   "metadata": {},
   "outputs": [
    {
     "name": "stdout",
     "output_type": "stream",
     "text": [
      "Access Denied.\n"
     ]
    }
   ],
   "source": [
    "if access == True:\n",
    "    print(\"Access Granted\")\n",
    "else:\n",
    "    print(\"Access Denied.\")"
   ]
  },
  {
   "cell_type": "code",
   "execution_count": 33,
   "id": "223a681d-3711-453f-bba6-69cc2e19cee9",
   "metadata": {},
   "outputs": [
    {
     "data": {
      "text/plain": [
       "False"
      ]
     },
     "execution_count": 33,
     "metadata": {},
     "output_type": "execute_result"
    }
   ],
   "source": [
    "access"
   ]
  },
  {
   "cell_type": "code",
   "execution_count": null,
   "id": "ef7bec9c-3809-47b4-a35b-ed0fa6139de5",
   "metadata": {},
   "outputs": [],
   "source": []
  }
 ],
 "metadata": {
  "kernelspec": {
   "display_name": "Python [conda env:base] *",
   "language": "python",
   "name": "conda-base-py"
  },
  "language_info": {
   "codemirror_mode": {
    "name": "ipython",
    "version": 3
   },
   "file_extension": ".py",
   "mimetype": "text/x-python",
   "name": "python",
   "nbconvert_exporter": "python",
   "pygments_lexer": "ipython3",
   "version": "3.12.7"
  }
 },
 "nbformat": 4,
 "nbformat_minor": 5
}
