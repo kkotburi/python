{
 "cells": [
  {
   "cell_type": "code",
   "execution_count": 1,
   "id": "251ba24f-f88c-4d52-bd1f-2ae151b025dd",
   "metadata": {},
   "outputs": [],
   "source": [
    "mystring = \"Secret agents are super good at staying hidden.\""
   ]
  },
  {
   "cell_type": "code",
   "execution_count": 43,
   "id": "35ae1093-3ffa-4836-99ca-e7591fdd6cf1",
   "metadata": {},
   "outputs": [
    {
     "name": "stdout",
     "output_type": "stream",
     "text": [
      "Secret\n",
      "super\n",
      "staying\n"
     ]
    }
   ],
   "source": [
    "words = mystring.split(\" \")\n",
    "\n",
    "for word in words:\n",
    "    if word[0].upper() != \"S\":\n",
    "        continue\n",
    "    print(word)"
   ]
  },
  {
   "cell_type": "code",
   "execution_count": 53,
   "id": "98a4700e-ed84-4a88-b0b0-e9cab05106e2",
   "metadata": {},
   "outputs": [
    {
     "name": "stdout",
     "output_type": "stream",
     "text": [
      "Secret\n",
      "agents\n",
      "good\n",
      "at\n"
     ]
    }
   ],
   "source": [
    "for word in words:\n",
    "    if len(word)%2 != 0:\n",
    "        continue\n",
    "    print(word)"
   ]
  },
  {
   "cell_type": "code",
   "execution_count": 71,
   "id": "dd9212b8-0e79-4705-af06-8e6b7fce6f45",
   "metadata": {},
   "outputs": [
    {
     "data": {
      "text/plain": [
       "['S', 'a', 'a', 's', 'g', 'a', 's', 'h']"
      ]
     },
     "execution_count": 71,
     "metadata": {},
     "output_type": "execute_result"
    }
   ],
   "source": [
    "letter = [x[0] for x in words]\n",
    "letter"
   ]
  },
  {
   "cell_type": "code",
   "execution_count": null,
   "id": "647cf7af-6623-4178-a65a-9398991fb561",
   "metadata": {},
   "outputs": [],
   "source": []
  }
 ],
 "metadata": {
  "kernelspec": {
   "display_name": "Python [conda env:base] *",
   "language": "python",
   "name": "conda-base-py"
  },
  "language_info": {
   "codemirror_mode": {
    "name": "ipython",
    "version": 3
   },
   "file_extension": ".py",
   "mimetype": "text/x-python",
   "name": "python",
   "nbconvert_exporter": "python",
   "pygments_lexer": "ipython3",
   "version": "3.12.7"
  }
 },
 "nbformat": 4,
 "nbformat_minor": 5
}
