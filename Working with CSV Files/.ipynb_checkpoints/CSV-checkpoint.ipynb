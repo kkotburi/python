{
 "cells": [
  {
   "cell_type": "code",
   "execution_count": 8,
   "id": "3bf1214f-4967-4f0f-a962-42be2b6b02fe",
   "metadata": {},
   "outputs": [
    {
     "data": {
      "text/plain": [
       "'C:\\\\Users\\\\user\\\\Desktop\\\\20250123 python\\\\Working with CSV Files'"
      ]
     },
     "execution_count": 8,
     "metadata": {},
     "output_type": "execute_result"
    }
   ],
   "source": [
    "pwd"
   ]
  },
  {
   "cell_type": "code",
   "execution_count": 10,
   "id": "a341c77e-0d1a-4dc9-9703-18e5ea819fca",
   "metadata": {},
   "outputs": [],
   "source": [
    "import csv"
   ]
  },
  {
   "cell_type": "code",
   "execution_count": 12,
   "id": "21b55680-b676-4b8d-bd43-0cb9ddec00d6",
   "metadata": {},
   "outputs": [
    {
     "ename": "FileNotFoundError",
     "evalue": "[Errno 2] No such file or directory: 'example.csv'",
     "output_type": "error",
     "traceback": [
      "\u001b[1;31m---------------------------------------------------------------------------\u001b[0m",
      "\u001b[1;31mFileNotFoundError\u001b[0m                         Traceback (most recent call last)",
      "Cell \u001b[1;32mIn[12], line 1\u001b[0m\n\u001b[1;32m----> 1\u001b[0m data \u001b[38;5;241m=\u001b[39m \u001b[38;5;28mopen\u001b[39m(\u001b[38;5;124m'\u001b[39m\u001b[38;5;124mexample.csv\u001b[39m\u001b[38;5;124m'\u001b[39m)\n",
      "File \u001b[1;32m~\\anaconda3\\Lib\\site-packages\\IPython\\core\\interactiveshell.py:324\u001b[0m, in \u001b[0;36m_modified_open\u001b[1;34m(file, *args, **kwargs)\u001b[0m\n\u001b[0;32m    317\u001b[0m \u001b[38;5;28;01mif\u001b[39;00m file \u001b[38;5;129;01min\u001b[39;00m {\u001b[38;5;241m0\u001b[39m, \u001b[38;5;241m1\u001b[39m, \u001b[38;5;241m2\u001b[39m}:\n\u001b[0;32m    318\u001b[0m     \u001b[38;5;28;01mraise\u001b[39;00m \u001b[38;5;167;01mValueError\u001b[39;00m(\n\u001b[0;32m    319\u001b[0m         \u001b[38;5;124mf\u001b[39m\u001b[38;5;124m\"\u001b[39m\u001b[38;5;124mIPython won\u001b[39m\u001b[38;5;124m'\u001b[39m\u001b[38;5;124mt let you open fd=\u001b[39m\u001b[38;5;132;01m{\u001b[39;00mfile\u001b[38;5;132;01m}\u001b[39;00m\u001b[38;5;124m by default \u001b[39m\u001b[38;5;124m\"\u001b[39m\n\u001b[0;32m    320\u001b[0m         \u001b[38;5;124m\"\u001b[39m\u001b[38;5;124mas it is likely to crash IPython. If you know what you are doing, \u001b[39m\u001b[38;5;124m\"\u001b[39m\n\u001b[0;32m    321\u001b[0m         \u001b[38;5;124m\"\u001b[39m\u001b[38;5;124myou can use builtins\u001b[39m\u001b[38;5;124m'\u001b[39m\u001b[38;5;124m open.\u001b[39m\u001b[38;5;124m\"\u001b[39m\n\u001b[0;32m    322\u001b[0m     )\n\u001b[1;32m--> 324\u001b[0m \u001b[38;5;28;01mreturn\u001b[39;00m io_open(file, \u001b[38;5;241m*\u001b[39margs, \u001b[38;5;241m*\u001b[39m\u001b[38;5;241m*\u001b[39mkwargs)\n",
      "\u001b[1;31mFileNotFoundError\u001b[0m: [Errno 2] No such file or directory: 'example.csv'"
     ]
    }
   ],
   "source": [
    "data = open('example.csv')"
   ]
  },
  {
   "cell_type": "code",
   "execution_count": 3,
   "id": "e7589dd6-f895-45e6-95b8-f7ede3a45174",
   "metadata": {},
   "outputs": [],
   "source": [
    "# data"
   ]
  },
  {
   "cell_type": "code",
   "execution_count": 5,
   "id": "b57c463e-9b8c-430c-b7f5-e1ec225f9850",
   "metadata": {},
   "outputs": [],
   "source": [
    "# csv_data = csv.reader(data)"
   ]
  },
  {
   "cell_type": "code",
   "execution_count": 9,
   "id": "e133d1c3-57f1-4c6e-ad65-f9c5fd84893f",
   "metadata": {},
   "outputs": [],
   "source": [
    "# list(csv_data)"
   ]
  },
  {
   "cell_type": "code",
   "execution_count": 11,
   "id": "08238ccb-7024-4544-9ecc-a4ad79fd6f2b",
   "metadata": {},
   "outputs": [],
   "source": [
    "# data = open('example.csv',encoding='utf-8')\n",
    "# csv_data = csv.reader(data)\n",
    "# data_lines =list(csv_data)"
   ]
  },
  {
   "cell_type": "code",
   "execution_count": 13,
   "id": "b821edcf-c867-468b-88f8-5337281e8665",
   "metadata": {},
   "outputs": [],
   "source": [
    "# data_lines[:3]"
   ]
  },
  {
   "cell_type": "code",
   "execution_count": 15,
   "id": "12f3218d-1758-404e-a57d-0893a02d592e",
   "metadata": {},
   "outputs": [],
   "source": [
    "# for row in data_lines[:5]:\n",
    "#     print(row)"
   ]
  },
  {
   "cell_type": "code",
   "execution_count": 17,
   "id": "a5fdbe67-f806-4073-97c1-ebde19089a96",
   "metadata": {},
   "outputs": [],
   "source": [
    "# full_names = []\n",
    "\n",
    "# for row in data_lines[1:15]:\n",
    "#     first = row[1]\n",
    "#     last = row[2]\n",
    "\n",
    "#     name = first + ' ' + last\n",
    "#     full_names.append(name)"
   ]
  },
  {
   "cell_type": "code",
   "execution_count": 19,
   "id": "9e3fa299-75b2-4ecd-a5a0-a45d870dc4e3",
   "metadata": {},
   "outputs": [],
   "source": [
    "# full_emails"
   ]
  },
  {
   "cell_type": "code",
   "execution_count": 23,
   "id": "bbbc4a0f-b175-4767-b85a-ac17546a00a6",
   "metadata": {},
   "outputs": [],
   "source": [
    "# file_to_output = open('makeup_new.csv','w',newline='')"
   ]
  },
  {
   "cell_type": "code",
   "execution_count": 27,
   "id": "8c2714d0-fe82-487a-b4b5-319b3b0e7621",
   "metadata": {},
   "outputs": [],
   "source": [
    "# csv_writer = csv.writer(file_to_output,delimiter=',')"
   ]
  },
  {
   "cell_type": "code",
   "execution_count": 29,
   "id": "ff54eb98-38d3-4570-82b0-bad4d344741c",
   "metadata": {},
   "outputs": [],
   "source": [
    "# csv_writer.writerow(['col1','col2','col3'])"
   ]
  },
  {
   "cell_type": "code",
   "execution_count": 31,
   "id": "c40403d5-1676-49a8-b137-84985e7f084f",
   "metadata": {},
   "outputs": [],
   "source": [
    "# csv_writer.writerows([1,2,3],[4,5,6]])"
   ]
  },
  {
   "cell_type": "code",
   "execution_count": 33,
   "id": "dbddc483-c6d3-4b37-9ea0-a233e87431d1",
   "metadata": {},
   "outputs": [],
   "source": [
    "# file_to_output.close()"
   ]
  },
  {
   "cell_type": "code",
   "execution_count": 35,
   "id": "054752ab-a60a-462c-b143-ca42e794df54",
   "metadata": {},
   "outputs": [],
   "source": [
    "# f = open('makeup_new.csv','a',newline='')"
   ]
  },
  {
   "cell_type": "code",
   "execution_count": 37,
   "id": "56ea55bb-1b0b-4be7-bab9-e4a8a713ebe7",
   "metadata": {},
   "outputs": [],
   "source": [
    "# csv_writer = csv.writer(f)"
   ]
  },
  {
   "cell_type": "code",
   "execution_count": 39,
   "id": "5651b910-e9e8-4b31-9fb3-bf789c65edc7",
   "metadata": {},
   "outputs": [],
   "source": [
    "# csv_writer.writerow([7,8,9])"
   ]
  },
  {
   "cell_type": "code",
   "execution_count": null,
   "id": "3146a822-5167-4fa0-a7fa-942d0f9ecc66",
   "metadata": {},
   "outputs": [],
   "source": [
    "# f.close()"
   ]
  }
 ],
 "metadata": {
  "kernelspec": {
   "display_name": "Python [conda env:base] *",
   "language": "python",
   "name": "conda-base-py"
  },
  "language_info": {
   "codemirror_mode": {
    "name": "ipython",
    "version": 3
   },
   "file_extension": ".py",
   "mimetype": "text/x-python",
   "name": "python",
   "nbconvert_exporter": "python",
   "pygments_lexer": "ipython3",
   "version": "3.12.7"
  }
 },
 "nbformat": 4,
 "nbformat_minor": 5
}
