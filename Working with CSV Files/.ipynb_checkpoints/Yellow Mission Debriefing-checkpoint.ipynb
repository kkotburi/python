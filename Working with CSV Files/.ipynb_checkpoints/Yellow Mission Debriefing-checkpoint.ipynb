{
 "cells": [
  {
   "cell_type": "code",
   "execution_count": 3,
   "id": "f7091b0b-962d-4eb9-910b-ff47bd10d963",
   "metadata": {},
   "outputs": [],
   "source": [
    "import csv"
   ]
  },
  {
   "cell_type": "code",
   "execution_count": 1,
   "id": "3807aaf8-1311-43b7-a214-d32cc3e31b51",
   "metadata": {},
   "outputs": [],
   "source": [
    "# f = open('Yelloew-Mission-Files/download_link.csv','r')"
   ]
  },
  {
   "cell_type": "code",
   "execution_count": 3,
   "id": "c544119c-fd43-42b8-9070-d6083b0c5b75",
   "metadata": {},
   "outputs": [],
   "source": [
    "# c_read = csv.reader(f)"
   ]
  },
  {
   "cell_type": "code",
   "execution_count": 7,
   "id": "bf2f4520-9b13-41a3-8273-0d71c3a7a744",
   "metadata": {},
   "outputs": [],
   "source": [
    "# website = ''\n",
    "\n",
    "# for row in c_read:\n",
    "#     website += row[2]"
   ]
  },
  {
   "cell_type": "code",
   "execution_count": 9,
   "id": "64b2d99a-54a6-4aa3-a070-5d8d16215114",
   "metadata": {},
   "outputs": [],
   "source": [
    "# website"
   ]
  },
  {
   "cell_type": "code",
   "execution_count": 11,
   "id": "2bf454dc-64b3-423c-837b-39a42babaf40",
   "metadata": {},
   "outputs": [],
   "source": [
    "import re"
   ]
  },
  {
   "cell_type": "code",
   "execution_count": 13,
   "id": "37aea900-7ea2-4459-855b-698efeee6d53",
   "metadata": {},
   "outputs": [],
   "source": [
    "test = 'This is a test string to practice re. Email: example@test.com no @handle'"
   ]
  },
  {
   "cell_type": "code",
   "execution_count": 15,
   "id": "a48fa07e-ce19-4b8f-ae30-498371523819",
   "metadata": {},
   "outputs": [],
   "source": [
    "pattern = r'[\\w_.-]+@[\\w_.-]+'"
   ]
  },
  {
   "cell_type": "code",
   "execution_count": 17,
   "id": "50b39914-4370-4227-ad5a-de2e99d35a83",
   "metadata": {},
   "outputs": [
    {
     "data": {
      "text/plain": [
       "<re.Match object; span=(45, 61), match='example@test.com'>"
      ]
     },
     "execution_count": 17,
     "metadata": {},
     "output_type": "execute_result"
    }
   ],
   "source": [
    "re.search(pattern,test)"
   ]
  },
  {
   "cell_type": "code",
   "execution_count": 21,
   "id": "d6737ff4-d725-4102-ba9b-522ee193ebd3",
   "metadata": {},
   "outputs": [],
   "source": [
    "# import PyPDF2"
   ]
  },
  {
   "cell_type": "code",
   "execution_count": 25,
   "id": "3a55e093-4993-44c0-a71d-d1675a988866",
   "metadata": {},
   "outputs": [],
   "source": [
    "# f = open(\"Yelloew-Mission-Files/Contact_Email_Information.pdf\",'rb')"
   ]
  },
  {
   "cell_type": "code",
   "execution_count": 27,
   "id": "81a3da0c-aac7-43d5-a255-c465227e5aa7",
   "metadata": {},
   "outputs": [],
   "source": [
    "# pdf = PyPDF2.PdfFileReader(f)"
   ]
  },
  {
   "cell_type": "code",
   "execution_count": 29,
   "id": "6b799451-69f0-480e-865c-565ab7d131e8",
   "metadata": {},
   "outputs": [],
   "source": [
    "# pdf.numPages"
   ]
  },
  {
   "cell_type": "code",
   "execution_count": null,
   "id": "eba5180d-a962-41cb-a70a-86e613345818",
   "metadata": {},
   "outputs": [],
   "source": [
    "# for n in range(pdf.numPages):\n",
    "\n",
    "#     page = pdf.getPage(n)\n",
    "#     page_text = page.extractText()\n",
    "\n",
    "#     match = re.search(pattern,page_text)\n",
    "\n",
    "#     if match:\n",
    "#         print(match.group())"
   ]
  }
 ],
 "metadata": {
  "kernelspec": {
   "display_name": "Python [conda env:base] *",
   "language": "python",
   "name": "conda-base-py"
  },
  "language_info": {
   "codemirror_mode": {
    "name": "ipython",
    "version": 3
   },
   "file_extension": ".py",
   "mimetype": "text/x-python",
   "name": "python",
   "nbconvert_exporter": "python",
   "pygments_lexer": "ipython3",
   "version": "3.12.7"
  }
 },
 "nbformat": 4,
 "nbformat_minor": 5
}
