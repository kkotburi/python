{
 "cells": [
  {
   "cell_type": "code",
   "execution_count": 5,
   "id": "248d1457-2def-4f2c-8dd3-60245121a3d6",
   "metadata": {},
   "outputs": [],
   "source": [
    "class Sphere():\n",
    "\n",
    "    # Methods go here.\n",
    "    def __init__(self,radius):\n",
    "        self.radius = radius\n",
    "\n",
    "    def volume(self):\n",
    "        return (4/3) * 3.14 * (self.radius**3)\n",
    "\n",
    "    def surface_area(self):\n",
    "        return 4 * 3.14 * self.radius**2    "
   ]
  },
  {
   "cell_type": "code",
   "execution_count": 7,
   "id": "21c88c22-c8fa-4e6e-8700-935da41c9374",
   "metadata": {},
   "outputs": [],
   "source": [
    "s = Sphere(3)"
   ]
  },
  {
   "cell_type": "code",
   "execution_count": 9,
   "id": "559ecc8c-8939-4e2d-9a10-3e8261c681dd",
   "metadata": {},
   "outputs": [
    {
     "data": {
      "text/plain": [
       "113.04"
      ]
     },
     "execution_count": 9,
     "metadata": {},
     "output_type": "execute_result"
    }
   ],
   "source": [
    "s.surface_area()"
   ]
  },
  {
   "cell_type": "code",
   "execution_count": 11,
   "id": "09ec8b1f-89e3-4370-8c26-c842b66128fd",
   "metadata": {},
   "outputs": [
    {
     "data": {
      "text/plain": [
       "113.03999999999999"
      ]
     },
     "execution_count": 11,
     "metadata": {},
     "output_type": "execute_result"
    }
   ],
   "source": [
    "s.volume()"
   ]
  },
  {
   "cell_type": "code",
   "execution_count": null,
   "id": "26045ac7-1948-435e-9c90-df9e90d3fcad",
   "metadata": {},
   "outputs": [],
   "source": [
    "import random\n",
    "\n",
    "class GuessingGame():\n",
    "\n",
    "    # Methods and attributes go here.\n",
    "    "
   ]
  }
 ],
 "metadata": {
  "kernelspec": {
   "display_name": "Python [conda env:base] *",
   "language": "python",
   "name": "conda-base-py"
  },
  "language_info": {
   "codemirror_mode": {
    "name": "ipython",
    "version": 3
   },
   "file_extension": ".py",
   "mimetype": "text/x-python",
   "name": "python",
   "nbconvert_exporter": "python",
   "pygments_lexer": "ipython3",
   "version": "3.12.7"
  }
 },
 "nbformat": 4,
 "nbformat_minor": 5
}
