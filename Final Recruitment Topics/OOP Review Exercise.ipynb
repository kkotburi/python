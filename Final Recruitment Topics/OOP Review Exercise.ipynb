{
 "cells": [
  {
   "cell_type": "code",
   "execution_count": 5,
   "id": "248d1457-2def-4f2c-8dd3-60245121a3d6",
   "metadata": {},
   "outputs": [],
   "source": [
    "class Sphere():\n",
    "\n",
    "    # Methods go here.\n",
    "    def __init__(self,radius):\n",
    "        self.radius = radius\n",
    "\n",
    "    def volume(self):\n",
    "        return (4/3) * 3.14 * (self.radius**3)\n",
    "\n",
    "    def surface_area(self):\n",
    "        return 4 * 3.14 * self.radius**2    "
   ]
  },
  {
   "cell_type": "code",
   "execution_count": 7,
   "id": "21c88c22-c8fa-4e6e-8700-935da41c9374",
   "metadata": {},
   "outputs": [],
   "source": [
    "s = Sphere(3)"
   ]
  },
  {
   "cell_type": "code",
   "execution_count": 9,
   "id": "559ecc8c-8939-4e2d-9a10-3e8261c681dd",
   "metadata": {},
   "outputs": [
    {
     "data": {
      "text/plain": [
       "113.04"
      ]
     },
     "execution_count": 9,
     "metadata": {},
     "output_type": "execute_result"
    }
   ],
   "source": [
    "s.surface_area()"
   ]
  },
  {
   "cell_type": "code",
   "execution_count": 11,
   "id": "09ec8b1f-89e3-4370-8c26-c842b66128fd",
   "metadata": {},
   "outputs": [
    {
     "data": {
      "text/plain": [
       "113.03999999999999"
      ]
     },
     "execution_count": 11,
     "metadata": {},
     "output_type": "execute_result"
    }
   ],
   "source": [
    "s.volume()"
   ]
  },
  {
   "cell_type": "code",
   "execution_count": 15,
   "id": "26045ac7-1948-435e-9c90-df9e90d3fcad",
   "metadata": {},
   "outputs": [],
   "source": [
    "import random\n",
    "\n",
    "class GuessingGame():\n",
    "\n",
    "    # Methods and attributes go here.\n",
    "    def __init__(self):\n",
    "\n",
    "        self.rand_choice = random.randint(0,10)\n",
    "\n",
    "    def reset_random(self):\n",
    "        print('Resetting random number')\n",
    "        self.rand_choice = random.randint(0,10)\n",
    "\n",
    "    def guess(self):\n",
    "        user_guess = int(input(\"Please input a random number:\"))\n",
    "\n",
    "        if user_guess == self.rand_choice:\n",
    "            print(\"CORRECT!\")\n",
    "        else:\n",
    "            if user_guess < self.rand_choice:\n",
    "                print(\"WRONG, Guess Higher!\")\n",
    "            else:\n",
    "                print(\"WRONG, Guess Lower!\")"
   ]
  },
  {
   "cell_type": "code",
   "execution_count": 7,
   "id": "84277464-07c4-4926-917f-a7de6e3a4656",
   "metadata": {},
   "outputs": [
    {
     "name": "stdout",
     "output_type": "stream",
     "text": [
      "Resetting random number\n"
     ]
    }
   ],
   "source": [
    "g.reset_random()"
   ]
  },
  {
   "cell_type": "code",
   "execution_count": 9,
   "id": "29681c02-2593-4cf9-9a59-557560a043e2",
   "metadata": {},
   "outputs": [
    {
     "data": {
      "text/plain": [
       "5"
      ]
     },
     "execution_count": 9,
     "metadata": {},
     "output_type": "execute_result"
    }
   ],
   "source": [
    "g.rand_choice"
   ]
  },
  {
   "cell_type": "code",
   "execution_count": 11,
   "id": "33de098f-d8fc-41dc-9552-8f2602972ae8",
   "metadata": {},
   "outputs": [
    {
     "name": "stdin",
     "output_type": "stream",
     "text": [
      "Please input a random number: 4\n"
     ]
    },
    {
     "name": "stdout",
     "output_type": "stream",
     "text": [
      "WRONG GUESS\n"
     ]
    }
   ],
   "source": [
    "g.guess()"
   ]
  },
  {
   "cell_type": "code",
   "execution_count": 13,
   "id": "946bc769-5998-44f7-921a-fabae9287f80",
   "metadata": {},
   "outputs": [
    {
     "name": "stdin",
     "output_type": "stream",
     "text": [
      "Please input a random number: 5\n"
     ]
    },
    {
     "name": "stdout",
     "output_type": "stream",
     "text": [
      "CORRECT!\n"
     ]
    }
   ],
   "source": [
    "g.guess()"
   ]
  },
  {
   "cell_type": "code",
   "execution_count": 25,
   "id": "a8d7202d-93a9-4df1-8339-b987dd4621d5",
   "metadata": {},
   "outputs": [],
   "source": [
    "g = GuessingGame()"
   ]
  },
  {
   "cell_type": "code",
   "execution_count": 27,
   "id": "46ad0b70-6662-498a-9355-cfa1b5337c2e",
   "metadata": {},
   "outputs": [
    {
     "data": {
      "text/plain": [
       "8"
      ]
     },
     "execution_count": 27,
     "metadata": {},
     "output_type": "execute_result"
    }
   ],
   "source": [
    "g.rand_choice"
   ]
  },
  {
   "cell_type": "code",
   "execution_count": 29,
   "id": "3c38f406-546c-4e04-b629-ca942ef877cf",
   "metadata": {},
   "outputs": [
    {
     "name": "stdin",
     "output_type": "stream",
     "text": [
      "Please input a random number: 5\n"
     ]
    },
    {
     "name": "stdout",
     "output_type": "stream",
     "text": [
      "WRONG, Guess Higher!\n"
     ]
    }
   ],
   "source": [
    "g.guess()"
   ]
  },
  {
   "cell_type": "code",
   "execution_count": 31,
   "id": "edeaec86-17ef-42a3-92b1-dc8c5093b880",
   "metadata": {},
   "outputs": [
    {
     "name": "stdin",
     "output_type": "stream",
     "text": [
      "Please input a random number: 8\n"
     ]
    },
    {
     "name": "stdout",
     "output_type": "stream",
     "text": [
      "CORRECT!\n"
     ]
    }
   ],
   "source": [
    "g.guess()"
   ]
  },
  {
   "cell_type": "code",
   "execution_count": null,
   "id": "23744873-2b40-47fe-9b65-448b9cc67270",
   "metadata": {},
   "outputs": [],
   "source": []
  }
 ],
 "metadata": {
  "kernelspec": {
   "display_name": "Python [conda env:base] *",
   "language": "python",
   "name": "conda-base-py"
  },
  "language_info": {
   "codemirror_mode": {
    "name": "ipython",
    "version": 3
   },
   "file_extension": ".py",
   "mimetype": "text/x-python",
   "name": "python",
   "nbconvert_exporter": "python",
   "pygments_lexer": "ipython3",
   "version": "3.12.7"
  }
 },
 "nbformat": 4,
 "nbformat_minor": 5
}
