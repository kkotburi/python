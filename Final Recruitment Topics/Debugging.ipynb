{
 "cells": [
  {
   "cell_type": "code",
   "execution_count": 1,
   "id": "9440f082-254d-4af9-868f-8fbcd5d647ef",
   "metadata": {},
   "outputs": [],
   "source": [
    "x = '1'\n",
    "y = 2\n",
    "z = 3"
   ]
  },
  {
   "cell_type": "code",
   "execution_count": 2,
   "id": "0bb2ad4d-6b18-4d0f-9f49-ee7cd79259fe",
   "metadata": {},
   "outputs": [],
   "source": [
    "result = y + z"
   ]
  },
  {
   "cell_type": "code",
   "execution_count": 5,
   "id": "4b6e692c-7aa5-400f-8f8a-8d81de315a65",
   "metadata": {},
   "outputs": [
    {
     "name": "stdout",
     "output_type": "stream",
     "text": [
      "5\n"
     ]
    }
   ],
   "source": [
    "print(result)"
   ]
  },
  {
   "cell_type": "code",
   "execution_count": 6,
   "id": "940ee942-a562-481c-bbfb-8cb090fb1f39",
   "metadata": {},
   "outputs": [
    {
     "ename": "TypeError",
     "evalue": "unsupported operand type(s) for +: 'int' and 'str'",
     "output_type": "error",
     "traceback": [
      "\u001b[1;31m---------------------------------------------------------------------------\u001b[0m",
      "\u001b[1;31mTypeError\u001b[0m                                 Traceback (most recent call last)",
      "Cell \u001b[1;32mIn[6], line 1\u001b[0m\n\u001b[1;32m----> 1\u001b[0m result \u001b[38;5;241m=\u001b[39m y \u001b[38;5;241m+\u001b[39m x\n",
      "\u001b[1;31mTypeError\u001b[0m: unsupported operand type(s) for +: 'int' and 'str'"
     ]
    }
   ],
   "source": [
    "result = y + x"
   ]
  },
  {
   "cell_type": "code",
   "execution_count": 15,
   "id": "83737dee-d2d3-4284-8574-dd4ffa29f4e3",
   "metadata": {},
   "outputs": [],
   "source": [
    "import pdb"
   ]
  },
  {
   "cell_type": "code",
   "execution_count": 17,
   "id": "96a9c07b-6b83-43b8-a671-afb8e3fbe841",
   "metadata": {},
   "outputs": [
    {
     "name": "stdout",
     "output_type": "stream",
     "text": [
      "5\n",
      "--Return--\n",
      "None\n",
      "> \u001b[1;32mc:\\users\\user\\appdata\\local\\temp\\ipykernel_22652\\464125643.py\u001b[0m(14)\u001b[0;36m<module>\u001b[1;34m()\u001b[0m\n",
      "\n"
     ]
    },
    {
     "name": "stdin",
     "output_type": "stream",
     "text": [
      "ipdb>  x\n"
     ]
    },
    {
     "name": "stdout",
     "output_type": "stream",
     "text": [
      "'1'\n"
     ]
    },
    {
     "name": "stdin",
     "output_type": "stream",
     "text": [
      "ipdb>  y\n"
     ]
    },
    {
     "name": "stdout",
     "output_type": "stream",
     "text": [
      "2\n"
     ]
    },
    {
     "name": "stdin",
     "output_type": "stream",
     "text": [
      "ipdb>  type(x)\n"
     ]
    },
    {
     "name": "stdout",
     "output_type": "stream",
     "text": [
      "<class 'str'>\n"
     ]
    },
    {
     "name": "stdin",
     "output_type": "stream",
     "text": [
      "ipdb>  type(y)\n"
     ]
    },
    {
     "name": "stdout",
     "output_type": "stream",
     "text": [
      "<class 'int'>\n"
     ]
    },
    {
     "name": "stdin",
     "output_type": "stream",
     "text": [
      "ipdb>  z + y\n"
     ]
    },
    {
     "name": "stdout",
     "output_type": "stream",
     "text": [
      "5\n"
     ]
    },
    {
     "name": "stdin",
     "output_type": "stream",
     "text": [
      "ipdb>  quit\n"
     ]
    }
   ],
   "source": [
    "x = '1'\n",
    "y = 2\n",
    "z = 3\n",
    "\n",
    "# LOTS MORE CODE\n",
    "\n",
    "result = y + z\n",
    "print(result)\n",
    "\n",
    "\n",
    "###\n",
    "## CODE\n",
    "##\n",
    "pdb.set_trace()\n",
    "\n",
    "# LOTS MORE \n",
    "# print(type(x))\n",
    "# print(type(y))\n",
    "new_result = y + x\n",
    "print(new_result)"
   ]
  },
  {
   "cell_type": "code",
   "execution_count": null,
   "id": "c57f2a2e-09b5-469e-8814-b9ff26544d8b",
   "metadata": {},
   "outputs": [],
   "source": []
  }
 ],
 "metadata": {
  "kernelspec": {
   "display_name": "Python [conda env:base] *",
   "language": "python",
   "name": "conda-base-py"
  },
  "language_info": {
   "codemirror_mode": {
    "name": "ipython",
    "version": 3
   },
   "file_extension": ".py",
   "mimetype": "text/x-python",
   "name": "python",
   "nbconvert_exporter": "python",
   "pygments_lexer": "ipython3",
   "version": "3.12.7"
  }
 },
 "nbformat": 4,
 "nbformat_minor": 5
}
