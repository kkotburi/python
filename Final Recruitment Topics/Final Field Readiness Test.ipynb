{
 "cells": [
  {
   "cell_type": "code",
   "execution_count": 2,
   "id": "31d1cf9e-0249-40ee-bda9-351268170a1d",
   "metadata": {},
   "outputs": [],
   "source": [
    "# Imports you might nedd\n",
    "import string\n",
    "import random"
   ]
  },
  {
   "cell_type": "code",
   "execution_count": 1,
   "id": "4d08544b-4653-44e6-ad85-fd12ca77850a",
   "metadata": {},
   "outputs": [],
   "source": [
    "class Encryption():\n",
    "\n",
    "    def __init__(self,seed):\n",
    "\n",
    "        # Set a random seed and a self.seed attribute\n",
    "\n",
    "\n",
    "        # Create an empty string attribute to hold the encrypted phrase\n",
    "\n",
    "        \n",
    "        # Use the string and random libraries to create two attributes\n",
    "        # One is the correct alphabet, another is a shuffled alphabet (hint: random.sample())\n",
    "    \n",
    "    def encryption(self,message):\n",
    "        '''\n",
    "        This method will take in a string message and encrypt it. Check the video\n",
    "        the instructions above in the markdown for full description of how your\n",
    "        decryption method should work.\n",
    "        '''\n",
    "\n",
    "        ################################################################\n",
    "        ### STEP 1: REPLACE EVERY OTHER LETTER WITH A RANDOM LETTER ###\n",
    "        ##############################################################\n",
    "\n",
    "\n",
    "        ###################################\n",
    "        ### STEP 2: REVERSE THE STRING ###\n",
    "        #################################\n",
    "\n",
    "\n",
    "        ###################################################################\n",
    "        ### STEP 3: USE THE RANDOM SHUFFLED ALPHABET FOR CEASER CIPHER ###\n",
    "        #################################################################\n",
    "\n",
    "        pass\n",
    "\n",
    "    def decryption(self,message,seed):\n",
    "        '''\n",
    "        This method takes in a message and a seed for the random shuffled alphabet\n",
    "        It then returns the decrypted alphabet.\n",
    "        '''\n",
    "        pass"
   ]
  }
 ],
 "metadata": {
  "kernelspec": {
   "display_name": "Python [conda env:base] *",
   "language": "python",
   "name": "conda-base-py"
  },
  "language_info": {
   "codemirror_mode": {
    "name": "ipython",
    "version": 3
   },
   "file_extension": ".py",
   "mimetype": "text/x-python",
   "name": "python",
   "nbconvert_exporter": "python",
   "pygments_lexer": "ipython3",
   "version": "3.12.7"
  }
 },
 "nbformat": 4,
 "nbformat_minor": 5
}
