{
 "cells": [
  {
   "cell_type": "code",
   "execution_count": 13,
   "id": "9953d6ac-7555-45f5-b4b1-29ae644042d3",
   "metadata": {},
   "outputs": [
    {
     "name": "stdin",
     "output_type": "stream",
     "text": [
      "Please enter a number y\n"
     ]
    },
    {
     "name": "stdout",
     "output_type": "stream",
     "text": [
      "Hey, make sure you supply a number!\n"
     ]
    }
   ],
   "source": [
    "try:\n",
    "    result = input(\"Please enter a number\")\n",
    "    1 + int(result)\n",
    "except TypeError:\n",
    "    print('You are not adding the correct things together')\n",
    "except ValueError:\n",
    "    print(\"Hey, make sure you supply a number!\")\n",
    "else:\n",
    "    print(\"everything ran smoothly\")"
   ]
  },
  {
   "cell_type": "code",
   "execution_count": 11,
   "id": "f6560589-6c7c-466a-bf4e-830c3ab41cf2",
   "metadata": {},
   "outputs": [
    {
     "name": "stdin",
     "output_type": "stream",
     "text": [
      "Please enter a number r\n"
     ]
    },
    {
     "ename": "ValueError",
     "evalue": "invalid literal for int() with base 10: 'r'",
     "output_type": "error",
     "traceback": [
      "\u001b[1;31m---------------------------------------------------------------------------\u001b[0m",
      "\u001b[1;31mValueError\u001b[0m                                Traceback (most recent call last)",
      "Cell \u001b[1;32mIn[11], line 2\u001b[0m\n\u001b[0;32m      1\u001b[0m result \u001b[38;5;241m=\u001b[39m \u001b[38;5;28minput\u001b[39m(\u001b[38;5;124m\"\u001b[39m\u001b[38;5;124mPlease enter a number\u001b[39m\u001b[38;5;124m\"\u001b[39m)\n\u001b[1;32m----> 2\u001b[0m \u001b[38;5;241m1\u001b[39m \u001b[38;5;241m+\u001b[39m \u001b[38;5;28mint\u001b[39m(result)\n",
      "\u001b[1;31mValueError\u001b[0m: invalid literal for int() with base 10: 'r'"
     ]
    }
   ],
   "source": [
    "result = input(\"Please enter a number\")\n",
    "1 + int(result)"
   ]
  },
  {
   "cell_type": "code",
   "execution_count": 15,
   "id": "9bfc115d-d3c9-47a3-96f4-791ffef0b2b7",
   "metadata": {},
   "outputs": [
    {
     "name": "stdin",
     "output_type": "stream",
     "text": [
      "Please enter a number r\n"
     ]
    },
    {
     "name": "stdout",
     "output_type": "stream",
     "text": [
      "Hey an error occured\n"
     ]
    }
   ],
   "source": [
    "try:\n",
    "    result = input(\"Please enter a number\")\n",
    "    1 + int(result)\n",
    "except:\n",
    "    print(\"Hey an error occured\")\n",
    "else:\n",
    "    print(\"everything ran smoothly\")"
   ]
  },
  {
   "cell_type": "code",
   "execution_count": 29,
   "id": "40119ada-2142-47d1-be53-3261eb206cf7",
   "metadata": {},
   "outputs": [
    {
     "name": "stdout",
     "output_type": "stream",
     "text": [
      "FINALLY I ALWAYS RUN THIS BLOCK OF CODE\n"
     ]
    }
   ],
   "source": [
    "try:\n",
    "    f = open('testfile','w')\n",
    "    f.write('Test write this')\n",
    "\n",
    "except:\n",
    "    print(\"Hey an error happend!\")\n",
    "finally:\n",
    "    print(\"FINALLY I ALWAYS RUN THIS BLOCK OF CODE\")"
   ]
  },
  {
   "cell_type": "code",
   "execution_count": 23,
   "id": "58d16ed2-ad71-48c4-a36f-315fa186be90",
   "metadata": {},
   "outputs": [
    {
     "ename": "UnsupportedOperation",
     "evalue": "not writable",
     "output_type": "error",
     "traceback": [
      "\u001b[1;31m---------------------------------------------------------------------------\u001b[0m",
      "\u001b[1;31mUnsupportedOperation\u001b[0m                      Traceback (most recent call last)",
      "Cell \u001b[1;32mIn[23], line 2\u001b[0m\n\u001b[0;32m      1\u001b[0m f \u001b[38;5;241m=\u001b[39m \u001b[38;5;28mopen\u001b[39m(\u001b[38;5;124m'\u001b[39m\u001b[38;5;124mtestfile\u001b[39m\u001b[38;5;124m'\u001b[39m,\u001b[38;5;124m'\u001b[39m\u001b[38;5;124mr\u001b[39m\u001b[38;5;124m'\u001b[39m)\n\u001b[1;32m----> 2\u001b[0m f\u001b[38;5;241m.\u001b[39mwrite(\u001b[38;5;124m'\u001b[39m\u001b[38;5;124mTest write this\u001b[39m\u001b[38;5;124m'\u001b[39m)\n",
      "\u001b[1;31mUnsupportedOperation\u001b[0m: not writable"
     ]
    }
   ],
   "source": [
    "f = open('testfile','r')\n",
    "f.write('Test write this')"
   ]
  },
  {
   "cell_type": "code",
   "execution_count": null,
   "id": "340629c8-a003-444d-8c6f-e251240696b8",
   "metadata": {},
   "outputs": [],
   "source": []
  }
 ],
 "metadata": {
  "kernelspec": {
   "display_name": "Python [conda env:base] *",
   "language": "python",
   "name": "conda-base-py"
  },
  "language_info": {
   "codemirror_mode": {
    "name": "ipython",
    "version": 3
   },
   "file_extension": ".py",
   "mimetype": "text/x-python",
   "name": "python",
   "nbconvert_exporter": "python",
   "pygments_lexer": "ipython3",
   "version": "3.12.7"
  }
 },
 "nbformat": 4,
 "nbformat_minor": 5
}
