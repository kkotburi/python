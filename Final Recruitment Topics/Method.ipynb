{
 "cells": [
  {
   "cell_type": "code",
   "execution_count": 109,
   "id": "7dfc123e-1d45-4fe2-b612-ef192b1705b9",
   "metadata": {},
   "outputs": [],
   "source": [
    "class Circle():\n",
    "\n",
    "    pi = 3.14\n",
    "\n",
    "    def __init__(self,radius=1):\n",
    "        self.radius = radius\n",
    "\n",
    "    def area(self):\n",
    "        return self.radius ** 2 * Circle.pi\n",
    "\n",
    "    def perimeter(self):\n",
    "        return 2 * self.radius * Circle.pi\n",
    "\n",
    "    def report_something(self,name):\n",
    "        return 'Report {}'.format(name)"
   ]
  },
  {
   "cell_type": "code",
   "execution_count": 111,
   "id": "3de659f0-41ce-406c-8851-fd6e74245245",
   "metadata": {},
   "outputs": [],
   "source": [
    "mycircle = Circle(3)"
   ]
  },
  {
   "cell_type": "code",
   "execution_count": 113,
   "id": "8ddb428d-fc23-4ebf-a62d-17f01a751928",
   "metadata": {},
   "outputs": [
    {
     "data": {
      "text/plain": [
       "3"
      ]
     },
     "execution_count": 113,
     "metadata": {},
     "output_type": "execute_result"
    }
   ],
   "source": [
    "mycircle.radius"
   ]
  },
  {
   "cell_type": "code",
   "execution_count": 115,
   "id": "94049975-2915-4c33-a65e-10f988576d11",
   "metadata": {},
   "outputs": [
    {
     "data": {
      "text/plain": [
       "28.26"
      ]
     },
     "execution_count": 115,
     "metadata": {},
     "output_type": "execute_result"
    }
   ],
   "source": [
    "mycircle.area()"
   ]
  },
  {
   "cell_type": "code",
   "execution_count": 117,
   "id": "8e4b3200-b8a9-48fe-9e78-9593ee78b15c",
   "metadata": {},
   "outputs": [
    {
     "data": {
      "text/plain": [
       "18.84"
      ]
     },
     "execution_count": 117,
     "metadata": {},
     "output_type": "execute_result"
    }
   ],
   "source": [
    "mycircle.perimeter()"
   ]
  },
  {
   "cell_type": "code",
   "execution_count": 119,
   "id": "0681cd38-4cf4-4972-abc1-877275e41e8b",
   "metadata": {},
   "outputs": [
    {
     "data": {
      "text/plain": [
       "'Report John'"
      ]
     },
     "execution_count": 119,
     "metadata": {},
     "output_type": "execute_result"
    }
   ],
   "source": [
    "mycircle.report_something('John')"
   ]
  },
  {
   "cell_type": "code",
   "execution_count": 13,
   "id": "866cea2f-345f-425d-944d-d1bff36946c7",
   "metadata": {},
   "outputs": [],
   "source": [
    "class Person():\n",
    "\n",
    "    def __init__(self,first_name,last_name):\n",
    "        self.first_name = first_name\n",
    "        self.last_name = last_name\n",
    "\n",
    "    def report(self):\n",
    "        print(\"I am {} {}\".format(self.first_name,self.last_name))\n",
    "\n",
    "    def hello(self):\n",
    "        print(\"hello!\")"
   ]
  },
  {
   "cell_type": "code",
   "execution_count": 15,
   "id": "3099279b-93ab-49ad-adf5-3ad57dc97a57",
   "metadata": {},
   "outputs": [],
   "source": [
    "p = Person('James','Bond')"
   ]
  },
  {
   "cell_type": "code",
   "execution_count": 17,
   "id": "3c6a81b6-5a65-4b3d-bc6a-2e065d2ece4d",
   "metadata": {},
   "outputs": [
    {
     "name": "stdout",
     "output_type": "stream",
     "text": [
      "I am James Bond\n"
     ]
    }
   ],
   "source": [
    "p.report()"
   ]
  },
  {
   "cell_type": "code",
   "execution_count": 19,
   "id": "af89fe2c-688d-4c41-9762-c1ea4b9c6d0d",
   "metadata": {},
   "outputs": [
    {
     "name": "stdout",
     "output_type": "stream",
     "text": [
      "hello!\n"
     ]
    }
   ],
   "source": [
    "p.hello()"
   ]
  },
  {
   "cell_type": "code",
   "execution_count": 21,
   "id": "a0805f78-ccc0-4443-908b-e4441246590a",
   "metadata": {},
   "outputs": [],
   "source": [
    "class Agent(Person):\n",
    "\n",
    "    def __init__(self,first_name,last_name,code_name):\n",
    "        Person.__init__(self,first_name,last_name)\n",
    "        self.code_name = code_name\n",
    "\n",
    "    def report(self):\n",
    "        print('Sorry I can not tell you my real name')\n",
    "        print(\"But you can call me {}\".format(self.code_name))\n",
    "\n",
    "    def true_name(self,passcode):\n",
    "\n",
    "        if passcode==123:\n",
    "            print(\"Correct Passcode\")\n",
    "            print(\"I am {} {}\".format(self.first_name,self.last_name))\n",
    "        else:\n",
    "            self.report()\n",
    "\n",
    "    def _private_mathod(self):\n",
    "        print(\"private method\")"
   ]
  },
  {
   "cell_type": "code",
   "execution_count": 23,
   "id": "e48cc207-f118-4907-8c6f-5cb6e6a23d11",
   "metadata": {},
   "outputs": [],
   "source": [
    "x = Agent(first_name= 'Alan',last_name='Turing',code_name='Hero')"
   ]
  },
  {
   "cell_type": "code",
   "execution_count": 25,
   "id": "1067527c-d8bb-433f-babf-93a24a0a8924",
   "metadata": {},
   "outputs": [
    {
     "name": "stdout",
     "output_type": "stream",
     "text": [
      "hello!\n"
     ]
    }
   ],
   "source": [
    "x.hello()"
   ]
  },
  {
   "cell_type": "code",
   "execution_count": 27,
   "id": "15acd5c1-ba49-47da-9f38-82f8b4a237f0",
   "metadata": {},
   "outputs": [
    {
     "name": "stdout",
     "output_type": "stream",
     "text": [
      "Sorry I can not tell you my real name\n",
      "But you can call me Hero\n"
     ]
    }
   ],
   "source": [
    "x.report()"
   ]
  },
  {
   "cell_type": "code",
   "execution_count": 29,
   "id": "0b0a2a10-6403-4df4-8ec8-667fc17ef8bf",
   "metadata": {},
   "outputs": [
    {
     "name": "stdout",
     "output_type": "stream",
     "text": [
      "Sorry I can not tell you my real name\n",
      "But you can call me Hero\n"
     ]
    }
   ],
   "source": [
    "x.true_name(234)"
   ]
  },
  {
   "cell_type": "code",
   "execution_count": 31,
   "id": "a9622320-33f9-4979-aed1-dc49d47da20b",
   "metadata": {},
   "outputs": [
    {
     "name": "stdout",
     "output_type": "stream",
     "text": [
      "Correct Passcode\n",
      "I am Alan Turing\n"
     ]
    }
   ],
   "source": [
    "x.true_name(123)"
   ]
  },
  {
   "cell_type": "code",
   "execution_count": 33,
   "id": "c3440f3d-6974-4e5e-9fee-3e97f4a6b875",
   "metadata": {},
   "outputs": [],
   "source": [
    "a = Agent(first_name='Alan',last_name='Turing',code_name='Hero')"
   ]
  },
  {
   "cell_type": "code",
   "execution_count": 35,
   "id": "92b1885a-08f7-4e48-89cd-ac90e8bba5a3",
   "metadata": {},
   "outputs": [
    {
     "name": "stdout",
     "output_type": "stream",
     "text": [
      "Sorry I can not tell you my real name\n",
      "But you can call me Hero\n"
     ]
    }
   ],
   "source": [
    "a.report()"
   ]
  },
  {
   "cell_type": "code",
   "execution_count": 37,
   "id": "6d0db17a-4138-4422-9466-6ef507dcc4fd",
   "metadata": {},
   "outputs": [
    {
     "data": {
      "text/plain": [
       "'Alan'"
      ]
     },
     "execution_count": 37,
     "metadata": {},
     "output_type": "execute_result"
    }
   ],
   "source": [
    "a.first_name"
   ]
  },
  {
   "cell_type": "code",
   "execution_count": 39,
   "id": "c7838d77-2bcc-4eb8-9894-501e2a8ab031",
   "metadata": {},
   "outputs": [
    {
     "name": "stdout",
     "output_type": "stream",
     "text": [
      "<__main__.Agent object at 0x0000022031F45700>\n"
     ]
    }
   ],
   "source": [
    "print(a)"
   ]
  },
  {
   "cell_type": "code",
   "execution_count": 41,
   "id": "1a2cddc1-54ef-4d05-96cd-c56fedefb27d",
   "metadata": {},
   "outputs": [
    {
     "ename": "TypeError",
     "evalue": "object of type 'Agent' has no len()",
     "output_type": "error",
     "traceback": [
      "\u001b[1;31m---------------------------------------------------------------------------\u001b[0m",
      "\u001b[1;31mTypeError\u001b[0m                                 Traceback (most recent call last)",
      "Cell \u001b[1;32mIn[41], line 1\u001b[0m\n\u001b[1;32m----> 1\u001b[0m \u001b[38;5;28mlen\u001b[39m(a)\n",
      "\u001b[1;31mTypeError\u001b[0m: object of type 'Agent' has no len()"
     ]
    }
   ],
   "source": [
    "len(a)"
   ]
  },
  {
   "cell_type": "code",
   "execution_count": 51,
   "id": "9b9f5496-3667-4860-857c-6b58a28ddbf5",
   "metadata": {},
   "outputs": [],
   "source": [
    "class Book():\n",
    "\n",
    "    def __init__(self,title,author,pages):\n",
    "        self.title = title\n",
    "        self.author = author\n",
    "        self.pages = pages\n",
    "\n",
    "    def __str__(self):\n",
    "        return 'Title is {} and Author is {}'.format(self.title,self.author)"
   ]
  },
  {
   "cell_type": "code",
   "execution_count": 57,
   "id": "8edcd133-b918-46a4-91d8-3d0a244e0264",
   "metadata": {},
   "outputs": [],
   "source": [
    "b = Book('Python Rocks','James Bond',200)"
   ]
  },
  {
   "cell_type": "code",
   "execution_count": 59,
   "id": "f51ce5d4-2a6a-4ce0-8462-f7eec49027cc",
   "metadata": {},
   "outputs": [
    {
     "name": "stdout",
     "output_type": "stream",
     "text": [
      "Title is Python Rocks and Author is James Bond\n"
     ]
    }
   ],
   "source": [
    "print(b)"
   ]
  },
  {
   "cell_type": "code",
   "execution_count": null,
   "id": "bef88074-e0f9-49bc-ac06-874ebb5ca3b2",
   "metadata": {},
   "outputs": [],
   "source": []
  }
 ],
 "metadata": {
  "kernelspec": {
   "display_name": "Python [conda env:base] *",
   "language": "python",
   "name": "conda-base-py"
  },
  "language_info": {
   "codemirror_mode": {
    "name": "ipython",
    "version": 3
   },
   "file_extension": ".py",
   "mimetype": "text/x-python",
   "name": "python",
   "nbconvert_exporter": "python",
   "pygments_lexer": "ipython3",
   "version": "3.12.7"
  }
 },
 "nbformat": 4,
 "nbformat_minor": 5
}
