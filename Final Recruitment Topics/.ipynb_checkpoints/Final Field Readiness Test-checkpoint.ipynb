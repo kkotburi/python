{
 "cells": [
  {
   "cell_type": "code",
   "execution_count": 17,
   "id": "31d1cf9e-0249-40ee-bda9-351268170a1d",
   "metadata": {},
   "outputs": [],
   "source": [
    "# Imports you might nedd\n",
    "import string\n",
    "import random"
   ]
  },
  {
   "cell_type": "code",
   "execution_count": 43,
   "id": "4d08544b-4653-44e6-ad85-fd12ca77850a",
   "metadata": {},
   "outputs": [],
   "source": [
    "class Encryption():\n",
    "\n",
    "    def __init__(self,seed):\n",
    "\n",
    "        # Set a random seed and a self.seed attribute\n",
    "        random.seed(seed)\n",
    "        self.seed = seed\n",
    "\n",
    "        # Create an empty string attribute to hold the encrypted phrase\n",
    "        self.encrypted_phrase = ''\n",
    "        \n",
    "        # Use the string and random libraries to create two attributes\n",
    "        # One is the correct alphabet, another is a shuffled alphabet (hint: random.sample())\n",
    "        self.true_alphabet = list(string.ascii_lowercase)\n",
    "        self.rand_alphabet = random.sample(self.true_alphabet,len(self.true_alphabet))\n",
    "\n",
    "    \n",
    "    def encryption(self,message):\n",
    "        '''\n",
    "        This method will take in a string message and encrypt it. Check the video or\n",
    "        the instructions above in the markdown for full description of how your\n",
    "        decryption method should work.\n",
    "        '''\n",
    "\n",
    "        output = ''\n",
    "        ################################################################\n",
    "        ### STEP 1: REPLACE EVERY OTHER LETTER WITH A RANDOM LETTER ###\n",
    "        ##############################################################\n",
    "        for i in range(len(message)):\n",
    "            output += message[i]\n",
    "\n",
    "            # ['g']\n",
    "            output += random.sample(self.true_alphabet,1)[0]\n",
    "            \n",
    "\n",
    "        ###################################\n",
    "        ### STEP 2: REVERSE THE STRING ###\n",
    "        #################################\n",
    "        self.encrypted_phrase = output[::-1]\n",
    "        \n",
    "\n",
    "        ###################################################################\n",
    "        ### STEP 3: USE THE RANDOM SHUFFLED ALPHABET FOR CEASER CIPHER ###\n",
    "        #################################################################\n",
    "\n",
    "        \n",
    "        encrypted_phrase_two = list(range(len(self.encrypted_phrase)))\n",
    "\n",
    "        for i,letter in enumerate(self.encrypted_phrase.lower()):\n",
    "\n",
    "            if letter in self.true_alphabet:\n",
    "                index = self.true_alphabet.index(letter)\n",
    "                encrypted_phrase_two[i] = self.rand_alphabet[index]\n",
    "            \n",
    "            else:\n",
    "                # Punctuation and spaces\n",
    "                encrypted_phrase_two[i] = letter\n",
    "\n",
    "        self.encrypted_phrase = ''.join(encrypted_phrase_two)\n",
    "\n",
    "        return self.encrypted_phrase\n",
    "\n",
    "            \n",
    "\n",
    "    def decryption(self,message,seed):\n",
    "        '''\n",
    "        This method takes in a message and a seed for the random shuffled alphabet\n",
    "        It then returns the decrypted alphabet.\n",
    "        '''\n",
    "        pass"
   ]
  },
  {
   "cell_type": "code",
   "execution_count": 45,
   "id": "0d5ea212-42ac-4b23-8dc0-a2ce5e5f2f47",
   "metadata": {},
   "outputs": [],
   "source": [
    "e = Encryption(20)"
   ]
  },
  {
   "cell_type": "code",
   "execution_count": 47,
   "id": "af5738ac-62c4-45bb-ac79-5a4815cf1d08",
   "metadata": {},
   "outputs": [
    {
     "data": {
      "text/plain": [
       "'divgkjocdze bcrgqghywk'"
      ]
     },
     "execution_count": 47,
     "metadata": {},
     "output_type": "execute_result"
    }
   ],
   "source": [
    "e.encryption('hello world')"
   ]
  },
  {
   "cell_type": "code",
   "execution_count": 49,
   "id": "8f09684a-de3d-4393-a4f1-2881ccd7a9fb",
   "metadata": {},
   "outputs": [],
   "source": [
    "e.decryption('divgkjocdze bcrgqghywk',20)"
   ]
  },
  {
   "cell_type": "code",
   "execution_count": null,
   "id": "c66aa740-060e-4030-96e2-b52106d391f7",
   "metadata": {},
   "outputs": [],
   "source": []
  }
 ],
 "metadata": {
  "kernelspec": {
   "display_name": "Python [conda env:base] *",
   "language": "python",
   "name": "conda-base-py"
  },
  "language_info": {
   "codemirror_mode": {
    "name": "ipython",
    "version": 3
   },
   "file_extension": ".py",
   "mimetype": "text/x-python",
   "name": "python",
   "nbconvert_exporter": "python",
   "pygments_lexer": "ipython3",
   "version": "3.12.7"
  }
 },
 "nbformat": 4,
 "nbformat_minor": 5
}
