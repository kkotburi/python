{
 "cells": [
  {
   "cell_type": "code",
   "execution_count": 1,
   "id": "44cee058-3404-487a-b060-06feaa7dc658",
   "metadata": {},
   "outputs": [],
   "source": [
    "mylist = [1,2,3]"
   ]
  },
  {
   "cell_type": "code",
   "execution_count": 3,
   "id": "bb4c57db-1a83-47cd-b534-28d5d68aa899",
   "metadata": {},
   "outputs": [],
   "source": [
    "mylist.append(4)"
   ]
  },
  {
   "cell_type": "code",
   "execution_count": 5,
   "id": "56b8ba4b-2251-4bba-a6a9-7f11dea80c08",
   "metadata": {},
   "outputs": [
    {
     "data": {
      "text/plain": [
       "1"
      ]
     },
     "execution_count": 5,
     "metadata": {},
     "output_type": "execute_result"
    }
   ],
   "source": [
    "mylist.count(2)"
   ]
  },
  {
   "cell_type": "code",
   "execution_count": 7,
   "id": "3dc9a12b-ccbb-4de7-86b3-c86d7558300c",
   "metadata": {},
   "outputs": [
    {
     "data": {
      "text/plain": [
       "[1, 2, 3, 4]"
      ]
     },
     "execution_count": 7,
     "metadata": {},
     "output_type": "execute_result"
    }
   ],
   "source": [
    "mylist"
   ]
  },
  {
   "cell_type": "code",
   "execution_count": 9,
   "id": "b3358c25-6b0f-4582-ad18-b04eed0a33bd",
   "metadata": {},
   "outputs": [
    {
     "data": {
      "text/plain": [
       "int"
      ]
     },
     "execution_count": 9,
     "metadata": {},
     "output_type": "execute_result"
    }
   ],
   "source": [
    "type(1)"
   ]
  },
  {
   "cell_type": "code",
   "execution_count": 11,
   "id": "98b0c041-a89a-4f96-84fb-bd0b916d2a70",
   "metadata": {},
   "outputs": [
    {
     "data": {
      "text/plain": [
       "list"
      ]
     },
     "execution_count": 11,
     "metadata": {},
     "output_type": "execute_result"
    }
   ],
   "source": [
    "type([])"
   ]
  },
  {
   "cell_type": "code",
   "execution_count": 13,
   "id": "d016a1bc-a015-4f62-8fd0-1324cc42bd0d",
   "metadata": {},
   "outputs": [
    {
     "data": {
      "text/plain": [
       "dict"
      ]
     },
     "execution_count": 13,
     "metadata": {},
     "output_type": "execute_result"
    }
   ],
   "source": [
    "type({'d':1})"
   ]
  },
  {
   "cell_type": "code",
   "execution_count": null,
   "id": "e9f2a6ef-26a6-42fe-ac93-e9a84929c90b",
   "metadata": {},
   "outputs": [],
   "source": []
  },
  {
   "cell_type": "code",
   "execution_count": 3,
   "id": "c97dccd4-c895-48be-b2bc-58f13409809d",
   "metadata": {},
   "outputs": [],
   "source": [
    "class Sample():\n",
    "    pass"
   ]
  },
  {
   "cell_type": "code",
   "execution_count": 5,
   "id": "6ee2fbcc-fe0b-455c-a46b-66dbc7fb3e68",
   "metadata": {},
   "outputs": [],
   "source": [
    "x = Sample()"
   ]
  },
  {
   "cell_type": "code",
   "execution_count": 7,
   "id": "e07eebdc-3d95-44dd-9cb8-b984d6405c32",
   "metadata": {},
   "outputs": [
    {
     "data": {
      "text/plain": [
       "__main__.Sample"
      ]
     },
     "execution_count": 7,
     "metadata": {},
     "output_type": "execute_result"
    }
   ],
   "source": [
    "type(x)"
   ]
  },
  {
   "cell_type": "code",
   "execution_count": null,
   "id": "27a78e39-2efb-4a33-be36-48b4536665dd",
   "metadata": {},
   "outputs": [],
   "source": []
  },
  {
   "cell_type": "code",
   "execution_count": 98,
   "id": "4b41077d-d55d-4d78-8589-14b791353add",
   "metadata": {},
   "outputs": [],
   "source": [
    "class Agent():\n",
    "\n",
    "    # Class Object Attribute\n",
    "    planet = 'Earth'\n",
    "    \n",
    "    def __init__(self,real_name,eye_color,height):\n",
    "        self.real_name = real_name\n",
    "        self.eye_color = eye_color\n",
    "        self.height = height"
   ]
  },
  {
   "cell_type": "code",
   "execution_count": 100,
   "id": "67685e22-ed0c-4498-98fa-9440f2e79316",
   "metadata": {},
   "outputs": [],
   "source": [
    "x = Agent('James Band','green',175)"
   ]
  },
  {
   "cell_type": "code",
   "execution_count": 102,
   "id": "9c93d2db-0ca8-4d29-8ffb-b9cfc4c31e83",
   "metadata": {},
   "outputs": [],
   "source": [
    "y = Agent('Sally','blue',160)"
   ]
  },
  {
   "cell_type": "code",
   "execution_count": 104,
   "id": "ce369788-badd-4c22-9984-761bd3d5b770",
   "metadata": {},
   "outputs": [
    {
     "data": {
      "text/plain": [
       "'James Band'"
      ]
     },
     "execution_count": 104,
     "metadata": {},
     "output_type": "execute_result"
    }
   ],
   "source": [
    "x.real_name"
   ]
  },
  {
   "cell_type": "code",
   "execution_count": 106,
   "id": "9c9ead29-6159-401e-a661-50a24766d7f3",
   "metadata": {},
   "outputs": [
    {
     "data": {
      "text/plain": [
       "'Sally'"
      ]
     },
     "execution_count": 106,
     "metadata": {},
     "output_type": "execute_result"
    }
   ],
   "source": [
    "y.real_name"
   ]
  },
  {
   "cell_type": "code",
   "execution_count": 108,
   "id": "0135f995-fdbe-444b-b010-1080ec0abfc1",
   "metadata": {},
   "outputs": [
    {
     "data": {
      "text/plain": [
       "__main__.Agent"
      ]
     },
     "execution_count": 108,
     "metadata": {},
     "output_type": "execute_result"
    }
   ],
   "source": [
    "type(x)"
   ]
  },
  {
   "cell_type": "code",
   "execution_count": 110,
   "id": "9a8fbd57-6854-4087-b83a-7c03622e0dc1",
   "metadata": {},
   "outputs": [
    {
     "data": {
      "text/plain": [
       "<__main__.Agent at 0x23ae967d8b0>"
      ]
     },
     "execution_count": 110,
     "metadata": {},
     "output_type": "execute_result"
    }
   ],
   "source": [
    "x"
   ]
  },
  {
   "cell_type": "code",
   "execution_count": 112,
   "id": "227d2874-6d75-409a-9bd5-e9d8250a4a1e",
   "metadata": {},
   "outputs": [
    {
     "data": {
      "text/plain": [
       "'green'"
      ]
     },
     "execution_count": 112,
     "metadata": {},
     "output_type": "execute_result"
    }
   ],
   "source": [
    "x.eye_color"
   ]
  },
  {
   "cell_type": "code",
   "execution_count": 114,
   "id": "5bb8a701-c87c-4397-8b64-3dbf25c2bb4c",
   "metadata": {},
   "outputs": [
    {
     "data": {
      "text/plain": [
       "175"
      ]
     },
     "execution_count": 114,
     "metadata": {},
     "output_type": "execute_result"
    }
   ],
   "source": [
    "x.height"
   ]
  },
  {
   "cell_type": "code",
   "execution_count": 116,
   "id": "62bddf70-9881-4594-a24f-46eefdf5538f",
   "metadata": {},
   "outputs": [
    {
     "data": {
      "text/plain": [
       "'James Band'"
      ]
     },
     "execution_count": 116,
     "metadata": {},
     "output_type": "execute_result"
    }
   ],
   "source": [
    "x.real_name"
   ]
  },
  {
   "cell_type": "code",
   "execution_count": 120,
   "id": "d236529d-a618-4752-81b3-349ea64c7aea",
   "metadata": {},
   "outputs": [
    {
     "data": {
      "text/plain": [
       "'Earth'"
      ]
     },
     "execution_count": 120,
     "metadata": {},
     "output_type": "execute_result"
    }
   ],
   "source": [
    "x.planet"
   ]
  },
  {
   "cell_type": "code",
   "execution_count": 122,
   "id": "263586be-42e4-4065-a2b7-9512c9fdff75",
   "metadata": {},
   "outputs": [
    {
     "data": {
      "text/plain": [
       "'Earth'"
      ]
     },
     "execution_count": 122,
     "metadata": {},
     "output_type": "execute_result"
    }
   ],
   "source": [
    "y.planet"
   ]
  },
  {
   "cell_type": "code",
   "execution_count": null,
   "id": "c55859a3-b63a-43f3-bea4-15e40510a1ca",
   "metadata": {},
   "outputs": [],
   "source": []
  }
 ],
 "metadata": {
  "kernelspec": {
   "display_name": "Python [conda env:base] *",
   "language": "python",
   "name": "conda-base-py"
  },
  "language_info": {
   "codemirror_mode": {
    "name": "ipython",
    "version": 3
   },
   "file_extension": ".py",
   "mimetype": "text/x-python",
   "name": "python",
   "nbconvert_exporter": "python",
   "pygments_lexer": "ipython3",
   "version": "3.12.7"
  }
 },
 "nbformat": 4,
 "nbformat_minor": 5
}
