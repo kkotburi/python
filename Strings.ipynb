{
 "cells": [
  {
   "cell_type": "code",
   "execution_count": 1,
   "id": "a25b36d8-65e3-4fcc-8e99-28549b85d60b",
   "metadata": {},
   "outputs": [],
   "source": [
    "# 1+1"
   ]
  },
  {
   "cell_type": "code",
   "execution_count": 3,
   "id": "902b217e-0d27-42ce-badc-0e3b7c9cf043",
   "metadata": {},
   "outputs": [
    {
     "data": {
      "text/plain": [
       "'hello'"
      ]
     },
     "execution_count": 3,
     "metadata": {},
     "output_type": "execute_result"
    }
   ],
   "source": [
    "'hello'"
   ]
  },
  {
   "cell_type": "code",
   "execution_count": 5,
   "id": "1b186891-8fcd-45fe-b0c8-810119cef7de",
   "metadata": {},
   "outputs": [
    {
     "data": {
      "text/plain": [
       "'hello'"
      ]
     },
     "execution_count": 5,
     "metadata": {},
     "output_type": "execute_result"
    }
   ],
   "source": [
    "\"hello\""
   ]
  },
  {
   "cell_type": "code",
   "execution_count": 7,
   "id": "3cc363f9-bafb-4ca9-b118-14a03b74e362",
   "metadata": {},
   "outputs": [
    {
     "ename": "SyntaxError",
     "evalue": "unterminated string literal (detected at line 1) (3590410913.py, line 1)",
     "output_type": "error",
     "traceback": [
      "\u001b[1;36m  Cell \u001b[1;32mIn[7], line 1\u001b[1;36m\u001b[0m\n\u001b[1;33m    'I'm not a spy!'\u001b[0m\n\u001b[1;37m                   ^\u001b[0m\n\u001b[1;31mSyntaxError\u001b[0m\u001b[1;31m:\u001b[0m unterminated string literal (detected at line 1)\n"
     ]
    }
   ],
   "source": [
    "'I'm not a spy!'"
   ]
  },
  {
   "cell_type": "code",
   "execution_count": 17,
   "id": "6ee41739-9755-455b-a627-01cf6a271e19",
   "metadata": {},
   "outputs": [
    {
     "data": {
      "text/plain": [
       "\"I'm not a spy!\""
      ]
     },
     "execution_count": 17,
     "metadata": {},
     "output_type": "execute_result"
    }
   ],
   "source": [
    "\"I'm not a spy!\""
   ]
  },
  {
   "cell_type": "code",
   "execution_count": 19,
   "id": "2a18ee5c-a102-437a-96ea-45c7feaa7239",
   "metadata": {},
   "outputs": [
    {
     "data": {
      "text/plain": [
       "'two'"
      ]
     },
     "execution_count": 19,
     "metadata": {},
     "output_type": "execute_result"
    }
   ],
   "source": [
    "'one'\n",
    "'two'"
   ]
  },
  {
   "cell_type": "code",
   "execution_count": 23,
   "id": "9c6c81cf-7eee-4079-8f29-d5b2dd197d2f",
   "metadata": {},
   "outputs": [
    {
     "name": "stdout",
     "output_type": "stream",
     "text": [
      "one\n",
      "two\n"
     ]
    }
   ],
   "source": [
    "print('one')\n",
    "print('two')"
   ]
  },
  {
   "cell_type": "code",
   "execution_count": 29,
   "id": "879a66f3-9574-464c-874e-b25048688f4b",
   "metadata": {},
   "outputs": [
    {
     "name": "stdout",
     "output_type": "stream",
     "text": [
      "Hello i want \n",
      "this in 2 lines.\n"
     ]
    }
   ],
   "source": [
    "print('Hello i want \\nthis in 2 lines.')"
   ]
  },
  {
   "cell_type": "code",
   "execution_count": 31,
   "id": "92eeb04b-cfdd-4194-a42a-ed29abb026bf",
   "metadata": {},
   "outputs": [],
   "source": [
    "word = 'hello'"
   ]
  },
  {
   "cell_type": "code",
   "execution_count": 33,
   "id": "8c8e32a6-2b04-4973-9c6f-6427453453a2",
   "metadata": {},
   "outputs": [
    {
     "data": {
      "text/plain": [
       "'hello'"
      ]
     },
     "execution_count": 33,
     "metadata": {},
     "output_type": "execute_result"
    }
   ],
   "source": [
    "word"
   ]
  },
  {
   "cell_type": "code",
   "execution_count": 35,
   "id": "0f2133e6-8e39-4e14-9d97-4b9f355341db",
   "metadata": {},
   "outputs": [
    {
     "data": {
      "text/plain": [
       "'h'"
      ]
     },
     "execution_count": 35,
     "metadata": {},
     "output_type": "execute_result"
    }
   ],
   "source": [
    "word[0]"
   ]
  },
  {
   "cell_type": "code",
   "execution_count": 37,
   "id": "16bbf403-c537-407f-b340-7462d07349ee",
   "metadata": {},
   "outputs": [
    {
     "data": {
      "text/plain": [
       "'o'"
      ]
     },
     "execution_count": 37,
     "metadata": {},
     "output_type": "execute_result"
    }
   ],
   "source": [
    "word[4]"
   ]
  },
  {
   "cell_type": "code",
   "execution_count": 39,
   "id": "84922a04-aca3-4ed2-ac32-3d0ae08353e3",
   "metadata": {},
   "outputs": [
    {
     "data": {
      "text/plain": [
       "'o'"
      ]
     },
     "execution_count": 39,
     "metadata": {},
     "output_type": "execute_result"
    }
   ],
   "source": [
    "word[-1]"
   ]
  },
  {
   "cell_type": "code",
   "execution_count": 53,
   "id": "4ad3fc00-5759-48f7-8421-42b381fc78be",
   "metadata": {},
   "outputs": [],
   "source": [
    "alpha = 'abcdef'"
   ]
  },
  {
   "cell_type": "code",
   "execution_count": 55,
   "id": "3663044b-b230-41c6-831f-706da338e38d",
   "metadata": {},
   "outputs": [
    {
     "data": {
      "text/plain": [
       "'abc'"
      ]
     },
     "execution_count": 55,
     "metadata": {},
     "output_type": "execute_result"
    }
   ],
   "source": [
    "alpha[0:3]"
   ]
  },
  {
   "cell_type": "code",
   "execution_count": 57,
   "id": "e8817951-e76c-4030-a639-627df8218224",
   "metadata": {},
   "outputs": [
    {
     "data": {
      "text/plain": [
       "'cd'"
      ]
     },
     "execution_count": 57,
     "metadata": {},
     "output_type": "execute_result"
    }
   ],
   "source": [
    "alpha[2:4]"
   ]
  },
  {
   "cell_type": "code",
   "execution_count": 59,
   "id": "917056c6-90dd-4dc4-a0c3-3b0c89ae099c",
   "metadata": {},
   "outputs": [
    {
     "data": {
      "text/plain": [
       "'cdef'"
      ]
     },
     "execution_count": 59,
     "metadata": {},
     "output_type": "execute_result"
    }
   ],
   "source": [
    "alpha[2:]"
   ]
  },
  {
   "cell_type": "code",
   "execution_count": 61,
   "id": "dcd4fe9a-6129-400e-9cfc-6c52524dd90d",
   "metadata": {},
   "outputs": [
    {
     "data": {
      "text/plain": [
       "'ab'"
      ]
     },
     "execution_count": 61,
     "metadata": {},
     "output_type": "execute_result"
    }
   ],
   "source": [
    "alpha[:2]"
   ]
  },
  {
   "cell_type": "code",
   "execution_count": 63,
   "id": "35717f47-c400-4265-b490-921fe1eec540",
   "metadata": {},
   "outputs": [
    {
     "data": {
      "text/plain": [
       "'abcdef'"
      ]
     },
     "execution_count": 63,
     "metadata": {},
     "output_type": "execute_result"
    }
   ],
   "source": [
    "alpha"
   ]
  },
  {
   "cell_type": "code",
   "execution_count": 69,
   "id": "26d908af-419a-48c7-945e-6326174d50bc",
   "metadata": {},
   "outputs": [
    {
     "data": {
      "text/plain": [
       "'ace'"
      ]
     },
     "execution_count": 69,
     "metadata": {},
     "output_type": "execute_result"
    }
   ],
   "source": [
    "alpha[0:6:2]"
   ]
  },
  {
   "cell_type": "code",
   "execution_count": 71,
   "id": "f60efd69-ca0d-4b27-9d75-20195f01bf98",
   "metadata": {},
   "outputs": [
    {
     "data": {
      "text/plain": [
       "'ace'"
      ]
     },
     "execution_count": 71,
     "metadata": {},
     "output_type": "execute_result"
    }
   ],
   "source": [
    "alpha[:6:2]"
   ]
  },
  {
   "cell_type": "code",
   "execution_count": 73,
   "id": "648743db-431f-49b0-9b53-e289568a64fb",
   "metadata": {},
   "outputs": [
    {
     "data": {
      "text/plain": [
       "'ace'"
      ]
     },
     "execution_count": 73,
     "metadata": {},
     "output_type": "execute_result"
    }
   ],
   "source": [
    "alpha[0::2]"
   ]
  },
  {
   "cell_type": "code",
   "execution_count": 75,
   "id": "b27362d3-93a8-4e7d-a96c-e31134aa2315",
   "metadata": {},
   "outputs": [],
   "source": [
    "basic = 'hello world'"
   ]
  },
  {
   "cell_type": "code",
   "execution_count": 77,
   "id": "a41172b8-8ebd-4241-a5af-f9f8749041a0",
   "metadata": {},
   "outputs": [
    {
     "data": {
      "text/plain": [
       "'hello world'"
      ]
     },
     "execution_count": 77,
     "metadata": {},
     "output_type": "execute_result"
    }
   ],
   "source": [
    "basic"
   ]
  },
  {
   "cell_type": "code",
   "execution_count": 79,
   "id": "dafd4fe5-dd55-4585-adac-795f55574c2f",
   "metadata": {},
   "outputs": [
    {
     "data": {
      "text/plain": [
       "'HELLO WORLD'"
      ]
     },
     "execution_count": 79,
     "metadata": {},
     "output_type": "execute_result"
    }
   ],
   "source": [
    "basic.upper()"
   ]
  },
  {
   "cell_type": "code",
   "execution_count": 81,
   "id": "dd258298-f331-4d2d-8898-8762c020caaf",
   "metadata": {},
   "outputs": [],
   "source": [
    "var = basic.upper()"
   ]
  },
  {
   "cell_type": "code",
   "execution_count": 83,
   "id": "c52a76e5-ed99-473b-b8e3-ef6ddf56393e",
   "metadata": {},
   "outputs": [
    {
     "data": {
      "text/plain": [
       "'HELLO WORLD'"
      ]
     },
     "execution_count": 83,
     "metadata": {},
     "output_type": "execute_result"
    }
   ],
   "source": [
    "var"
   ]
  },
  {
   "cell_type": "code",
   "execution_count": 85,
   "id": "736852f9-f375-4109-ab1e-0809116b42b2",
   "metadata": {},
   "outputs": [
    {
     "data": {
      "text/plain": [
       "'hello world'"
      ]
     },
     "execution_count": 85,
     "metadata": {},
     "output_type": "execute_result"
    }
   ],
   "source": [
    "basic"
   ]
  },
  {
   "cell_type": "code",
   "execution_count": 87,
   "id": "ac1e60f9-74de-4489-bbca-a061df441a84",
   "metadata": {},
   "outputs": [
    {
     "data": {
      "text/plain": [
       "'hello world'"
      ]
     },
     "execution_count": 87,
     "metadata": {},
     "output_type": "execute_result"
    }
   ],
   "source": [
    "basic.lower()"
   ]
  },
  {
   "cell_type": "code",
   "execution_count": 89,
   "id": "9d16945c-ce87-46e7-90f7-695ffa6bd0ef",
   "metadata": {},
   "outputs": [
    {
     "data": {
      "text/plain": [
       "['hello', 'world']"
      ]
     },
     "execution_count": 89,
     "metadata": {},
     "output_type": "execute_result"
    }
   ],
   "source": [
    "basic.split()"
   ]
  },
  {
   "cell_type": "code",
   "execution_count": 91,
   "id": "3ae7e8b1-d1bd-4f51-b101-c1d6e5e23e73",
   "metadata": {},
   "outputs": [
    {
     "data": {
      "text/plain": [
       "['hell', ' w', 'rld']"
      ]
     },
     "execution_count": 91,
     "metadata": {},
     "output_type": "execute_result"
    }
   ],
   "source": [
    "basic.split('o')"
   ]
  },
  {
   "cell_type": "code",
   "execution_count": 93,
   "id": "a8d06337-db47-45e7-a3f7-57e014ac84ec",
   "metadata": {},
   "outputs": [
    {
     "data": {
      "text/plain": [
       "<function str.split(sep=None, maxsplit=-1)>"
      ]
     },
     "execution_count": 93,
     "metadata": {},
     "output_type": "execute_result"
    }
   ],
   "source": [
    "basic.split"
   ]
  },
  {
   "cell_type": "code",
   "execution_count": 99,
   "id": "49956130-03ea-4094-9649-ba8dec9a13f8",
   "metadata": {},
   "outputs": [],
   "source": [
    "user_name = 'Recruit'\n",
    "action = 'run'"
   ]
  },
  {
   "cell_type": "code",
   "execution_count": 115,
   "id": "4270f13e-bfb7-41f9-8641-4169657640bb",
   "metadata": {},
   "outputs": [
    {
     "name": "stdout",
     "output_type": "stream",
     "text": [
      "The run needs to Recruit\n"
     ]
    }
   ],
   "source": [
    "print('The {b} needs to {a}'.format(a=user_name, b=action))"
   ]
  },
  {
   "cell_type": "code",
   "execution_count": 117,
   "id": "bb47c9cf-82bb-4105-a6e7-0517f3d927a5",
   "metadata": {},
   "outputs": [],
   "source": [
    "num = 123.6789"
   ]
  },
  {
   "cell_type": "code",
   "execution_count": 129,
   "id": "4b96acf2-290e-4ed4-bcb6-01527e9cd7cc",
   "metadata": {},
   "outputs": [
    {
     "name": "stdout",
     "output_type": "stream",
     "text": [
      "The code is 124\n"
     ]
    }
   ],
   "source": [
    "print('The code is {:.0f}'.format(num))"
   ]
  },
  {
   "cell_type": "code",
   "execution_count": null,
   "id": "cd0046c9-d51b-4356-8d02-c9eba5e1a613",
   "metadata": {},
   "outputs": [],
   "source": []
  }
 ],
 "metadata": {
  "kernelspec": {
   "display_name": "Python [conda env:base] *",
   "language": "python",
   "name": "conda-base-py"
  },
  "language_info": {
   "codemirror_mode": {
    "name": "ipython",
    "version": 3
   },
   "file_extension": ".py",
   "mimetype": "text/x-python",
   "name": "python",
   "nbconvert_exporter": "python",
   "pygments_lexer": "ipython3",
   "version": "3.12.7"
  }
 },
 "nbformat": 4,
 "nbformat_minor": 5
}
