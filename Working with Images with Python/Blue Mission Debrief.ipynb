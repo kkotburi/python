{
 "cells": [
  {
   "cell_type": "code",
   "execution_count": 1,
   "id": "c219cfff-f57d-4e10-a7fd-dedf433c8ee1",
   "metadata": {},
   "outputs": [],
   "source": [
    "from PIL import Image"
   ]
  },
  {
   "cell_type": "code",
   "execution_count": 5,
   "id": "f8368dbf-a00e-479e-b840-7ec837d2394a",
   "metadata": {},
   "outputs": [],
   "source": [
    "# links = Image.open('Blue_Mission_Files/image_link.PNG')"
   ]
  },
  {
   "cell_type": "code",
   "execution_count": 7,
   "id": "1c592e2d-8cfc-4484-8ff7-616f02916730",
   "metadata": {},
   "outputs": [],
   "source": [
    "# links.size"
   ]
  },
  {
   "cell_type": "code",
   "execution_count": 9,
   "id": "17bbff86-0faf-45b3-a628-166c1676b786",
   "metadata": {},
   "outputs": [],
   "source": [
    "# links"
   ]
  },
  {
   "cell_type": "code",
   "execution_count": 11,
   "id": "fb492baa-969f-4b9c-8731-a0cf7747dfd4",
   "metadata": {},
   "outputs": [],
   "source": [
    "# cover = Image.open('Blue_Mission_Files/cover_image.PNG')"
   ]
  },
  {
   "cell_type": "code",
   "execution_count": 13,
   "id": "9af57418-7cea-407f-8741-fc5ce9434c0f",
   "metadata": {},
   "outputs": [],
   "source": [
    "# cover.size"
   ]
  },
  {
   "cell_type": "code",
   "execution_count": 15,
   "id": "b6211d3c-793a-4d3f-8d75-4ad126a01b94",
   "metadata": {},
   "outputs": [],
   "source": [
    "# cover"
   ]
  },
  {
   "cell_type": "code",
   "execution_count": 17,
   "id": "0f721b75-20ef-4a16-94f1-371dad17b1f9",
   "metadata": {},
   "outputs": [],
   "source": [
    "# cover = cover.resize(links.size)"
   ]
  },
  {
   "cell_type": "code",
   "execution_count": 19,
   "id": "d0b6ce2b-eae8-4788-8026-ce50a2beb78d",
   "metadata": {},
   "outputs": [],
   "source": [
    "# cover.size"
   ]
  },
  {
   "cell_type": "code",
   "execution_count": 21,
   "id": "0ac1e4d1-2412-4e77-8ec1-ecb8e21c0670",
   "metadata": {},
   "outputs": [],
   "source": [
    "# cover.putalpha(128)"
   ]
  },
  {
   "cell_type": "code",
   "execution_count": 25,
   "id": "06de709d-0654-40d4-a191-702f84a682ef",
   "metadata": {},
   "outputs": [],
   "source": [
    "# links.paste(cover,(0,0),cover)"
   ]
  },
  {
   "cell_type": "code",
   "execution_count": 27,
   "id": "179387a2-53ea-423b-966d-dcd60c5cca03",
   "metadata": {},
   "outputs": [],
   "source": [
    "# links"
   ]
  },
  {
   "cell_type": "code",
   "execution_count": null,
   "id": "1950f659-ad2f-45f3-b9cd-7d150053f074",
   "metadata": {},
   "outputs": [],
   "source": [
    "'https://goo.gl/LDo5Nt'"
   ]
  }
 ],
 "metadata": {
  "kernelspec": {
   "display_name": "Python [conda env:base] *",
   "language": "python",
   "name": "conda-base-py"
  },
  "language_info": {
   "codemirror_mode": {
    "name": "ipython",
    "version": 3
   },
   "file_extension": ".py",
   "mimetype": "text/x-python",
   "name": "python",
   "nbconvert_exporter": "python",
   "pygments_lexer": "ipython3",
   "version": "3.12.7"
  }
 },
 "nbformat": 4,
 "nbformat_minor": 5
}
