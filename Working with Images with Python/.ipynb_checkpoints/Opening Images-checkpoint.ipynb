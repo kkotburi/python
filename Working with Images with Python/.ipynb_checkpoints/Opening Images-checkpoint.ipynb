{
 "cells": [
  {
   "cell_type": "code",
   "execution_count": 2,
   "id": "24c29a1d-f8ef-4380-ab1e-f0c1184d289a",
   "metadata": {},
   "outputs": [],
   "source": [
    "from PIL import Image"
   ]
  },
  {
   "cell_type": "code",
   "execution_count": 4,
   "id": "f5b1d377-6e76-4678-b090-7281ee8982af",
   "metadata": {},
   "outputs": [
    {
     "ename": "FileNotFoundError",
     "evalue": "[Errno 2] No such file or directory: 'C:\\\\Users\\\\user\\\\Desktop\\\\20250123 python\\\\Working with Images with Python\\\\example.jpg'",
     "output_type": "error",
     "traceback": [
      "\u001b[1;31m---------------------------------------------------------------------------\u001b[0m",
      "\u001b[1;31mFileNotFoundError\u001b[0m                         Traceback (most recent call last)",
      "Cell \u001b[1;32mIn[4], line 1\u001b[0m\n\u001b[1;32m----> 1\u001b[0m mac \u001b[38;5;241m=\u001b[39m Image\u001b[38;5;241m.\u001b[39mopen(\u001b[38;5;124m'\u001b[39m\u001b[38;5;124mexample.jpg\u001b[39m\u001b[38;5;124m'\u001b[39m)\n",
      "File \u001b[1;32m~\\anaconda3\\Lib\\site-packages\\PIL\\Image.py:3431\u001b[0m, in \u001b[0;36mopen\u001b[1;34m(fp, mode, formats)\u001b[0m\n\u001b[0;32m   3428\u001b[0m     filename \u001b[38;5;241m=\u001b[39m os\u001b[38;5;241m.\u001b[39mpath\u001b[38;5;241m.\u001b[39mrealpath(os\u001b[38;5;241m.\u001b[39mfspath(fp))\n\u001b[0;32m   3430\u001b[0m \u001b[38;5;28;01mif\u001b[39;00m filename:\n\u001b[1;32m-> 3431\u001b[0m     fp \u001b[38;5;241m=\u001b[39m builtins\u001b[38;5;241m.\u001b[39mopen(filename, \u001b[38;5;124m\"\u001b[39m\u001b[38;5;124mrb\u001b[39m\u001b[38;5;124m\"\u001b[39m)\n\u001b[0;32m   3432\u001b[0m     exclusive_fp \u001b[38;5;241m=\u001b[39m \u001b[38;5;28;01mTrue\u001b[39;00m\n\u001b[0;32m   3433\u001b[0m \u001b[38;5;28;01melse\u001b[39;00m:\n",
      "\u001b[1;31mFileNotFoundError\u001b[0m: [Errno 2] No such file or directory: 'C:\\\\Users\\\\user\\\\Desktop\\\\20250123 python\\\\Working with Images with Python\\\\example.jpg'"
     ]
    }
   ],
   "source": [
    "mac = Image.open('example.jpg')"
   ]
  },
  {
   "cell_type": "code",
   "execution_count": 6,
   "id": "f928a338-b2d9-4db2-91ef-b9e798e61628",
   "metadata": {},
   "outputs": [],
   "source": [
    "# mac.size"
   ]
  },
  {
   "cell_type": "code",
   "execution_count": 8,
   "id": "d66d8338-de08-428c-9b31-384e56b8343f",
   "metadata": {},
   "outputs": [],
   "source": [
    "# mac.filename"
   ]
  },
  {
   "cell_type": "code",
   "execution_count": 1,
   "id": "eef5214a-8f8f-451a-98ba-b4024e57a8e0",
   "metadata": {},
   "outputs": [],
   "source": [
    "# mac.format_description"
   ]
  },
  {
   "cell_type": "code",
   "execution_count": null,
   "id": "3cff2df6-2d09-4e49-a81a-3f2ae5383f98",
   "metadata": {},
   "outputs": [],
   "source": []
  },
  {
   "cell_type": "code",
   "execution_count": 4,
   "id": "4cf1eac0-3e8e-43e1-b870-946a3fca6d93",
   "metadata": {},
   "outputs": [],
   "source": [
    "# Cropping Images"
   ]
  },
  {
   "cell_type": "code",
   "execution_count": 8,
   "id": "1622f1dd-990a-49ff-b89f-199f63fe4342",
   "metadata": {},
   "outputs": [],
   "source": [
    "# mac.crop((0,0,100,100))"
   ]
  },
  {
   "cell_type": "code",
   "execution_count": 10,
   "id": "c77da330-4bbe-4af3-ad0b-c56daff3933c",
   "metadata": {},
   "outputs": [],
   "source": [
    "# pencils = Image.open('pencils.jpg')"
   ]
  },
  {
   "cell_type": "code",
   "execution_count": 12,
   "id": "c147ee4f-3dd3-405f-8387-fdcdd3891b5b",
   "metadata": {},
   "outputs": [],
   "source": [
    "# pencils"
   ]
  },
  {
   "cell_type": "code",
   "execution_count": 14,
   "id": "cf5861f1-370d-4226-896a-d97b2feca85c",
   "metadata": {},
   "outputs": [],
   "source": [
    "# pencils.size"
   ]
  },
  {
   "cell_type": "code",
   "execution_count": 20,
   "id": "2983b02e-d109-4abb-b2b7-d402bc498e7c",
   "metadata": {},
   "outputs": [],
   "source": [
    "x = 0\n",
    "y = 1100\n",
    "\n",
    "w = 1950 / 3\n",
    "h = 1300"
   ]
  },
  {
   "cell_type": "code",
   "execution_count": 22,
   "id": "8f63944c-e64f-4601-88e0-0b42fbb82afd",
   "metadata": {},
   "outputs": [],
   "source": [
    "# pencils.crop((x,y,w,h)))"
   ]
  },
  {
   "cell_type": "code",
   "execution_count": 24,
   "id": "965f3d70-5da8-4291-b274-7285773eeb35",
   "metadata": {},
   "outputs": [],
   "source": [
    "# mac"
   ]
  },
  {
   "cell_type": "code",
   "execution_count": 26,
   "id": "2861fb43-6cca-4bfd-beb3-3a45b89dd0a4",
   "metadata": {},
   "outputs": [],
   "source": [
    "# mac.size"
   ]
  },
  {
   "cell_type": "code",
   "execution_count": 32,
   "id": "2374b1b7-0a14-429a-b9fb-abe1ce24e074",
   "metadata": {},
   "outputs": [],
   "source": [
    "halfway = 1993/2"
   ]
  },
  {
   "cell_type": "code",
   "execution_count": 36,
   "id": "11eff7a6-f373-4578-9008-bbd3175f2300",
   "metadata": {},
   "outputs": [],
   "source": [
    "x = halfway - 200\n",
    "y = halfway + 200"
   ]
  },
  {
   "cell_type": "code",
   "execution_count": 38,
   "id": "85813b2e-91b9-4797-a2c3-3c0a08149083",
   "metadata": {},
   "outputs": [],
   "source": [
    "y = 800\n",
    "h = 1257"
   ]
  },
  {
   "cell_type": "code",
   "execution_count": 40,
   "id": "191ecec7-8010-44e3-b9ff-2f5b06dc6346",
   "metadata": {},
   "outputs": [],
   "source": [
    "# mac.crop((x,y,w,h))"
   ]
  },
  {
   "cell_type": "code",
   "execution_count": 44,
   "id": "9b5aa20e-bd74-4a5f-b178-2f1e86be898d",
   "metadata": {},
   "outputs": [],
   "source": [
    "# computer = mac.crop((x,y,w,h))"
   ]
  },
  {
   "cell_type": "code",
   "execution_count": 46,
   "id": "913cadbd-57d9-44c4-ae45-d1cf646e6acf",
   "metadata": {},
   "outputs": [],
   "source": [
    "# mac.paste(im=computer,box=(0,0))"
   ]
  },
  {
   "cell_type": "code",
   "execution_count": 48,
   "id": "28c203c8-580e-4df4-8edb-fe7793d2e255",
   "metadata": {},
   "outputs": [],
   "source": [
    "# mac"
   ]
  },
  {
   "cell_type": "code",
   "execution_count": 50,
   "id": "5fed3668-7849-40bc-979c-9fd5d796ab2b",
   "metadata": {},
   "outputs": [],
   "source": [
    "# mac.size"
   ]
  },
  {
   "cell_type": "code",
   "execution_count": 54,
   "id": "4f582045-67b3-4f7c-b3a8-62e88ce8fe59",
   "metadata": {},
   "outputs": [],
   "source": [
    "# mac.resize((3000,500))"
   ]
  },
  {
   "cell_type": "code",
   "execution_count": 56,
   "id": "37b1c491-b970-4763-9d28-f9e934a95eb5",
   "metadata": {},
   "outputs": [],
   "source": [
    "# mac.rotate(90)"
   ]
  },
  {
   "cell_type": "code",
   "execution_count": null,
   "id": "e2492950-14e6-4973-97d9-d6d9a967e4f4",
   "metadata": {},
   "outputs": [],
   "source": []
  }
 ],
 "metadata": {
  "kernelspec": {
   "display_name": "Python [conda env:base] *",
   "language": "python",
   "name": "conda-base-py"
  },
  "language_info": {
   "codemirror_mode": {
    "name": "ipython",
    "version": 3
   },
   "file_extension": ".py",
   "mimetype": "text/x-python",
   "name": "python",
   "nbconvert_exporter": "python",
   "pygments_lexer": "ipython3",
   "version": "3.12.7"
  }
 },
 "nbformat": 4,
 "nbformat_minor": 5
}
