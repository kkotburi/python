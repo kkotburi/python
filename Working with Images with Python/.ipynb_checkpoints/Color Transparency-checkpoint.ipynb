{
 "cells": [
  {
   "cell_type": "code",
   "execution_count": 5,
   "id": "0ee4e66a-756d-4459-8cae-74c75ec63e59",
   "metadata": {},
   "outputs": [],
   "source": [
    "# red = Image.open('red_color.jpg')"
   ]
  },
  {
   "cell_type": "code",
   "execution_count": 7,
   "id": "2b637f1f-7019-43ad-bf73-0057c5836637",
   "metadata": {},
   "outputs": [],
   "source": [
    "# red"
   ]
  },
  {
   "cell_type": "code",
   "execution_count": 9,
   "id": "75b24527-ec07-4e8b-afbe-0a2a0b792470",
   "metadata": {},
   "outputs": [],
   "source": [
    "# blue = Image.open('blue_color.png')"
   ]
  },
  {
   "cell_type": "code",
   "execution_count": 15,
   "id": "4c228718-6d0a-4ed5-9c9b-c77429f02042",
   "metadata": {},
   "outputs": [],
   "source": [
    "# blue.putalpha(0)"
   ]
  },
  {
   "cell_type": "code",
   "execution_count": 17,
   "id": "d31a5656-595f-4145-ad65-d6653cd623ed",
   "metadata": {},
   "outputs": [],
   "source": [
    "# blue"
   ]
  },
  {
   "cell_type": "code",
   "execution_count": 19,
   "id": "102bada8-b685-45ba-b953-4ffbc127ae9d",
   "metadata": {},
   "outputs": [],
   "source": [
    "# red.putalpha(128)"
   ]
  },
  {
   "cell_type": "code",
   "execution_count": 23,
   "id": "613b7381-4b15-4e0f-a0c5-409bff92665b",
   "metadata": {},
   "outputs": [],
   "source": [
    "# blue.paste(im=red,box=(0,0),mask=red)"
   ]
  }
 ],
 "metadata": {
  "kernelspec": {
   "display_name": "Python [conda env:base] *",
   "language": "python",
   "name": "conda-base-py"
  },
  "language_info": {
   "codemirror_mode": {
    "name": "ipython",
    "version": 3
   },
   "file_extension": ".py",
   "mimetype": "text/x-python",
   "name": "python",
   "nbconvert_exporter": "python",
   "pygments_lexer": "ipython3",
   "version": "3.12.7"
  }
 },
 "nbformat": 4,
 "nbformat_minor": 5
}
