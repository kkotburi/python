{
 "cells": [
  {
   "cell_type": "code",
   "execution_count": 1,
   "id": "c20120db-a2a2-4555-8598-bf0682f64b13",
   "metadata": {},
   "outputs": [],
   "source": [
    "import bs4"
   ]
  },
  {
   "cell_type": "code",
   "execution_count": 3,
   "id": "9c16c3a6-0b0a-48c9-b9eb-caf6f423d70a",
   "metadata": {},
   "outputs": [],
   "source": [
    "import requests"
   ]
  },
  {
   "cell_type": "code",
   "execution_count": 5,
   "id": "221212be-e18f-44e9-8daf-f0b856c9725e",
   "metadata": {},
   "outputs": [],
   "source": [
    "res = requests.get('https://www.thegoldbugs.com/blog')"
   ]
  },
  {
   "cell_type": "code",
   "execution_count": 7,
   "id": "5e353bed-499c-4689-ac64-18f0fe6c6ff4",
   "metadata": {},
   "outputs": [],
   "source": [
    "soup = bs4.BeautifulSoup(res.text,'lxml')"
   ]
  },
  {
   "cell_type": "code",
   "execution_count": 15,
   "id": "110a6c3a-e8ed-49c6-8235-8e5597191741",
   "metadata": {},
   "outputs": [],
   "source": [
    "blog = soup.select('pre')"
   ]
  },
  {
   "cell_type": "code",
   "execution_count": 17,
   "id": "b07ea243-f42c-4ae2-ba6b-767cdc097ab3",
   "metadata": {},
   "outputs": [],
   "source": [
    "text = blog[0]"
   ]
  },
  {
   "cell_type": "code",
   "execution_count": 21,
   "id": "abecd882-b14b-44d1-9f3f-bc3701fb82ac",
   "metadata": {},
   "outputs": [
    {
     "data": {
      "text/plain": [
       "bs4.element.Tag"
      ]
     },
     "execution_count": 21,
     "metadata": {},
     "output_type": "execute_result"
    }
   ],
   "source": [
    "type(text)"
   ]
  },
  {
   "cell_type": "code",
   "execution_count": 27,
   "id": "0522794a-4fa6-491f-b10c-cde7993ee139",
   "metadata": {},
   "outputs": [],
   "source": [
    "blog_text = text.contents[0]"
   ]
  },
  {
   "cell_type": "code",
   "execution_count": 36,
   "id": "b3a125bb-bcf9-452f-9001-f899c75189c8",
   "metadata": {},
   "outputs": [],
   "source": [
    "blog_lines = blog_text.split('-----')[1:]"
   ]
  },
  {
   "cell_type": "code",
   "execution_count": 38,
   "id": "240790ac-477a-4e96-8ca3-87088ce1444e",
   "metadata": {},
   "outputs": [],
   "source": [
    "result = ''\n",
    "\n",
    "for sentence in blog_lines:\n",
    "    result = result + sentence[0]"
   ]
  },
  {
   "cell_type": "code",
   "execution_count": 40,
   "id": "4e9dca7a-cc63-42d0-ab72-c3129bff4254",
   "metadata": {},
   "outputs": [
    {
     "data": {
      "text/plain": [
       "'https://drive.google.com/open?id=1k4uU9l6G19Q4hPwmjHsNLdPvnKs7YjNoxJLkT5Oy4u4'"
      ]
     },
     "execution_count": 40,
     "metadata": {},
     "output_type": "execute_result"
    }
   ],
   "source": [
    "result"
   ]
  },
  {
   "cell_type": "code",
   "execution_count": null,
   "id": "9ab7ac14-78dc-4456-8e91-59dd8a98e114",
   "metadata": {},
   "outputs": [],
   "source": []
  }
 ],
 "metadata": {
  "kernelspec": {
   "display_name": "Python [conda env:base] *",
   "language": "python",
   "name": "conda-base-py"
  },
  "language_info": {
   "codemirror_mode": {
    "name": "ipython",
    "version": 3
   },
   "file_extension": ".py",
   "mimetype": "text/x-python",
   "name": "python",
   "nbconvert_exporter": "python",
   "pygments_lexer": "ipython3",
   "version": "3.12.7"
  }
 },
 "nbformat": 4,
 "nbformat_minor": 5
}
