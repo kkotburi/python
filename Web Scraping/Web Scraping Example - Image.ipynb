{
 "cells": [
  {
   "cell_type": "code",
   "execution_count": 1,
   "id": "43c074a6-ef80-4dd2-b107-5d15e19a64fc",
   "metadata": {},
   "outputs": [],
   "source": [
    "import requests"
   ]
  },
  {
   "cell_type": "code",
   "execution_count": 3,
   "id": "a9e26976-4a10-4da1-9995-82bc03e62925",
   "metadata": {},
   "outputs": [],
   "source": [
    "res = requests.get('https://ko.wikipedia.org/wiki/Cicada_3301')"
   ]
  },
  {
   "cell_type": "code",
   "execution_count": 5,
   "id": "f1fadcbe-e330-4808-b9b5-b012e16ce164",
   "metadata": {},
   "outputs": [],
   "source": [
    "import bs4"
   ]
  },
  {
   "cell_type": "code",
   "execution_count": 7,
   "id": "54dfe98f-7a92-4e32-8c20-2d273d05bc8c",
   "metadata": {},
   "outputs": [],
   "source": [
    "soup = bs4.BeautifulSoup(res.text, 'lxml')"
   ]
  },
  {
   "cell_type": "code",
   "execution_count": 13,
   "id": "f7a84405-e240-44fa-8805-339b4bebe4ec",
   "metadata": {},
   "outputs": [],
   "source": [
    "image_info = soup.select('.mw-file-element')"
   ]
  },
  {
   "cell_type": "code",
   "execution_count": 15,
   "id": "8880836b-6323-4337-8214-81a42a95453f",
   "metadata": {},
   "outputs": [
    {
     "data": {
      "text/plain": [
       "bs4.element.ResultSet"
      ]
     },
     "execution_count": 15,
     "metadata": {},
     "output_type": "execute_result"
    }
   ],
   "source": [
    "type(image_info)"
   ]
  },
  {
   "cell_type": "code",
   "execution_count": 17,
   "id": "c8c9618a-68ef-429f-bcde-d1ffab7847d2",
   "metadata": {},
   "outputs": [
    {
     "data": {
      "text/plain": [
       "2"
      ]
     },
     "execution_count": 17,
     "metadata": {},
     "output_type": "execute_result"
    }
   ],
   "source": [
    "len(image_info)"
   ]
  },
  {
   "cell_type": "code",
   "execution_count": 27,
   "id": "2a33f0a6-cedc-4b5a-892d-540a31a14bb1",
   "metadata": {},
   "outputs": [],
   "source": [
    "cicada = image_info[1]"
   ]
  },
  {
   "cell_type": "code",
   "execution_count": 36,
   "id": "9159e2a7-f290-4ecd-81d7-dfcdcc498ec2",
   "metadata": {},
   "outputs": [
    {
     "data": {
      "text/plain": [
       "'//upload.wikimedia.org/wikipedia/ko/thumb/7/7e/Cicada_3301_logo.jpg/220px-Cicada_3301_logo.jpg'"
      ]
     },
     "execution_count": 36,
     "metadata": {},
     "output_type": "execute_result"
    }
   ],
   "source": [
    "cicada['src']"
   ]
  },
  {
   "cell_type": "code",
   "execution_count": 40,
   "id": "aad804b8-e431-4a0d-a963-9b5433eb6a37",
   "metadata": {},
   "outputs": [],
   "source": [
    "image_link = 'http:' + cicada['src']"
   ]
  },
  {
   "cell_type": "code",
   "execution_count": 42,
   "id": "ad3566ab-c038-4944-80b6-8d5e04ccd49f",
   "metadata": {},
   "outputs": [
    {
     "data": {
      "text/plain": [
       "'http://upload.wikimedia.org/wikipedia/ko/thumb/7/7e/Cicada_3301_logo.jpg/220px-Cicada_3301_logo.jpg'"
      ]
     },
     "execution_count": 42,
     "metadata": {},
     "output_type": "execute_result"
    }
   ],
   "source": [
    "image_link"
   ]
  },
  {
   "cell_type": "code",
   "execution_count": 44,
   "id": "39aad051-4e2c-408f-8d67-16d89687d412",
   "metadata": {},
   "outputs": [],
   "source": [
    "cicada_image = requests.get(image_link,'lxml')"
   ]
  },
  {
   "cell_type": "code",
   "execution_count": 50,
   "id": "8a2bca08-a079-447a-85d7-2087c76378a9",
   "metadata": {},
   "outputs": [],
   "source": [
    "# cicada_image.content"
   ]
  },
  {
   "cell_type": "code",
   "execution_count": 52,
   "id": "7a36f04a-3c77-48bb-96d6-abc1702d7c4c",
   "metadata": {},
   "outputs": [],
   "source": [
    "f = open('cicada_image_new.jpg','wb')"
   ]
  },
  {
   "cell_type": "code",
   "execution_count": 54,
   "id": "222f4ad5-bf93-4b52-be1f-01ffa1ad69ea",
   "metadata": {},
   "outputs": [
    {
     "data": {
      "text/plain": [
       "6531"
      ]
     },
     "execution_count": 54,
     "metadata": {},
     "output_type": "execute_result"
    }
   ],
   "source": [
    "f.write(cicada_image.content)"
   ]
  },
  {
   "cell_type": "code",
   "execution_count": 56,
   "id": "90ee1bcd-6b2c-427f-93f7-1466321fd3ae",
   "metadata": {},
   "outputs": [],
   "source": [
    "f.close()"
   ]
  },
  {
   "cell_type": "markdown",
   "id": "3dfa489d-9a13-4ff4-a560-255c787e2fa0",
   "metadata": {},
   "source": [
    "<img src='cicada_image_new.jpg'>"
   ]
  },
  {
   "cell_type": "code",
   "execution_count": 59,
   "id": "6875f0b8-bf1e-4295-ad09-d2438af75f60",
   "metadata": {},
   "outputs": [
    {
     "data": {
      "text/plain": [
       "'C:\\\\Users\\\\user\\\\Desktop\\\\20250123 python\\\\Web Scraping'"
      ]
     },
     "execution_count": 59,
     "metadata": {},
     "output_type": "execute_result"
    }
   ],
   "source": [
    "pwd"
   ]
  },
  {
   "cell_type": "code",
   "execution_count": null,
   "id": "3d0ba86d-2c5a-49e2-9699-ab424c66e219",
   "metadata": {},
   "outputs": [],
   "source": []
  }
 ],
 "metadata": {
  "kernelspec": {
   "display_name": "Python [conda env:base] *",
   "language": "python",
   "name": "conda-base-py"
  },
  "language_info": {
   "codemirror_mode": {
    "name": "ipython",
    "version": 3
   },
   "file_extension": ".py",
   "mimetype": "text/x-python",
   "name": "python",
   "nbconvert_exporter": "python",
   "pygments_lexer": "ipython3",
   "version": "3.12.7"
  }
 },
 "nbformat": 4,
 "nbformat_minor": 5
}
