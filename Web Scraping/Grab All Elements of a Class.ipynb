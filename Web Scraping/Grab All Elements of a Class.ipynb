{
 "cells": [
  {
   "cell_type": "code",
   "execution_count": 5,
   "id": "fbac5c10-8659-4b62-a02d-9700cc5c128f",
   "metadata": {},
   "outputs": [],
   "source": [
    "import requests"
   ]
  },
  {
   "cell_type": "code",
   "execution_count": 17,
   "id": "de805049-a8c3-47d8-88cd-2d5f0f89a4a1",
   "metadata": {},
   "outputs": [],
   "source": [
    "res = requests.get('https://en.wikipedia.org/wiki/Room_641A')"
   ]
  },
  {
   "cell_type": "code",
   "execution_count": 18,
   "id": "a6209bd1-be3a-46dd-93c4-e358f1240481",
   "metadata": {},
   "outputs": [],
   "source": [
    "import bs4"
   ]
  },
  {
   "cell_type": "code",
   "execution_count": 31,
   "id": "3435c921-a59e-4a75-b053-8c5dca8effd4",
   "metadata": {},
   "outputs": [],
   "source": [
    "soup = bs4.BeautifulSoup(res.text,'lxml')"
   ]
  },
  {
   "cell_type": "code",
   "execution_count": 45,
   "id": "029d34d9-334f-4bfc-b15b-6a24b8d624ec",
   "metadata": {},
   "outputs": [
    {
     "name": "stdout",
     "output_type": "stream",
     "text": [
      "Description[edit]\n",
      "Lawsuits[edit]\n",
      "Gallery[edit]\n",
      "See also[edit]\n",
      "References[edit]\n",
      "External links[edit]\n"
     ]
    }
   ],
   "source": [
    "for item in soup.select('.mw-heading'):\n",
    "    print(item.text)"
   ]
  },
  {
   "cell_type": "code",
   "execution_count": 35,
   "id": "44151aa7-1cb6-468a-8b5c-2cfeec24cb12",
   "metadata": {},
   "outputs": [
    {
     "data": {
      "text/plain": [
       "[<h2 class=\"vector-pinnable-header-label\">Contents</h2>,\n",
       " <h2 id=\"Description\">Description</h2>,\n",
       " <h2 id=\"Lawsuits\">Lawsuits</h2>,\n",
       " <h2 id=\"Gallery\">Gallery</h2>,\n",
       " <h2 id=\"See_also\">See also</h2>,\n",
       " <h2 id=\"References\">References</h2>,\n",
       " <h2 id=\"External_links\">External links</h2>]"
      ]
     },
     "execution_count": 35,
     "metadata": {},
     "output_type": "execute_result"
    }
   ],
   "source": [
    "soup.select('h2')"
   ]
  },
  {
   "cell_type": "code",
   "execution_count": null,
   "id": "44a2ce73-7ea7-4528-bf93-903bcbdad584",
   "metadata": {},
   "outputs": [],
   "source": []
  }
 ],
 "metadata": {
  "kernelspec": {
   "display_name": "Python [conda env:base] *",
   "language": "python",
   "name": "conda-base-py"
  },
  "language_info": {
   "codemirror_mode": {
    "name": "ipython",
    "version": 3
   },
   "file_extension": ".py",
   "mimetype": "text/x-python",
   "name": "python",
   "nbconvert_exporter": "python",
   "pygments_lexer": "ipython3",
   "version": "3.12.7"
  }
 },
 "nbformat": 4,
 "nbformat_minor": 5
}
