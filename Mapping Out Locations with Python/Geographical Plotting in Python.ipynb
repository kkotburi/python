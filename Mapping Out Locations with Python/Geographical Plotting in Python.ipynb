{
 "cells": [
  {
   "cell_type": "code",
   "execution_count": 1,
   "id": "504935f3-2b12-4e7f-95d4-aa682b9dd190",
   "metadata": {},
   "outputs": [],
   "source": [
    "import csv"
   ]
  },
  {
   "cell_type": "code",
   "execution_count": 7,
   "id": "ed48e2fc-35a1-423e-ad09-ed11d6084dc1",
   "metadata": {},
   "outputs": [],
   "source": [
    "# with open('countries.csv') as f:\n",
    "\n",
    "#     file = csv.reader(f)\n",
    "\n",
    "#     for row in file:\n",
    "#         print(row)"
   ]
  },
  {
   "cell_type": "code",
   "execution_count": 11,
   "id": "2e922b49-26ab-4951-aa88-52417338ccaa",
   "metadata": {},
   "outputs": [],
   "source": [
    "# lats = []\n",
    "# long = []\n",
    "\n",
    "# with open('countries.csv') as f:\n",
    "\n",
    "#     file = csv.reader(f)\n",
    "\n",
    "#     for ab,lat,long,name in list(file)[1:]:\n",
    "\n",
    "#         lats.append(float(lat))\n",
    "#         longs.append(float(long))"
   ]
  },
  {
   "cell_type": "code",
   "execution_count": 13,
   "id": "5cec92ae-96fe-42fd-82af-fe2d53eb6313",
   "metadata": {},
   "outputs": [],
   "source": [
    "# long"
   ]
  },
  {
   "cell_type": "code",
   "execution_count": 15,
   "id": "bf02a42f-432b-45f4-8772-a0eedcc4fc73",
   "metadata": {},
   "outputs": [],
   "source": [
    "from bokeh.io import output_file, show"
   ]
  },
  {
   "cell_type": "code",
   "execution_count": 33,
   "id": "8fff7469-5e0f-475e-989f-fb617e78591d",
   "metadata": {},
   "outputs": [],
   "source": [
    "from bokeh.models import (GMapPlot , GMapOptions , ColumnDataSource , Circle,\n",
    "                        Range1d , PanTool , WheelZoomTool , BoxSelectTool)"
   ]
  },
  {
   "cell_type": "code",
   "execution_count": 35,
   "id": "18a0f0ca-9f53-4fef-a196-7b0669ad9f04",
   "metadata": {},
   "outputs": [],
   "source": [
    "map_options = GMapOptions(lat=0 , lng=0 , zoom=3)"
   ]
  },
  {
   "cell_type": "code",
   "execution_count": 37,
   "id": "44b8aa93-6218-4e07-9181-383c50ae2b13",
   "metadata": {},
   "outputs": [],
   "source": [
    "plot = GMapPlot(x_range = Range1d() , y_range = Range1d() , map_options = map_options)"
   ]
  },
  {
   "cell_type": "code",
   "execution_count": 39,
   "id": "3630f65d-00cf-4926-9991-0122890cac15",
   "metadata": {},
   "outputs": [],
   "source": [
    "plot.title.text = 'Example Plot'"
   ]
  },
  {
   "cell_type": "code",
   "execution_count": 43,
   "id": "1d061f40-b911-43ae-a151-e5ba166e44e6",
   "metadata": {},
   "outputs": [],
   "source": [
    "# plot.api_key = input('API KEY: ')"
   ]
  },
  {
   "cell_type": "code",
   "execution_count": 53,
   "id": "ac9ef592-89f3-433c-a831-e88bf56efb1f",
   "metadata": {},
   "outputs": [
    {
     "ename": "NameError",
     "evalue": "name 'longs' is not defined",
     "output_type": "error",
     "traceback": [
      "\u001b[1;31m---------------------------------------------------------------------------\u001b[0m",
      "\u001b[1;31mNameError\u001b[0m                                 Traceback (most recent call last)",
      "Cell \u001b[1;32mIn[53], line 1\u001b[0m\n\u001b[1;32m----> 1\u001b[0m sourc \u001b[38;5;241m=\u001b[39m ColumnDataSource(data\u001b[38;5;241m=\u001b[39m\u001b[38;5;28mdict\u001b[39m(lat\u001b[38;5;241m=\u001b[39mlats,lon\u001b[38;5;241m=\u001b[39mlongs))\n\u001b[0;32m      3\u001b[0m circle \u001b[38;5;241m=\u001b[39m Circle(x\u001b[38;5;241m=\u001b[39m\u001b[38;5;124m'\u001b[39m\u001b[38;5;124mlon\u001b[39m\u001b[38;5;124m'\u001b[39m,y\u001b[38;5;241m=\u001b[39m\u001b[38;5;124m'\u001b[39m\u001b[38;5;124mlat\u001b[39m\u001b[38;5;124m'\u001b[39m,size\u001b[38;5;241m=\u001b[39m\u001b[38;5;241m15\u001b[39m,fill_color\u001b[38;5;241m=\u001b[39m\u001b[38;5;124m'\u001b[39m\u001b[38;5;124mred\u001b[39m\u001b[38;5;124m'\u001b[39m,fill_alpha\u001b[38;5;241m=\u001b[39m\u001b[38;5;241m0.6\u001b[39m)\n\u001b[0;32m      5\u001b[0m plot\u001b[38;5;241m.\u001b[39madd_glyph(source,circle)\n",
      "\u001b[1;31mNameError\u001b[0m: name 'longs' is not defined"
     ]
    }
   ],
   "source": [
    "sourc = ColumnDataSource(data=dict(lat=lats,lon=longs))\n",
    "\n",
    "circle = Circle(x='lon',y='lat',size=15,fill_color='red',fill_alpha=0.6)\n",
    "\n",
    "plot.add_glyph(source,circle)\n",
    "\n",
    "plot.add_tools(PanTool(),WheelZoomTool(),BoxSelectTool())\n",
    "\n",
    "output_file('my_example_gmap_plat.html')\n",
    "show(plot)"
   ]
  },
  {
   "cell_type": "code",
   "execution_count": null,
   "id": "2e2a4af7-8c21-402b-8479-04e3fdce9e33",
   "metadata": {},
   "outputs": [],
   "source": [
    " "
   ]
  }
 ],
 "metadata": {
  "kernelspec": {
   "display_name": "Python [conda env:base] *",
   "language": "python",
   "name": "conda-base-py"
  },
  "language_info": {
   "codemirror_mode": {
    "name": "ipython",
    "version": 3
   },
   "file_extension": ".py",
   "mimetype": "text/x-python",
   "name": "python",
   "nbconvert_exporter": "python",
   "pygments_lexer": "ipython3",
   "version": "3.12.7"
  }
 },
 "nbformat": 4,
 "nbformat_minor": 5
}
