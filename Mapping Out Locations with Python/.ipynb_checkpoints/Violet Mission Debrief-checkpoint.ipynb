{
 "cells": [
  {
   "cell_type": "code",
   "execution_count": 1,
   "id": "d060bb2e-e5aa-4842-93db-c8ca99afb4bb",
   "metadata": {},
   "outputs": [],
   "source": [
    "import re"
   ]
  },
  {
   "cell_type": "code",
   "execution_count": 7,
   "id": "a1610a92-658d-4a4f-babd-b68631b41aab",
   "metadata": {},
   "outputs": [],
   "source": [
    "# f = open('message_new_pen.txt')"
   ]
  },
  {
   "cell_type": "code",
   "execution_count": 9,
   "id": "2267e5df-417e-434a-bff6-234d2001ef92",
   "metadata": {},
   "outputs": [],
   "source": [
    "# text = f.read()"
   ]
  },
  {
   "cell_type": "code",
   "execution_count": 11,
   "id": "79ccc8b1-567e-4610-ac1d-1aa38273db5d",
   "metadata": {},
   "outputs": [],
   "source": [
    "# text"
   ]
  },
  {
   "cell_type": "code",
   "execution_count": 13,
   "id": "148c466e-5284-4a04-baf4-d0c89cbedd9f",
   "metadata": {},
   "outputs": [],
   "source": [
    "pattern = r'[\\d]+.[\\d]+,-[\\d]+.[\\d]+'"
   ]
  },
  {
   "cell_type": "code",
   "execution_count": 19,
   "id": "d12b7134-6c40-4480-9316-c0e64dcb565e",
   "metadata": {},
   "outputs": [],
   "source": [
    "# results = re.findall(pattern,text)"
   ]
  },
  {
   "cell_type": "code",
   "execution_count": 21,
   "id": "f8373eb4-0bdb-4980-8d6d-7419ba66b185",
   "metadata": {},
   "outputs": [],
   "source": [
    "# results"
   ]
  },
  {
   "cell_type": "code",
   "execution_count": 23,
   "id": "691d55dd-de7e-4f07-a01b-926b7a1b4cae",
   "metadata": {},
   "outputs": [],
   "source": [
    "# results[0].split(',')"
   ]
  },
  {
   "cell_type": "code",
   "execution_count": 27,
   "id": "341f59c6-5f7b-4259-9ad4-766db69a9311",
   "metadata": {},
   "outputs": [],
   "source": [
    "# lats = []\n",
    "# longs = []\n",
    "\n",
    "# for s in results:\n",
    "\n",
    "#     lat,ling = s.split(',')\n",
    "#     lat.append(float(lat))\n",
    "#     longs.append(float(long))"
   ]
  },
  {
   "cell_type": "code",
   "execution_count": 29,
   "id": "ec099c30-7a7c-4dcd-ab99-1e2386d09b56",
   "metadata": {},
   "outputs": [],
   "source": [
    " # longs"
   ]
  },
  {
   "cell_type": "code",
   "execution_count": 31,
   "id": "10e7c16f-e049-40be-9ec2-5effd77e4275",
   "metadata": {},
   "outputs": [],
   "source": [
    "from bokeh.io import output_file, show"
   ]
  },
  {
   "cell_type": "code",
   "execution_count": 33,
   "id": "e72bf76e-8445-4047-99f3-d9e6bff37405",
   "metadata": {},
   "outputs": [],
   "source": [
    "from bokeh.models import (GMapPlot, GMapOptions, ColumnDataSource, Circle, Range1d, PanTool, WheelZoomTool, BoxSelectTool)"
   ]
  },
  {
   "cell_type": "code",
   "execution_count": 35,
   "id": "67501766-c93d-4e44-ba40-d5b3c60f9010",
   "metadata": {},
   "outputs": [],
   "source": [
    "map_options = GMapOptions(lat=0,lng=0,zoom=3)"
   ]
  },
  {
   "cell_type": "code",
   "execution_count": 47,
   "id": "58276593-ba22-42e1-8c0c-0dc38b1f33b1",
   "metadata": {},
   "outputs": [],
   "source": [
    "plot = GMapPlot(x_range=Range1d(),y_range=Range1d(),map_options=map_options)"
   ]
  },
  {
   "cell_type": "code",
   "execution_count": 49,
   "id": "3c5c5a7e-5ed4-457d-a6a9-aafeb998e0a4",
   "metadata": {},
   "outputs": [],
   "source": [
    "plot.title.text = 'The key'"
   ]
  },
  {
   "cell_type": "code",
   "execution_count": 45,
   "id": "49b4e1b5-f553-45f6-b194-008fde17fe2c",
   "metadata": {},
   "outputs": [],
   "source": [
    "# plot.api_key = input('API key:')"
   ]
  },
  {
   "cell_type": "code",
   "execution_count": 55,
   "id": "73548a9c-0c40-41dd-a2df-b6b222d497ba",
   "metadata": {},
   "outputs": [],
   "source": [
    "# source = ColumnDataSource(data=dict(lat=lats,lon=longs))\n",
    "\n",
    "# circle = Circle(x='lon',y='lat',size=10,fill_color='red')\n",
    "\n",
    "# plot.add_glyph(source,circle)\n",
    "\n",
    "# plot.add_tools(PanTool(),WheelZoomTool(),BoxSelectTool())\n",
    "\n",
    "# output_file('gmap_plat.html')\n",
    "# show(plot)"
   ]
  },
  {
   "cell_type": "code",
   "execution_count": 57,
   "id": "3ad4dc6f-376c-481e-8429-e1a32e89ce6e",
   "metadata": {},
   "outputs": [],
   "source": [
    "import hashlib\n",
    "from cryptography.fernet import Fernet"
   ]
  },
  {
   "cell_type": "code",
   "execution_count": 59,
   "id": "dfdf3a3b-360a-4ed7-b48a-14969ca307a9",
   "metadata": {},
   "outputs": [],
   "source": [
    "keyword = b'TRUTH'"
   ]
  },
  {
   "cell_type": "code",
   "execution_count": 61,
   "id": "12e49ac0-11e2-437a-b0b4-c10ed14ed4fe",
   "metadata": {},
   "outputs": [],
   "source": [
    "key = hashlib.sha3_256(keyword)"
   ]
  },
  {
   "cell_type": "code",
   "execution_count": 63,
   "id": "0c55afaa-6d40-4bd3-95a4-c7b23b3d480e",
   "metadata": {},
   "outputs": [],
   "source": [
    "import base64"
   ]
  },
  {
   "cell_type": "code",
   "execution_count": 69,
   "id": "83856b8d-0570-40b3-a520-da1229fe3296",
   "metadata": {},
   "outputs": [],
   "source": [
    "key_bytes = key.digest()\n",
    "\n",
    "fornet_key = base64.urlsafe_b64encode(key_bytes)"
   ]
  },
  {
   "cell_type": "code",
   "execution_count": 71,
   "id": "ec4c7846-73c9-466c-8067-96526e48b2ac",
   "metadata": {},
   "outputs": [
    {
     "data": {
      "text/plain": [
       "b'FUqowv3IUS70pAPnKvV-OrbqQQ4VrykZeDP6MUAFctY='"
      ]
     },
     "execution_count": 71,
     "metadata": {},
     "output_type": "execute_result"
    }
   ],
   "source": [
    "fornet_key"
   ]
  },
  {
   "cell_type": "code",
   "execution_count": 75,
   "id": "0744c962-034c-47e4-8a40-16d252d3527b",
   "metadata": {},
   "outputs": [],
   "source": [
    "custom_cipher = Fernet(fernet_key)"
   ]
  },
  {
   "cell_type": "code",
   "execution_count": null,
   "id": "ee4bcc12-7895-442c-ba6c-85a067af2058",
   "metadata": {},
   "outputs": [],
   "source": [
    "message = "
   ]
  },
  {
   "cell_type": "code",
   "execution_count": null,
   "id": "e0386ebe-6d93-4bf7-bf28-77e46aba99de",
   "metadata": {},
   "outputs": [],
   "source": [
    "custom_cipher.decrypt(message)"
   ]
  }
 ],
 "metadata": {
  "kernelspec": {
   "display_name": "Python [conda env:base] *",
   "language": "python",
   "name": "conda-base-py"
  },
  "language_info": {
   "codemirror_mode": {
    "name": "ipython",
    "version": 3
   },
   "file_extension": ".py",
   "mimetype": "text/x-python",
   "name": "python",
   "nbconvert_exporter": "python",
   "pygments_lexer": "ipython3",
   "version": "3.12.7"
  }
 },
 "nbformat": 4,
 "nbformat_minor": 5
}
