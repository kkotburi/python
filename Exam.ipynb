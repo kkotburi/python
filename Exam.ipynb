{
 "cells": [
  {
   "cell_type": "code",
   "execution_count": 1,
   "id": "1f2c9ef9-0433-4d85-908f-1bb8d5bd47b4",
   "metadata": {},
   "outputs": [
    {
     "name": "stdout",
     "output_type": "stream",
     "text": [
      "['Welcome to your First Exam Recruit.\\n', 'Only the best recruits can become agents.\\n', 'Dou youy have what it takes?\\n', 'We eill test your knowledge with this field readiness exam.\\n', 'It should be pretty simple, since you only know the basics so far.\\n', \"Let's get started.\\n\", 'Best of luck recruit.']\n"
     ]
    }
   ],
   "source": [
    "myfile = open('exam.txt')\n",
    "lines = myfile.readlines()\n",
    "print(lines)"
   ]
  },
  {
   "cell_type": "code",
   "execution_count": null,
   "id": "b1707182-72d1-4502-8373-81666bf89cd4",
   "metadata": {},
   "outputs": [],
   "source": []
  }
 ],
 "metadata": {
  "kernelspec": {
   "display_name": "Python [conda env:base] *",
   "language": "python",
   "name": "conda-base-py"
  },
  "language_info": {
   "codemirror_mode": {
    "name": "ipython",
    "version": 3
   },
   "file_extension": ".py",
   "mimetype": "text/x-python",
   "name": "python",
   "nbconvert_exporter": "python",
   "pygments_lexer": "ipython3",
   "version": "3.12.7"
  }
 },
 "nbformat": 4,
 "nbformat_minor": 5
}
