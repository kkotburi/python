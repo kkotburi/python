{
 "cells": [
  {
   "cell_type": "code",
   "execution_count": 61,
   "id": "8c4876e1-95cd-4d43-a206-547b1463932b",
   "metadata": {},
   "outputs": [],
   "source": [
    "import re"
   ]
  },
  {
   "cell_type": "code",
   "execution_count": 63,
   "id": "dd3e9315-7b88-4d6f-bcb6-d9c866cc13db",
   "metadata": {},
   "outputs": [
    {
     "data": {
      "text/plain": [
       "<re.Match object; span=(4, 7), match='cat'>"
      ]
     },
     "execution_count": 63,
     "metadata": {},
     "output_type": "execute_result"
    }
   ],
   "source": [
    "re.search(r'cat|dog','The cat is here')"
   ]
  },
  {
   "cell_type": "code",
   "execution_count": 64,
   "id": "69ec3c44-7210-4833-b840-83aece5c7320",
   "metadata": {},
   "outputs": [
    {
     "data": {
      "text/plain": [
       "['e cat', 'e hat', 'splat']"
      ]
     },
     "execution_count": 64,
     "metadata": {},
     "output_type": "execute_result"
    }
   ],
   "source": [
    "re.findall(r'...at','The cat in the hat went splat.')"
   ]
  },
  {
   "cell_type": "code",
   "execution_count": 65,
   "id": "65874e67-cbe5-4868-862f-4efe1fad2c90",
   "metadata": {},
   "outputs": [
    {
     "data": {
      "text/plain": [
       "['1']"
      ]
     },
     "execution_count": 65,
     "metadata": {},
     "output_type": "execute_result"
    }
   ],
   "source": [
    "re.findall(r'^\\d','1 is a number')"
   ]
  },
  {
   "cell_type": "code",
   "execution_count": 66,
   "id": "036f7ef6-cb58-4812-b035-23c6cb475224",
   "metadata": {},
   "outputs": [
    {
     "data": {
      "text/plain": [
       "['2']"
      ]
     },
     "execution_count": 66,
     "metadata": {},
     "output_type": "execute_result"
    }
   ],
   "source": [
    "re.findall(r'\\d$','The number is 2')"
   ]
  },
  {
   "cell_type": "code",
   "execution_count": null,
   "id": "304f9bbe-4a92-4fa4-a885-dbed60663e70",
   "metadata": {},
   "outputs": [],
   "source": []
  },
  {
   "cell_type": "code",
   "execution_count": null,
   "id": "5b4d91ec-7e29-4385-9c75-736dbc0e93b3",
   "metadata": {},
   "outputs": [],
   "source": []
  },
  {
   "cell_type": "code",
   "execution_count": 69,
   "id": "064c9691-d60d-4879-ad4c-b0f906a428da",
   "metadata": {},
   "outputs": [],
   "source": [
    "phrase = 'ther are 3 numbers 34 inside 5 this sentence'"
   ]
  },
  {
   "cell_type": "code",
   "execution_count": 71,
   "id": "e455b3eb-9013-4820-b0bf-62c3aed3d260",
   "metadata": {},
   "outputs": [],
   "source": [
    "patter = r'[^\\d]+'"
   ]
  },
  {
   "cell_type": "code",
   "execution_count": 72,
   "id": "70ae7245-48c4-42f9-86a6-14e6cea597b7",
   "metadata": {},
   "outputs": [
    {
     "data": {
      "text/plain": [
       "['ther are ', ' numbers ', ' inside ', ' this sentence']"
      ]
     },
     "execution_count": 72,
     "metadata": {},
     "output_type": "execute_result"
    }
   ],
   "source": [
    "re.findall(patter,phrase)"
   ]
  },
  {
   "cell_type": "code",
   "execution_count": 74,
   "id": "9b3806c6-4a6f-4dc6-a283-7699cd23394a",
   "metadata": {},
   "outputs": [],
   "source": [
    "test_phrase = 'This is a string! But it has punctuation. How can we remove it?'"
   ]
  },
  {
   "cell_type": "code",
   "execution_count": 78,
   "id": "6eea4c5b-8197-453c-b8db-418ca07fed3e",
   "metadata": {},
   "outputs": [],
   "source": [
    "clean = re.findall(r'[^!.? ]+',test_phrase)"
   ]
  },
  {
   "cell_type": "code",
   "execution_count": 79,
   "id": "72c2bf6e-68cb-4256-988b-850683c4646a",
   "metadata": {},
   "outputs": [
    {
     "data": {
      "text/plain": [
       "'This is a string But it has punctuation How can we remove it'"
      ]
     },
     "execution_count": 79,
     "metadata": {},
     "output_type": "execute_result"
    }
   ],
   "source": [
    "' '.join(clean)"
   ]
  },
  {
   "cell_type": "code",
   "execution_count": null,
   "id": "20f493d6-8dda-4d0d-97cf-136bfb5e4c6e",
   "metadata": {},
   "outputs": [],
   "source": []
  },
  {
   "cell_type": "code",
   "execution_count": null,
   "id": "155890d7-18dc-4435-a84b-0297b32dd280",
   "metadata": {},
   "outputs": [],
   "source": []
  },
  {
   "cell_type": "code",
   "execution_count": 87,
   "id": "0ce0f014-f64b-4d32-8f90-2f3115ee8343",
   "metadata": {},
   "outputs": [],
   "source": [
    "text = 'Only find the hypen-words in this sentence. But you do not know how long-ish the are'"
   ]
  },
  {
   "cell_type": "code",
   "execution_count": 103,
   "id": "7c35511d-ce0f-4a71-93af-984408ef3e6a",
   "metadata": {},
   "outputs": [
    {
     "data": {
      "text/plain": [
       "['Only',\n",
       " 'find',\n",
       " 'the',\n",
       " 'hypen',\n",
       " 'words',\n",
       " 'in',\n",
       " 'this',\n",
       " 'sentence',\n",
       " 'But',\n",
       " 'you',\n",
       " 'do',\n",
       " 'not',\n",
       " 'know',\n",
       " 'how',\n",
       " 'long',\n",
       " 'ish',\n",
       " 'the',\n",
       " 'are']"
      ]
     },
     "execution_count": 103,
     "metadata": {},
     "output_type": "execute_result"
    }
   ],
   "source": [
    "pattern = r'[\\w]+'\n",
    "re.findall(pattern,text)"
   ]
  },
  {
   "cell_type": "code",
   "execution_count": 107,
   "id": "41e5f953-a3f8-44c1-acc9-0fe5748500d1",
   "metadata": {},
   "outputs": [
    {
     "data": {
      "text/plain": [
       "['hypen-words', 'long-ish']"
      ]
     },
     "execution_count": 107,
     "metadata": {},
     "output_type": "execute_result"
    }
   ],
   "source": [
    "pattern = r'[\\w]+-[\\w]+'\n",
    "re.findall(pattern,text)"
   ]
  },
  {
   "cell_type": "code",
   "execution_count": 111,
   "id": "2cd6c73e-d16a-4243-81c0-b72d8d6197e7",
   "metadata": {},
   "outputs": [],
   "source": [
    "text = 'Hello, would you like some catfish?'\n",
    "texttwo = \"Hello, wluld you like to take a catnap?\"\n",
    "textthree = \"Hello, have you seen this caterpillar?\""
   ]
  },
  {
   "cell_type": "code",
   "execution_count": 113,
   "id": "36291fb0-6bba-4be3-a1f5-04879fe38e7d",
   "metadata": {},
   "outputs": [
    {
     "data": {
      "text/plain": [
       "<re.Match object; span=(27, 34), match='catfish'>"
      ]
     },
     "execution_count": 113,
     "metadata": {},
     "output_type": "execute_result"
    }
   ],
   "source": [
    "re.search(r'cat(fish|nap|claw)',text)"
   ]
  },
  {
   "cell_type": "code",
   "execution_count": 115,
   "id": "0c56dedc-bef6-48b9-9247-3d06912814b2",
   "metadata": {},
   "outputs": [
    {
     "data": {
      "text/plain": [
       "<re.Match object; span=(32, 38), match='catnap'>"
      ]
     },
     "execution_count": 115,
     "metadata": {},
     "output_type": "execute_result"
    }
   ],
   "source": [
    "re.search(r'cat(fish|nap|claw)',texttwo)"
   ]
  },
  {
   "cell_type": "code",
   "execution_count": 121,
   "id": "3c523f59-7862-4d7f-ad16-3c374bffc055",
   "metadata": {},
   "outputs": [
    {
     "data": {
      "text/plain": [
       "<re.Match object; span=(26, 37), match='caterpillar'>"
      ]
     },
     "execution_count": 121,
     "metadata": {},
     "output_type": "execute_result"
    }
   ],
   "source": [
    "re.search(r'cat(fish|nap|erpillar)',textthree)"
   ]
  },
  {
   "cell_type": "code",
   "execution_count": null,
   "id": "b9caeac8-cf2f-4075-8f5a-eb028e1132d8",
   "metadata": {},
   "outputs": [],
   "source": []
  }
 ],
 "metadata": {
  "kernelspec": {
   "display_name": "Python [conda env:base] *",
   "language": "python",
   "name": "conda-base-py"
  },
  "language_info": {
   "codemirror_mode": {
    "name": "ipython",
    "version": 3
   },
   "file_extension": ".py",
   "mimetype": "text/x-python",
   "name": "python",
   "nbconvert_exporter": "python",
   "pygments_lexer": "ipython3",
   "version": "3.12.7"
  }
 },
 "nbformat": 4,
 "nbformat_minor": 5
}
