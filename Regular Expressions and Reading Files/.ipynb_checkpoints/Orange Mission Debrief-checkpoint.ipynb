{
 "cells": [
  {
   "cell_type": "code",
   "execution_count": 1,
   "id": "20e289a9-50ea-4362-a56b-d929257ed631",
   "metadata": {},
   "outputs": [],
   "source": [
    "import shutil"
   ]
  },
  {
   "cell_type": "code",
   "execution_count": 3,
   "id": "0ff53e5c-e0cf-4591-89a1-9bc0621bba1b",
   "metadata": {},
   "outputs": [],
   "source": [
    "# shutil.unpack_archive('','the_extracted_content','zip)"
   ]
  },
  {
   "cell_type": "code",
   "execution_count": 5,
   "id": "0f4f032e-3c83-48b6-acf4-13455af394d7",
   "metadata": {},
   "outputs": [],
   "source": [
    "import os"
   ]
  },
  {
   "cell_type": "code",
   "execution_count": 7,
   "id": "5491d4e3-49b7-4496-86c9-535432a08b61",
   "metadata": {},
   "outputs": [
    {
     "data": {
      "text/plain": [
       "['.ipynb_checkpoints',\n",
       " 'Additional Regex Syntax.ipynb',\n",
       " 'extracted_content',\n",
       " 'my_compressed__info.zip',\n",
       " 'new_file.txt',\n",
       " 'new_file2.txt',\n",
       " 'Orange Mission Debrief.ipynb',\n",
       " 'practice.txt',\n",
       " 'Regular Expressions Patterns.ipynb',\n",
       " 'Regular Expressions.ipynb',\n",
       " 'Zip Files in Python.ipynb']"
      ]
     },
     "execution_count": 7,
     "metadata": {},
     "output_type": "execute_result"
    }
   ],
   "source": [
    "os.listdir()"
   ]
  },
  {
   "cell_type": "code",
   "execution_count": 13,
   "id": "48b40d10-efde-484d-b5f9-054172185876",
   "metadata": {},
   "outputs": [],
   "source": [
    "# os.listdir('the_extracted_content')"
   ]
  },
  {
   "cell_type": "code",
   "execution_count": 17,
   "id": "ec9aad5c-59aa-4dfd-b737-1e1bd2d4b046",
   "metadata": {},
   "outputs": [],
   "source": [
    "# f = open('the_extracted_content/Instructions.txt','r')"
   ]
  },
  {
   "cell_type": "code",
   "execution_count": 19,
   "id": "7fe5686f-5cf8-4623-834d-fc4f7661842e",
   "metadata": {},
   "outputs": [],
   "source": [
    "# f.readlines()"
   ]
  },
  {
   "cell_type": "code",
   "execution_count": 25,
   "id": "ea5cf075-1907-420e-bf24-5fe74eb44bf0",
   "metadata": {},
   "outputs": [],
   "source": [
    "# for line in lines:\n",
    "#     print(line)"
   ]
  },
  {
   "cell_type": "code",
   "execution_count": 27,
   "id": "7a5d41d2-facc-4c60-ab13-b21df3f30e9a",
   "metadata": {},
   "outputs": [],
   "source": [
    "import re"
   ]
  },
  {
   "cell_type": "code",
   "execution_count": 29,
   "id": "acf8b337-4216-446f-a08b-bc4c05838ad6",
   "metadata": {},
   "outputs": [],
   "source": [
    "test_phrase1 = ''"
   ]
  },
  {
   "cell_type": "code",
   "execution_count": 31,
   "id": "3b057d31-46e9-427d-b8e9-3880f2176f7c",
   "metadata": {},
   "outputs": [],
   "source": [
    "test_phrase2 = ''"
   ]
  },
  {
   "cell_type": "code",
   "execution_count": 39,
   "id": "7ead32e9-ab86-416a-8c67-ce0398f00a71",
   "metadata": {},
   "outputs": [],
   "source": [
    "pattern = r'https://[-?/_=.\\w]+'"
   ]
  },
  {
   "cell_type": "code",
   "execution_count": 43,
   "id": "9955e603-8366-44f9-83fc-768e588cc11b",
   "metadata": {},
   "outputs": [
    {
     "data": {
      "text/plain": [
       "[]"
      ]
     },
     "execution_count": 43,
     "metadata": {},
     "output_type": "execute_result"
    }
   ],
   "source": [
    "re.findall(pattern,test_phrase1)"
   ]
  },
  {
   "cell_type": "code",
   "execution_count": 47,
   "id": "577032ba-2f86-4ff5-ad35-513e8079bb91",
   "metadata": {},
   "outputs": [
    {
     "data": {
      "text/plain": [
       "[]"
      ]
     },
     "execution_count": 47,
     "metadata": {},
     "output_type": "execute_result"
    }
   ],
   "source": [
    "re.findall(pattern,test_phrase2)"
   ]
  },
  {
   "cell_type": "code",
   "execution_count": 51,
   "id": "4ff9a54b-7fa7-4c7a-93b7-5cf3ccf0ad7a",
   "metadata": {},
   "outputs": [],
   "source": [
    "def search_for_pattern(file,patter=r'https://[-?/_=.\\w]+'):\n",
    "\n",
    "    f = open(file,'r')\n",
    "    text = f.read()\n",
    "\n",
    "    if re.search(pattern,text):\n",
    "        return re.search(pattern,text)\n",
    "    else:\n",
    "        return ''    "
   ]
  },
  {
   "cell_type": "code",
   "execution_count": 53,
   "id": "30274d07-3996-45e8-a4af-95c04c208aeb",
   "metadata": {},
   "outputs": [],
   "source": [
    "import os"
   ]
  },
  {
   "cell_type": "code",
   "execution_count": 55,
   "id": "6edfe133-4d02-421b-b7a1-b7249475b656",
   "metadata": {},
   "outputs": [],
   "source": [
    "results = []"
   ]
  },
  {
   "cell_type": "code",
   "execution_count": 59,
   "id": "b5f9997d-d2c3-4b5a-ad3f-f5c212e4eb9e",
   "metadata": {},
   "outputs": [],
   "source": [
    "# for folder, sub_folders, files in os.walk('the_extracted_content):\n",
    "    \n",
    "#     for f in files:\n",
    "\n",
    "#         full_path = folder+'\\\\'+f\n",
    "#         findings = search(full_path)\n",
    "#         results.append(findings)"
   ]
  },
  {
   "cell_type": "code",
   "execution_count": 61,
   "id": "7ba7c4f6-91e6-40cf-8f6f-eb8bd1222369",
   "metadata": {},
   "outputs": [],
   "source": [
    "# len(results)"
   ]
  },
  {
   "cell_type": "code",
   "execution_count": 63,
   "id": "7cea662c-3d1b-462a-b6dd-9c4a24895463",
   "metadata": {},
   "outputs": [],
   "source": [
    "# results[:10]"
   ]
  },
  {
   "cell_type": "code",
   "execution_count": 65,
   "id": "64b63f7a-fcaf-4da4-b3e7-32389fd39f19",
   "metadata": {},
   "outputs": [],
   "source": [
    "# for r in results:\n",
    "#     if r !='':\n",
    "#         print(r.group())"
   ]
  },
  {
   "cell_type": "code",
   "execution_count": null,
   "id": "41d6cecb-dabe-4978-883e-e3706be7f227",
   "metadata": {},
   "outputs": [],
   "source": []
  }
 ],
 "metadata": {
  "kernelspec": {
   "display_name": "Python [conda env:base] *",
   "language": "python",
   "name": "conda-base-py"
  },
  "language_info": {
   "codemirror_mode": {
    "name": "ipython",
    "version": 3
   },
   "file_extension": ".py",
   "mimetype": "text/x-python",
   "name": "python",
   "nbconvert_exporter": "python",
   "pygments_lexer": "ipython3",
   "version": "3.12.7"
  }
 },
 "nbformat": 4,
 "nbformat_minor": 5
}
