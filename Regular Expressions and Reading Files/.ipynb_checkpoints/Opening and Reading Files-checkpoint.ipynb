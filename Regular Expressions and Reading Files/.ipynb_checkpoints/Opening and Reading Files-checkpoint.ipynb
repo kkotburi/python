{
 "cells": [
  {
   "cell_type": "code",
   "execution_count": 3,
   "id": "f1b9428e-fc37-4e74-bf29-ccb58c6a356f",
   "metadata": {},
   "outputs": [],
   "source": [
    "f = open('practice.txt','w+')"
   ]
  },
  {
   "cell_type": "code",
   "execution_count": 7,
   "id": "3ebf54f3-e0a2-46b3-9b24-908c41b5a0aa",
   "metadata": {},
   "outputs": [
    {
     "data": {
      "text/plain": [
       "9"
      ]
     },
     "execution_count": 7,
     "metadata": {},
     "output_type": "execute_result"
    }
   ],
   "source": [
    "f.write('test line')"
   ]
  },
  {
   "cell_type": "code",
   "execution_count": 9,
   "id": "3ccde2bb-6fb1-41f2-a4c5-1459dfdca13e",
   "metadata": {},
   "outputs": [],
   "source": [
    "f.close()"
   ]
  },
  {
   "cell_type": "code",
   "execution_count": 11,
   "id": "5dfd98ad-5f15-4147-a0bf-afc6b5e1d112",
   "metadata": {},
   "outputs": [],
   "source": [
    "import os"
   ]
  },
  {
   "cell_type": "code",
   "execution_count": 13,
   "id": "97913d73-ca37-47ff-9195-445661887062",
   "metadata": {},
   "outputs": [
    {
     "data": {
      "text/plain": [
       "'C:\\\\Users\\\\user\\\\Desktop\\\\20250123 python\\\\Regular Expressions and Reading Files'"
      ]
     },
     "execution_count": 13,
     "metadata": {},
     "output_type": "execute_result"
    }
   ],
   "source": [
    "os.getcwd()"
   ]
  },
  {
   "cell_type": "code",
   "execution_count": 21,
   "id": "eccf73ce-faad-4952-91d7-a7adbb19f768",
   "metadata": {},
   "outputs": [
    {
     "data": {
      "text/plain": [
       "['.ipynb_checkpoints',\n",
       " 'Additional Regex Syntax.ipynb',\n",
       " 'Opening and Reading Files.ipynb',\n",
       " 'practice.txt',\n",
       " 'Regular Expressions Patterns.ipynb',\n",
       " 'Regular Expressions.ipynb']"
      ]
     },
     "execution_count": 21,
     "metadata": {},
     "output_type": "execute_result"
    }
   ],
   "source": [
    "os.listdir()"
   ]
  },
  {
   "cell_type": "code",
   "execution_count": 23,
   "id": "e84adb7c-4cce-4f24-ae52-1db42d459920",
   "metadata": {},
   "outputs": [
    {
     "data": {
      "text/plain": [
       "['All Users', 'Default', 'Default User', 'desktop.ini', 'Public', 'user']"
      ]
     },
     "execution_count": 23,
     "metadata": {},
     "output_type": "execute_result"
    }
   ],
   "source": [
    "os.listdir('C:\\\\Users')"
   ]
  },
  {
   "cell_type": "code",
   "execution_count": 25,
   "id": "7e987384-209c-4745-8e8c-d03bfb524c14",
   "metadata": {},
   "outputs": [],
   "source": [
    "import shutil"
   ]
  },
  {
   "cell_type": "code",
   "execution_count": 27,
   "id": "f2cf3e66-774b-4a8c-926b-3c48d952ddef",
   "metadata": {},
   "outputs": [],
   "source": [
    "# shutil.move(from,to)"
   ]
  },
  {
   "cell_type": "code",
   "execution_count": 29,
   "id": "3dd8a973-a7eb-4e85-b747-66b4f51b41cb",
   "metadata": {},
   "outputs": [],
   "source": [
    "# shutil.move('',os.getcwd())"
   ]
  },
  {
   "cell_type": "code",
   "execution_count": null,
   "id": "3ea8b21b-31f4-4eec-9e45-c0e7c5cb2a3a",
   "metadata": {},
   "outputs": [],
   "source": []
  },
  {
   "cell_type": "code",
   "execution_count": 36,
   "id": "3635ae95-ba65-4381-ab5c-a47898846c9b",
   "metadata": {},
   "outputs": [],
   "source": [
    "# os.unlink(path)"
   ]
  },
  {
   "cell_type": "code",
   "execution_count": 38,
   "id": "b901b89f-22c3-4b7d-b979-23f0598466b2",
   "metadata": {},
   "outputs": [],
   "source": [
    "# os.rmdir(path)"
   ]
  },
  {
   "cell_type": "code",
   "execution_count": 40,
   "id": "4957109a-ec37-4363-8eb5-5cd2f19daece",
   "metadata": {},
   "outputs": [],
   "source": [
    "# shutil.rmtree(path)"
   ]
  },
  {
   "cell_type": "code",
   "execution_count": 42,
   "id": "328a0091-d61b-457e-bfa9-0c5ad4f342ae",
   "metadata": {},
   "outputs": [
    {
     "name": "stdout",
     "output_type": "stream",
     "text": [
      "Requirement already satisfied: send2trash in c:\\users\\user\\anaconda3\\lib\\site-packages (1.8.2)\n"
     ]
    }
   ],
   "source": [
    "!pip install send2trash"
   ]
  },
  {
   "cell_type": "code",
   "execution_count": 44,
   "id": "f649b74d-2631-4fc7-920f-dce7a050dce9",
   "metadata": {},
   "outputs": [],
   "source": [
    "import send2trash"
   ]
  },
  {
   "cell_type": "code",
   "execution_count": 46,
   "id": "4f127880-ca60-4689-a0cc-11630c884c06",
   "metadata": {},
   "outputs": [
    {
     "data": {
      "text/plain": [
       "['.ipynb_checkpoints',\n",
       " 'Additional Regex Syntax.ipynb',\n",
       " 'Opening and Reading Files.ipynb',\n",
       " 'practice.txt',\n",
       " 'Regular Expressions Patterns.ipynb',\n",
       " 'Regular Expressions.ipynb']"
      ]
     },
     "execution_count": 46,
     "metadata": {},
     "output_type": "execute_result"
    }
   ],
   "source": [
    "os.listdir()"
   ]
  },
  {
   "cell_type": "code",
   "execution_count": 48,
   "id": "fe33048a-dfa2-441a-9f27-6c6529b70d24",
   "metadata": {},
   "outputs": [],
   "source": [
    "send2trash.send2trash('practice.txt')"
   ]
  },
  {
   "cell_type": "code",
   "execution_count": 83,
   "id": "c490ec6a-1e16-4362-be6c-a51bee452888",
   "metadata": {},
   "outputs": [],
   "source": [
    "my_path = 'C:\\\\Users\\\\user\\\\Desktop\\\\20250123 python\\\\Regular Expressions and Reading Files'"
   ]
  },
  {
   "cell_type": "code",
   "execution_count": 85,
   "id": "a7060a97-a380-4213-a612-3f0ceb1d64d6",
   "metadata": {},
   "outputs": [],
   "source": [
    "# my_path = os.getcwd()"
   ]
  },
  {
   "cell_type": "code",
   "execution_count": 107,
   "id": "4ca1e0cd-4370-4281-afcf-649475fc0b95",
   "metadata": {},
   "outputs": [
    {
     "name": "stdout",
     "output_type": "stream",
     "text": [
      "Currently looking at folder: \n",
      "C:\\Users\\user\\Desktop\\20250123 python\\Regular Expressions and Reading Files\n",
      "Subfolders here are: \n",
      ".ipynb_checkpoints\n",
      "\n",
      "\n",
      "Additional Regex Syntax.ipynb\n",
      "Opening and Reading Files.ipynb\n",
      "practic.txt\n",
      "practice.txt\n",
      "Regular Expressions Patterns.ipynb\n",
      "Regular Expressions.ipynb\n",
      "\n",
      "\n",
      "Currently looking at folder: \n",
      "C:\\Users\\user\\Desktop\\20250123 python\\Regular Expressions and Reading Files\\.ipynb_checkpoints\n",
      "Subfolders here are: \n",
      "\n",
      "\n",
      "Additional Regex Syntax-checkpoint.ipynb\n",
      "Opening and Reading Files-checkpoint.ipynb\n",
      "Regular Expressions Patterns-checkpoint.ipynb\n",
      "Regular Expressions-checkpoint.ipynb\n",
      "\n",
      "\n"
     ]
    }
   ],
   "source": [
    "for folder , sub_folders , files in os.walk(my_path):\n",
    "\n",
    "    print('Currently looking at folder: ')\n",
    "    print(folder)\n",
    "    print('Subfolders here are: ')\n",
    "\n",
    "    for sub_folder in sub_folders:\n",
    "        print(sub_folder)\n",
    "\n",
    "    print('\\n')\n",
    "\n",
    "    for f in files:\n",
    "        print(f)\n",
    "        # pass\n",
    "    \n",
    "    print('\\n')"
   ]
  },
  {
   "cell_type": "code",
   "execution_count": null,
   "id": "affcfa47-1599-4412-9ccc-18f808d92617",
   "metadata": {},
   "outputs": [],
   "source": []
  }
 ],
 "metadata": {
  "kernelspec": {
   "display_name": "Python [conda env:base] *",
   "language": "python",
   "name": "conda-base-py"
  },
  "language_info": {
   "codemirror_mode": {
    "name": "ipython",
    "version": 3
   },
   "file_extension": ".py",
   "mimetype": "text/x-python",
   "name": "python",
   "nbconvert_exporter": "python",
   "pygments_lexer": "ipython3",
   "version": "3.12.7"
  }
 },
 "nbformat": 4,
 "nbformat_minor": 5
}
