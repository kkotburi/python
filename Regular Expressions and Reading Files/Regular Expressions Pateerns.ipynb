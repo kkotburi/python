{
 "cells": [
  {
   "cell_type": "code",
   "execution_count": 23,
   "id": "cd99d586-9378-456c-a117-7b5df89cd5f7",
   "metadata": {},
   "outputs": [],
   "source": [
    "import re"
   ]
  },
  {
   "cell_type": "code",
   "execution_count": 25,
   "id": "028fd1ac-556b-4099-beb2-cec4630761c5",
   "metadata": {},
   "outputs": [],
   "source": [
    "text = 'My phone number is 408555-1234'"
   ]
  },
  {
   "cell_type": "code",
   "execution_count": 27,
   "id": "68267eb5-2a73-4b87-9fe0-212969d687f7",
   "metadata": {},
   "outputs": [],
   "source": [
    "phone = re.search('408-555-1234',text)"
   ]
  },
  {
   "cell_type": "code",
   "execution_count": 29,
   "id": "781a8dad-ba87-4ae1-a275-2696462d3113",
   "metadata": {},
   "outputs": [],
   "source": [
    "phone"
   ]
  },
  {
   "cell_type": "code",
   "execution_count": null,
   "id": "ac72edfc-983a-44bf-be1c-99a467597874",
   "metadata": {},
   "outputs": [],
   "source": []
  }
 ],
 "metadata": {
  "kernelspec": {
   "display_name": "Python [conda env:base] *",
   "language": "python",
   "name": "conda-base-py"
  },
  "language_info": {
   "codemirror_mode": {
    "name": "ipython",
    "version": 3
   },
   "file_extension": ".py",
   "mimetype": "text/x-python",
   "name": "python",
   "nbconvert_exporter": "python",
   "pygments_lexer": "ipython3",
   "version": "3.12.7"
  }
 },
 "nbformat": 4,
 "nbformat_minor": 5
}
