{
 "cells": [
  {
   "cell_type": "code",
   "execution_count": null,
   "id": "7291ef4b-054e-4a10-9a8a-f23f8c981b87",
   "metadata": {},
   "outputs": [],
   "source": []
  }
 ],
 "metadata": {
  "kernelspec": {
   "display_name": "",
   "name": ""
  },
  "language_info": {
   "name": ""
  }
 },
 "nbformat": 4,
 "nbformat_minor": 5
}
