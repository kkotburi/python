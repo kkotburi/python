{
 "cells": [
  {
   "cell_type": "code",
   "execution_count": 8,
   "id": "5a7a2b62-ffce-4aca-b469-1b05564fbd7c",
   "metadata": {},
   "outputs": [],
   "source": [
    "f = open('new_file2.txt','w+')\n",
    "f.write('here is some text')\n",
    "f.close()"
   ]
  },
  {
   "cell_type": "code",
   "execution_count": 12,
   "id": "df101c74-a116-47f5-8f01-5832bb5d9c7b",
   "metadata": {},
   "outputs": [],
   "source": [
    "import zipfile"
   ]
  },
  {
   "cell_type": "code",
   "execution_count": 14,
   "id": "93f20347-50d2-47b0-8c54-16d7c06bd376",
   "metadata": {},
   "outputs": [],
   "source": [
    "comp_file = zipfile.ZipFile('my_compressed__info.zip','w')"
   ]
  },
  {
   "cell_type": "code",
   "execution_count": 22,
   "id": "3db9c2f5-b04c-4923-8c30-af6454308447",
   "metadata": {},
   "outputs": [],
   "source": [
    "comp_file.write('new_file.txt',compress_type=zipfile.ZIP_DEFLATED)"
   ]
  },
  {
   "cell_type": "code",
   "execution_count": 24,
   "id": "5a8c7154-294e-4383-83f0-af85272a0639",
   "metadata": {},
   "outputs": [],
   "source": [
    "comp_file.write('new_file2.txt',compress_type=zipfile.ZIP_DEFLATED)"
   ]
  },
  {
   "cell_type": "code",
   "execution_count": 26,
   "id": "595856b9-575b-4207-9269-bb6a0caf6460",
   "metadata": {},
   "outputs": [],
   "source": [
    "comp_file.close()"
   ]
  },
  {
   "cell_type": "code",
   "execution_count": null,
   "id": "a0019e4f-feb6-4620-a863-fd18fa67eacd",
   "metadata": {},
   "outputs": [],
   "source": []
  }
 ],
 "metadata": {
  "kernelspec": {
   "display_name": "Python [conda env:base] *",
   "language": "python",
   "name": "conda-base-py"
  },
  "language_info": {
   "codemirror_mode": {
    "name": "ipython",
    "version": 3
   },
   "file_extension": ".py",
   "mimetype": "text/x-python",
   "name": "python",
   "nbconvert_exporter": "python",
   "pygments_lexer": "ipython3",
   "version": "3.12.7"
  }
 },
 "nbformat": 4,
 "nbformat_minor": 5
}
