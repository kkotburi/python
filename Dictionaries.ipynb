{
 "cells": [
  {
   "cell_type": "code",
   "execution_count": null,
   "id": "8bceff8b-128f-44b4-b159-c2683a93595d",
   "metadata": {},
   "outputs": [],
   "source": []
  }
 ],
 "metadata": {
  "kernelspec": {
   "display_name": "",
   "name": ""
  },
  "language_info": {
   "name": ""
  }
 },
 "nbformat": 4,
 "nbformat_minor": 5
}
