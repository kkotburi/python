{
 "cells": [
  {
   "cell_type": "code",
   "execution_count": 1,
   "id": "8bceff8b-128f-44b4-b159-c2683a93595d",
   "metadata": {},
   "outputs": [],
   "source": [
    "d = {'key1':'value1','key2':'value2'}"
   ]
  },
  {
   "cell_type": "code",
   "execution_count": 3,
   "id": "3b9d8913-a158-4ddd-ae14-85650d412a85",
   "metadata": {},
   "outputs": [
    {
     "data": {
      "text/plain": [
       "'value1'"
      ]
     },
     "execution_count": 3,
     "metadata": {},
     "output_type": "execute_result"
    }
   ],
   "source": [
    "d['key1']"
   ]
  },
  {
   "cell_type": "code",
   "execution_count": 5,
   "id": "7d52da1a-4754-4222-9603-82474a1067e6",
   "metadata": {},
   "outputs": [
    {
     "data": {
      "text/plain": [
       "'value2'"
      ]
     },
     "execution_count": 5,
     "metadata": {},
     "output_type": "execute_result"
    }
   ],
   "source": [
    "d['key2']"
   ]
  },
  {
   "cell_type": "code",
   "execution_count": 7,
   "id": "e317ac3e-272f-47f2-b292-a45ff33569a2",
   "metadata": {},
   "outputs": [],
   "source": [
    "d['new_key'] = 'new item'"
   ]
  },
  {
   "cell_type": "code",
   "execution_count": 9,
   "id": "d497245e-81cb-4403-bb4e-5f66b4139796",
   "metadata": {},
   "outputs": [
    {
     "data": {
      "text/plain": [
       "{'key1': 'value1', 'key2': 'value2', 'new_key': 'new item'}"
      ]
     },
     "execution_count": 9,
     "metadata": {},
     "output_type": "execute_result"
    }
   ],
   "source": [
    "d"
   ]
  },
  {
   "cell_type": "code",
   "execution_count": 4,
   "id": "3cca3e84-5840-4d23-ac41-d3e1a631000f",
   "metadata": {},
   "outputs": [],
   "source": [
    "d = {'a':1,'z':2}"
   ]
  },
  {
   "cell_type": "code",
   "execution_count": 6,
   "id": "9ea8b6f1-0f26-4a01-9536-58867c424090",
   "metadata": {},
   "outputs": [
    {
     "data": {
      "text/plain": [
       "{'a': 1, 'z': 2}"
      ]
     },
     "execution_count": 6,
     "metadata": {},
     "output_type": "execute_result"
    }
   ],
   "source": [
    "d"
   ]
  },
  {
   "cell_type": "code",
   "execution_count": 8,
   "id": "c1642bb2-c5ab-4c61-ac71-25e19b88c8be",
   "metadata": {},
   "outputs": [],
   "source": [
    "d['new'] = 0"
   ]
  },
  {
   "cell_type": "code",
   "execution_count": 10,
   "id": "ac033c39-2862-4031-a959-8de422473219",
   "metadata": {},
   "outputs": [
    {
     "data": {
      "text/plain": [
       "{'a': 1, 'z': 2, 'new': 0}"
      ]
     },
     "execution_count": 10,
     "metadata": {},
     "output_type": "execute_result"
    }
   ],
   "source": [
    "d"
   ]
  },
  {
   "cell_type": "code",
   "execution_count": 12,
   "id": "e8883ef8-7e8b-49c6-a36a-ff48b13c8a7e",
   "metadata": {},
   "outputs": [],
   "source": [
    "d = {'k1':10,'k2':'stringy','k3':[1,2,3],'k4':{'inside':100}}"
   ]
  },
  {
   "cell_type": "code",
   "execution_count": 14,
   "id": "2591c2a1-c898-477b-afdf-bc9d89412df4",
   "metadata": {},
   "outputs": [
    {
     "data": {
      "text/plain": [
       "10"
      ]
     },
     "execution_count": 14,
     "metadata": {},
     "output_type": "execute_result"
    }
   ],
   "source": [
    "d['k1']"
   ]
  },
  {
   "cell_type": "code",
   "execution_count": 16,
   "id": "16836991-4cd6-4489-836f-87da516cfe13",
   "metadata": {},
   "outputs": [
    {
     "data": {
      "text/plain": [
       "'stringy'"
      ]
     },
     "execution_count": 16,
     "metadata": {},
     "output_type": "execute_result"
    }
   ],
   "source": [
    "d['k2']"
   ]
  },
  {
   "cell_type": "code",
   "execution_count": 18,
   "id": "4e4a0287-8fce-4d12-bf2e-11938bab1164",
   "metadata": {},
   "outputs": [
    {
     "data": {
      "text/plain": [
       "[1, 2, 3]"
      ]
     },
     "execution_count": 18,
     "metadata": {},
     "output_type": "execute_result"
    }
   ],
   "source": [
    "d['k3']"
   ]
  },
  {
   "cell_type": "code",
   "execution_count": 20,
   "id": "b1ee103f-2255-4b04-8717-abf55d2eedef",
   "metadata": {},
   "outputs": [
    {
     "data": {
      "text/plain": [
       "100"
      ]
     },
     "execution_count": 20,
     "metadata": {},
     "output_type": "execute_result"
    }
   ],
   "source": [
    "d['k4']['inside']"
   ]
  },
  {
   "cell_type": "code",
   "execution_count": 22,
   "id": "d4c38d0f-8c21-44b1-8908-5f594468e530",
   "metadata": {},
   "outputs": [
    {
     "ename": "KeyError",
     "evalue": "'oops'",
     "output_type": "error",
     "traceback": [
      "\u001b[1;31m---------------------------------------------------------------------------\u001b[0m",
      "\u001b[1;31mKeyError\u001b[0m                                  Traceback (most recent call last)",
      "Cell \u001b[1;32mIn[22], line 1\u001b[0m\n\u001b[1;32m----> 1\u001b[0m d[\u001b[38;5;124m'\u001b[39m\u001b[38;5;124moops\u001b[39m\u001b[38;5;124m'\u001b[39m]\n",
      "\u001b[1;31mKeyError\u001b[0m: 'oops'"
     ]
    }
   ],
   "source": [
    "d['oops']"
   ]
  },
  {
   "cell_type": "code",
   "execution_count": 24,
   "id": "4b8224a5-76e1-4eb4-b62e-3d186abd541d",
   "metadata": {},
   "outputs": [],
   "source": [
    "code_names = {\"obama\":'renegade',\n",
    "              'bush':'trailblazer',\n",
    "              'reagan':'rawhide',\n",
    "              'ford':'passkey'}"
   ]
  },
  {
   "cell_type": "code",
   "execution_count": 26,
   "id": "2eba8571-f3ab-4313-976a-516b7dd10704",
   "metadata": {},
   "outputs": [
    {
     "data": {
      "text/plain": [
       "'passkey'"
      ]
     },
     "execution_count": 26,
     "metadata": {},
     "output_type": "execute_result"
    }
   ],
   "source": [
    "code_names['ford']"
   ]
  },
  {
   "cell_type": "code",
   "execution_count": 30,
   "id": "a397f250-aaf2-4906-adde-22787dc6ee9d",
   "metadata": {},
   "outputs": [],
   "source": [
    "pop = {'USA':323, 'Germany':83,'India':1324}"
   ]
  },
  {
   "cell_type": "code",
   "execution_count": 32,
   "id": "1b2379de-d2ee-4d67-a93b-8f56b0e2a005",
   "metadata": {},
   "outputs": [
    {
     "data": {
      "text/plain": [
       "323"
      ]
     },
     "execution_count": 32,
     "metadata": {},
     "output_type": "execute_result"
    }
   ],
   "source": [
    "pop['USA']"
   ]
  },
  {
   "cell_type": "code",
   "execution_count": 34,
   "id": "66ed97a1-9025-4f44-9fdb-dacb37f7c538",
   "metadata": {},
   "outputs": [
    {
     "data": {
      "text/plain": [
       "dict_keys(['obama', 'bush', 'reagan', 'ford'])"
      ]
     },
     "execution_count": 34,
     "metadata": {},
     "output_type": "execute_result"
    }
   ],
   "source": [
    "code_names.keys()"
   ]
  },
  {
   "cell_type": "code",
   "execution_count": 36,
   "id": "e577b04b-31d7-4361-8346-2c91e16f1a0a",
   "metadata": {},
   "outputs": [
    {
     "data": {
      "text/plain": [
       "dict_values(['renegade', 'trailblazer', 'rawhide', 'passkey'])"
      ]
     },
     "execution_count": 36,
     "metadata": {},
     "output_type": "execute_result"
    }
   ],
   "source": [
    "code_names.values()"
   ]
  },
  {
   "cell_type": "code",
   "execution_count": null,
   "id": "1af0b275-c909-48f0-8bd2-9300645046c1",
   "metadata": {},
   "outputs": [],
   "source": [
    "code_names.items()"
   ]
  }
 ],
 "metadata": {
  "kernelspec": {
   "display_name": "Python [conda env:base] *",
   "language": "python",
   "name": "conda-base-py"
  },
  "language_info": {
   "codemirror_mode": {
    "name": "ipython",
    "version": 3
   },
   "file_extension": ".py",
   "mimetype": "text/x-python",
   "name": "python",
   "nbconvert_exporter": "python",
   "pygments_lexer": "ipython3",
   "version": "3.12.7"
  }
 },
 "nbformat": 4,
 "nbformat_minor": 5
}
